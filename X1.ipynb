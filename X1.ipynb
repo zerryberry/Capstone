{
 "cells": [
  {
   "cell_type": "markdown",
   "metadata": {},
   "source": [
    "# This Project has the following sub-sections\n",
    "\n",
    "### 1. Showing the map of Toronto\n",
    "\n",
    "### 2. Fetching each neighborhoods of borough Scarborough and plotting them\n",
    "\n",
    "### 3. Finding and sorting out 4 hotels in the borough \n",
    "\n",
    "### 4. Finding out the nearest cluster of - Coffee shop, fast food place, restraunt and a fancy dinner place- which              is least distance from hotel, and also, least distance from each other \n",
    "\n",
    "### 5. Analysing and selecting the best hotel in the borough\n",
    "\n",
    "### 6. Finding out the user rating of every place there\n",
    "\n",
    "### 7. Making a list of suggestions of the venues around the hotel with their respective distances\n",
    "\n",
    "### 8. Bonus point: Recommending a couple of tour/travel spot nearby the hotel. "
   ]
  },
  {
   "cell_type": "markdown",
   "metadata": {},
   "source": [
    "# 1"
   ]
  },
  {
   "cell_type": "code",
   "execution_count": 2,
   "metadata": {},
   "outputs": [
    {
     "name": "stdout",
     "output_type": "stream",
     "text": [
      "Collecting package metadata (current_repodata.json): ...working... done\n",
      "Solving environment: ...working... done\n",
      "\n",
      "# All requested packages already installed.\n",
      "\n",
      "Collecting package metadata (current_repodata.json): ...working... done\n",
      "Solving environment: ...working... done\n",
      "\n",
      "# All requested packages already installed.\n",
      "\n",
      "Libraries imported.\n"
     ]
    }
   ],
   "source": [
    "import numpy as np\n",
    "\n",
    "import pandas as pd\n",
    "pd.set_option('display.max_columns', None)\n",
    "pd.set_option('display.max_rows', None)\n",
    "\n",
    "import json # library to handle JSON files\n",
    "\n",
    "!conda install -c conda-forge geopy --yes\n",
    "from geopy.geocoders import Nominatim\n",
    "\n",
    "import requests \n",
    "from pandas.io.json import json_normalize\n",
    "\n",
    "import matplotlib.cm as cm\n",
    "import matplotlib.colors as colors\n",
    "\n",
    "from sklearn.cluster import KMeans\n",
    "\n",
    "!conda install -c conda-forge folium=0.5.0 --yes\n",
    "import folium # map rendering library\n",
    "\n",
    "print('Libraries imported.')"
   ]
  },
  {
   "cell_type": "code",
   "execution_count": 2,
   "metadata": {},
   "outputs": [],
   "source": [
    "import pandas as pd\n",
    "d1 = pd.read_html('https://en.wikipedia.org/wiki/List_of_postal_codes_of_Canada:_M')[0]"
   ]
  },
  {
   "cell_type": "code",
   "execution_count": 11,
   "metadata": {},
   "outputs": [
    {
     "data": {
      "text/plain": [
       "(103, 3)"
      ]
     },
     "execution_count": 11,
     "metadata": {},
     "output_type": "execute_result"
    }
   ],
   "source": [
    "d1.shape"
   ]
  },
  {
   "cell_type": "code",
   "execution_count": 4,
   "metadata": {},
   "outputs": [
    {
     "data": {
      "text/plain": [
       "(103, 3)"
      ]
     },
     "execution_count": 4,
     "metadata": {},
     "output_type": "execute_result"
    }
   ],
   "source": [
    "d1= d1[d1.Borough != 'Not assigned']\n",
    "d1.shape"
   ]
  },
  {
   "cell_type": "code",
   "execution_count": 5,
   "metadata": {},
   "outputs": [],
   "source": [
    "d1= d1.replace(to_replace =\"/\", \n",
    "                 value =\",\", regex=True) "
   ]
  },
  {
   "cell_type": "code",
   "execution_count": 9,
   "metadata": {},
   "outputs": [
    {
     "data": {
      "text/plain": [
       "Postal code     0\n",
       "Borough         0\n",
       "Neighborhood    0\n",
       "dtype: int64"
      ]
     },
     "execution_count": 9,
     "metadata": {},
     "output_type": "execute_result"
    }
   ],
   "source": [
    "d1.isnull().sum()"
   ]
  },
  {
   "cell_type": "code",
   "execution_count": 10,
   "metadata": {},
   "outputs": [],
   "source": [
    "d1[\"Neighborhood\"].fillna(d1[\"Borough\"], inplace = True) "
   ]
  },
  {
   "cell_type": "code",
   "execution_count": 12,
   "metadata": {},
   "outputs": [],
   "source": [
    "d1.sort_values('Postal code', ascending = True, inplace= True)"
   ]
  },
  {
   "cell_type": "code",
   "execution_count": 15,
   "metadata": {},
   "outputs": [],
   "source": [
    "d1.reset_index(drop=True, inplace=True)"
   ]
  },
  {
   "cell_type": "code",
   "execution_count": 16,
   "metadata": {},
   "outputs": [
    {
     "data": {
      "text/html": [
       "<div>\n",
       "<style scoped>\n",
       "    .dataframe tbody tr th:only-of-type {\n",
       "        vertical-align: middle;\n",
       "    }\n",
       "\n",
       "    .dataframe tbody tr th {\n",
       "        vertical-align: top;\n",
       "    }\n",
       "\n",
       "    .dataframe thead th {\n",
       "        text-align: right;\n",
       "    }\n",
       "</style>\n",
       "<table border=\"1\" class=\"dataframe\">\n",
       "  <thead>\n",
       "    <tr style=\"text-align: right;\">\n",
       "      <th></th>\n",
       "      <th>Postal code</th>\n",
       "      <th>Borough</th>\n",
       "      <th>Neighborhood</th>\n",
       "    </tr>\n",
       "  </thead>\n",
       "  <tbody>\n",
       "    <tr>\n",
       "      <th>0</th>\n",
       "      <td>M1B</td>\n",
       "      <td>Scarborough</td>\n",
       "      <td>Malvern , Rouge</td>\n",
       "    </tr>\n",
       "    <tr>\n",
       "      <th>1</th>\n",
       "      <td>M1C</td>\n",
       "      <td>Scarborough</td>\n",
       "      <td>Rouge Hill , Port Union , Highland Creek</td>\n",
       "    </tr>\n",
       "    <tr>\n",
       "      <th>2</th>\n",
       "      <td>M1E</td>\n",
       "      <td>Scarborough</td>\n",
       "      <td>Guildwood , Morningside , West Hill</td>\n",
       "    </tr>\n",
       "    <tr>\n",
       "      <th>3</th>\n",
       "      <td>M1G</td>\n",
       "      <td>Scarborough</td>\n",
       "      <td>Woburn</td>\n",
       "    </tr>\n",
       "    <tr>\n",
       "      <th>4</th>\n",
       "      <td>M1H</td>\n",
       "      <td>Scarborough</td>\n",
       "      <td>Cedarbrae</td>\n",
       "    </tr>\n",
       "  </tbody>\n",
       "</table>\n",
       "</div>"
      ],
      "text/plain": [
       "  Postal code      Borough                              Neighborhood\n",
       "0         M1B  Scarborough                           Malvern , Rouge\n",
       "1         M1C  Scarborough  Rouge Hill , Port Union , Highland Creek\n",
       "2         M1E  Scarborough       Guildwood , Morningside , West Hill\n",
       "3         M1G  Scarborough                                    Woburn\n",
       "4         M1H  Scarborough                                 Cedarbrae"
      ]
     },
     "execution_count": 16,
     "metadata": {},
     "output_type": "execute_result"
    }
   ],
   "source": [
    "d1.head()"
   ]
  },
  {
   "cell_type": "code",
   "execution_count": 17,
   "metadata": {},
   "outputs": [],
   "source": [
    "dd= pd.read_csv('Geospatial_Coordinates.csv')"
   ]
  },
  {
   "cell_type": "code",
   "execution_count": 18,
   "metadata": {},
   "outputs": [],
   "source": [
    "df= pd.concat([d1, dd], axis=1)"
   ]
  },
  {
   "cell_type": "code",
   "execution_count": 22,
   "metadata": {},
   "outputs": [
    {
     "data": {
      "text/html": [
       "<div>\n",
       "<style scoped>\n",
       "    .dataframe tbody tr th:only-of-type {\n",
       "        vertical-align: middle;\n",
       "    }\n",
       "\n",
       "    .dataframe tbody tr th {\n",
       "        vertical-align: top;\n",
       "    }\n",
       "\n",
       "    .dataframe thead th {\n",
       "        text-align: right;\n",
       "    }\n",
       "</style>\n",
       "<table border=\"1\" class=\"dataframe\">\n",
       "  <thead>\n",
       "    <tr style=\"text-align: right;\">\n",
       "      <th></th>\n",
       "      <th>Postal code</th>\n",
       "      <th>Borough</th>\n",
       "      <th>Neighborhood</th>\n",
       "      <th>Latitude</th>\n",
       "      <th>Longitude</th>\n",
       "    </tr>\n",
       "  </thead>\n",
       "  <tbody>\n",
       "    <tr>\n",
       "      <th>0</th>\n",
       "      <td>M1B</td>\n",
       "      <td>Scarborough</td>\n",
       "      <td>Malvern , Rouge</td>\n",
       "      <td>43.806686</td>\n",
       "      <td>-79.194353</td>\n",
       "    </tr>\n",
       "  </tbody>\n",
       "</table>\n",
       "</div>"
      ],
      "text/plain": [
       "  Postal code      Borough     Neighborhood   Latitude  Longitude\n",
       "0         M1B  Scarborough  Malvern , Rouge  43.806686 -79.194353"
      ]
     },
     "execution_count": 22,
     "metadata": {},
     "output_type": "execute_result"
    }
   ],
   "source": [
    "df.head(1)"
   ]
  },
  {
   "cell_type": "code",
   "execution_count": 21,
   "metadata": {},
   "outputs": [],
   "source": [
    "df.drop(df.columns[[3]], axis= 1, inplace= True)"
   ]
  },
  {
   "cell_type": "code",
   "execution_count": 24,
   "metadata": {},
   "outputs": [
    {
     "data": {
      "text/plain": [
       "(103, 5)"
      ]
     },
     "execution_count": 24,
     "metadata": {},
     "output_type": "execute_result"
    }
   ],
   "source": [
    "df.shape"
   ]
  },
  {
   "cell_type": "code",
   "execution_count": 25,
   "metadata": {},
   "outputs": [
    {
     "name": "stdout",
     "output_type": "stream",
     "text": [
      "The geograpical coordinate of Toronto are 43.6534817, -79.3839347.\n"
     ]
    }
   ],
   "source": [
    "address = 'Toronto, CA'\n",
    "\n",
    "geolocator = Nominatim(user_agent=\"toronto\")\n",
    "location = geolocator.geocode(address)\n",
    "latitude = location.latitude\n",
    "longitude = location.longitude\n",
    "print('The geograpical coordinate of Toronto are {}, {}.'.format(latitude, longitude))"
   ]
  },
  {
   "cell_type": "markdown",
   "metadata": {},
   "source": [
    "# The map of Toronto"
   ]
  },
  {
   "cell_type": "code",
   "execution_count": 27,
   "metadata": {
    "scrolled": false
   },
   "outputs": [
    {
     "data": {
      "text/html": [
       "<div style=\"width:100%;\"><div style=\"position:relative;width:100%;height:0;padding-bottom:60%;\"><iframe src=\"about:blank\" style=\"position:absolute;width:100%;height:100%;left:0;top:0;border:none !important;\" data-html=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 onload=\"this.contentDocument.open();this.contentDocument.write(atob(this.getAttribute('data-html')));this.contentDocument.close();\" allowfullscreen webkitallowfullscreen mozallowfullscreen></iframe></div></div>"
      ],
      "text/plain": [
       "<folium.folium.Map at 0x2317d261668>"
      ]
     },
     "execution_count": 27,
     "metadata": {},
     "output_type": "execute_result"
    }
   ],
   "source": [
    "map_toronto = folium.Map(location=[latitude, longitude], zoom_start=10)\n",
    "\n",
    "for lat, lng, borough, neighborhood in zip(df['Latitude'], df['Longitude'], df['Borough'], df['Neighborhood']):\n",
    "    label = '{}, {}'.format(neighborhood, borough)\n",
    "    label = folium.Popup(label, parse_html=True)\n",
    "    folium.CircleMarker(\n",
    "        [lat, lng],\n",
    "        radius=5,\n",
    "        popup=label,\n",
    "        color='blue',\n",
    "        fill=True,\n",
    "        fill_color='#3186cc',\n",
    "        fill_opacity=0.7,\n",
    "        parse_html=False).add_to(map_toronto)  \n",
    "    \n",
    "map_toronto"
   ]
  },
  {
   "cell_type": "code",
   "execution_count": 7,
   "metadata": {},
   "outputs": [
    {
     "name": "stdout",
     "output_type": "stream",
     "text": [
      "Your credentails:\n",
      "CLIENT_ID: FXWG412PGZMV0OTDDNYEC2XP2TGWP1ZTH5JD1RCML2OL5CLK\n",
      "CLIENT_SECRET:RCZUNJDEY0MD0TH0KA5E3EDRLAF1T35JO5GSZNXQKZ0JX4PE\n"
     ]
    }
   ],
   "source": [
    "CLIENT_ID = 'FXWG412PGZMV0OTDDNYEC2XP2TGWP1ZTH5JD1RCML2OL5CLK' \n",
    "CLIENT_SECRET = 'RCZUNJDEY0MD0TH0KA5E3EDRLAF1T35JO5GSZNXQKZ0JX4PE' \n",
    "VERSION = '20180605' \n",
    "\n",
    "print('Your credentails:')\n",
    "print('CLIENT_ID: ' + CLIENT_ID)\n",
    "print('CLIENT_SECRET:' + CLIENT_SECRET)"
   ]
  },
  {
   "cell_type": "code",
   "execution_count": 31,
   "metadata": {},
   "outputs": [
    {
     "data": {
      "text/html": [
       "<div>\n",
       "<style scoped>\n",
       "    .dataframe tbody tr th:only-of-type {\n",
       "        vertical-align: middle;\n",
       "    }\n",
       "\n",
       "    .dataframe tbody tr th {\n",
       "        vertical-align: top;\n",
       "    }\n",
       "\n",
       "    .dataframe thead th {\n",
       "        text-align: right;\n",
       "    }\n",
       "</style>\n",
       "<table border=\"1\" class=\"dataframe\">\n",
       "  <thead>\n",
       "    <tr style=\"text-align: right;\">\n",
       "      <th></th>\n",
       "      <th>Postal code</th>\n",
       "      <th>Borough</th>\n",
       "      <th>Neighborhood</th>\n",
       "      <th>Latitude</th>\n",
       "      <th>Longitude</th>\n",
       "    </tr>\n",
       "  </thead>\n",
       "  <tbody>\n",
       "    <tr>\n",
       "      <th>0</th>\n",
       "      <td>M1B</td>\n",
       "      <td>Scarborough</td>\n",
       "      <td>Malvern , Rouge</td>\n",
       "      <td>43.806686</td>\n",
       "      <td>-79.194353</td>\n",
       "    </tr>\n",
       "    <tr>\n",
       "      <th>1</th>\n",
       "      <td>M1C</td>\n",
       "      <td>Scarborough</td>\n",
       "      <td>Rouge Hill , Port Union , Highland Creek</td>\n",
       "      <td>43.784535</td>\n",
       "      <td>-79.160497</td>\n",
       "    </tr>\n",
       "    <tr>\n",
       "      <th>2</th>\n",
       "      <td>M1E</td>\n",
       "      <td>Scarborough</td>\n",
       "      <td>Guildwood , Morningside , West Hill</td>\n",
       "      <td>43.763573</td>\n",
       "      <td>-79.188711</td>\n",
       "    </tr>\n",
       "    <tr>\n",
       "      <th>3</th>\n",
       "      <td>M1G</td>\n",
       "      <td>Scarborough</td>\n",
       "      <td>Woburn</td>\n",
       "      <td>43.770992</td>\n",
       "      <td>-79.216917</td>\n",
       "    </tr>\n",
       "    <tr>\n",
       "      <th>4</th>\n",
       "      <td>M1H</td>\n",
       "      <td>Scarborough</td>\n",
       "      <td>Cedarbrae</td>\n",
       "      <td>43.773136</td>\n",
       "      <td>-79.239476</td>\n",
       "    </tr>\n",
       "  </tbody>\n",
       "</table>\n",
       "</div>"
      ],
      "text/plain": [
       "  Postal code      Borough                              Neighborhood  \\\n",
       "0         M1B  Scarborough                           Malvern , Rouge   \n",
       "1         M1C  Scarborough  Rouge Hill , Port Union , Highland Creek   \n",
       "2         M1E  Scarborough       Guildwood , Morningside , West Hill   \n",
       "3         M1G  Scarborough                                    Woburn   \n",
       "4         M1H  Scarborough                                 Cedarbrae   \n",
       "\n",
       "    Latitude  Longitude  \n",
       "0  43.806686 -79.194353  \n",
       "1  43.784535 -79.160497  \n",
       "2  43.763573 -79.188711  \n",
       "3  43.770992 -79.216917  \n",
       "4  43.773136 -79.239476  "
      ]
     },
     "execution_count": 31,
     "metadata": {},
     "output_type": "execute_result"
    }
   ],
   "source": [
    "data = df[df['Borough'] == 'Scarborough'].reset_index(drop=True)\n",
    "data.head()"
   ]
  },
  {
   "cell_type": "code",
   "execution_count": 32,
   "metadata": {},
   "outputs": [
    {
     "data": {
      "text/plain": [
       "(17, 5)"
      ]
     },
     "execution_count": 32,
     "metadata": {},
     "output_type": "execute_result"
    }
   ],
   "source": [
    "data.shape"
   ]
  },
  {
   "cell_type": "code",
   "execution_count": 33,
   "metadata": {},
   "outputs": [
    {
     "name": "stdout",
     "output_type": "stream",
     "text": [
      "The geograpical coordinate of Scarborough are 43.773077, -79.257774.\n"
     ]
    }
   ],
   "source": [
    "address = 'Scarborough, CA'\n",
    "\n",
    "geolocator = Nominatim(user_agent=\"toronto\")\n",
    "location = geolocator.geocode(address)\n",
    "latitude = location.latitude\n",
    "longitude = location.longitude\n",
    "print('The geograpical coordinate of Scarborough are {}, {}.'.format(latitude, longitude))"
   ]
  },
  {
   "cell_type": "markdown",
   "metadata": {},
   "source": [
    "# The map of Scarborough"
   ]
  },
  {
   "cell_type": "code",
   "execution_count": 34,
   "metadata": {},
   "outputs": [
    {
     "data": {
      "text/html": [
       "<div style=\"width:100%;\"><div style=\"position:relative;width:100%;height:0;padding-bottom:60%;\"><iframe src=\"about:blank\" style=\"position:absolute;width:100%;height:100%;left:0;top:0;border:none !important;\" data-html=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 onload=\"this.contentDocument.open();this.contentDocument.write(atob(this.getAttribute('data-html')));this.contentDocument.close();\" allowfullscreen webkitallowfullscreen mozallowfullscreen></iframe></div></div>"
      ],
      "text/plain": [
       "<folium.folium.Map at 0x2317d46eba8>"
      ]
     },
     "execution_count": 34,
     "metadata": {},
     "output_type": "execute_result"
    }
   ],
   "source": [
    "map1 = folium.Map(location=[latitude, longitude], zoom_start=11)\n",
    "\n",
    "for lat, lng, label in zip(data['Latitude'], data['Longitude'], data['Neighborhood']):\n",
    "    label = folium.Popup(label, parse_html=True)\n",
    "    folium.CircleMarker(\n",
    "        [lat, lng],\n",
    "        radius=5,\n",
    "        popup=label,\n",
    "        color='blue',\n",
    "        fill=True,\n",
    "        fill_color='#3186cc',\n",
    "        fill_opacity=0.7,\n",
    "        parse_html=False).add_to(map1)  \n",
    "    \n",
    "map1"
   ]
  },
  {
   "cell_type": "code",
   "execution_count": 55,
   "metadata": {},
   "outputs": [],
   "source": [
    "dr= data"
   ]
  },
  {
   "cell_type": "code",
   "execution_count": 68,
   "metadata": {},
   "outputs": [],
   "source": [
    "dr.drop(['Borough'], axis=1, inplace= True)"
   ]
  },
  {
   "cell_type": "markdown",
   "metadata": {},
   "source": [
    "# The kist of all neighborhood in Scarborough"
   ]
  },
  {
   "cell_type": "code",
   "execution_count": 69,
   "metadata": {},
   "outputs": [
    {
     "data": {
      "text/html": [
       "<div>\n",
       "<style scoped>\n",
       "    .dataframe tbody tr th:only-of-type {\n",
       "        vertical-align: middle;\n",
       "    }\n",
       "\n",
       "    .dataframe tbody tr th {\n",
       "        vertical-align: top;\n",
       "    }\n",
       "\n",
       "    .dataframe thead th {\n",
       "        text-align: right;\n",
       "    }\n",
       "</style>\n",
       "<table border=\"1\" class=\"dataframe\">\n",
       "  <thead>\n",
       "    <tr style=\"text-align: right;\">\n",
       "      <th></th>\n",
       "      <th>Neighborhood</th>\n",
       "      <th>Latitude</th>\n",
       "      <th>Longitude</th>\n",
       "    </tr>\n",
       "  </thead>\n",
       "  <tbody>\n",
       "    <tr>\n",
       "      <th>0</th>\n",
       "      <td>Malvern , Rouge</td>\n",
       "      <td>43.806686</td>\n",
       "      <td>-79.194353</td>\n",
       "    </tr>\n",
       "    <tr>\n",
       "      <th>1</th>\n",
       "      <td>Rouge Hill , Port Union , Highland Creek</td>\n",
       "      <td>43.784535</td>\n",
       "      <td>-79.160497</td>\n",
       "    </tr>\n",
       "    <tr>\n",
       "      <th>2</th>\n",
       "      <td>Guildwood , Morningside , West Hill</td>\n",
       "      <td>43.763573</td>\n",
       "      <td>-79.188711</td>\n",
       "    </tr>\n",
       "    <tr>\n",
       "      <th>3</th>\n",
       "      <td>Woburn</td>\n",
       "      <td>43.770992</td>\n",
       "      <td>-79.216917</td>\n",
       "    </tr>\n",
       "    <tr>\n",
       "      <th>4</th>\n",
       "      <td>Cedarbrae</td>\n",
       "      <td>43.773136</td>\n",
       "      <td>-79.239476</td>\n",
       "    </tr>\n",
       "    <tr>\n",
       "      <th>5</th>\n",
       "      <td>Scarborough Village</td>\n",
       "      <td>43.744734</td>\n",
       "      <td>-79.239476</td>\n",
       "    </tr>\n",
       "    <tr>\n",
       "      <th>6</th>\n",
       "      <td>Kennedy Park , Ionview , East Birchmount Park</td>\n",
       "      <td>43.727929</td>\n",
       "      <td>-79.262029</td>\n",
       "    </tr>\n",
       "    <tr>\n",
       "      <th>7</th>\n",
       "      <td>Golden Mile , Clairlea , Oakridge</td>\n",
       "      <td>43.711112</td>\n",
       "      <td>-79.284577</td>\n",
       "    </tr>\n",
       "    <tr>\n",
       "      <th>8</th>\n",
       "      <td>Cliffside , Cliffcrest , Scarborough Village West</td>\n",
       "      <td>43.716316</td>\n",
       "      <td>-79.239476</td>\n",
       "    </tr>\n",
       "    <tr>\n",
       "      <th>9</th>\n",
       "      <td>Birch Cliff , Cliffside West</td>\n",
       "      <td>43.692657</td>\n",
       "      <td>-79.264848</td>\n",
       "    </tr>\n",
       "    <tr>\n",
       "      <th>10</th>\n",
       "      <td>Dorset Park , Wexford Heights , Scarborough To...</td>\n",
       "      <td>43.757410</td>\n",
       "      <td>-79.273304</td>\n",
       "    </tr>\n",
       "    <tr>\n",
       "      <th>11</th>\n",
       "      <td>Wexford , Maryvale</td>\n",
       "      <td>43.750072</td>\n",
       "      <td>-79.295849</td>\n",
       "    </tr>\n",
       "    <tr>\n",
       "      <th>12</th>\n",
       "      <td>Agincourt</td>\n",
       "      <td>43.794200</td>\n",
       "      <td>-79.262029</td>\n",
       "    </tr>\n",
       "    <tr>\n",
       "      <th>13</th>\n",
       "      <td>Clarks Corners , Tam O'Shanter , Sullivan</td>\n",
       "      <td>43.781638</td>\n",
       "      <td>-79.304302</td>\n",
       "    </tr>\n",
       "    <tr>\n",
       "      <th>14</th>\n",
       "      <td>Milliken , Agincourt North , Steeles East , L'...</td>\n",
       "      <td>43.815252</td>\n",
       "      <td>-79.284577</td>\n",
       "    </tr>\n",
       "    <tr>\n",
       "      <th>15</th>\n",
       "      <td>Steeles West , L'Amoreaux West</td>\n",
       "      <td>43.799525</td>\n",
       "      <td>-79.318389</td>\n",
       "    </tr>\n",
       "    <tr>\n",
       "      <th>16</th>\n",
       "      <td>Upper Rouge</td>\n",
       "      <td>43.836125</td>\n",
       "      <td>-79.205636</td>\n",
       "    </tr>\n",
       "  </tbody>\n",
       "</table>\n",
       "</div>"
      ],
      "text/plain": [
       "                                         Neighborhood   Latitude  Longitude\n",
       "0                                     Malvern , Rouge  43.806686 -79.194353\n",
       "1            Rouge Hill , Port Union , Highland Creek  43.784535 -79.160497\n",
       "2                 Guildwood , Morningside , West Hill  43.763573 -79.188711\n",
       "3                                              Woburn  43.770992 -79.216917\n",
       "4                                           Cedarbrae  43.773136 -79.239476\n",
       "5                                 Scarborough Village  43.744734 -79.239476\n",
       "6       Kennedy Park , Ionview , East Birchmount Park  43.727929 -79.262029\n",
       "7                   Golden Mile , Clairlea , Oakridge  43.711112 -79.284577\n",
       "8   Cliffside , Cliffcrest , Scarborough Village West  43.716316 -79.239476\n",
       "9                        Birch Cliff , Cliffside West  43.692657 -79.264848\n",
       "10  Dorset Park , Wexford Heights , Scarborough To...  43.757410 -79.273304\n",
       "11                                 Wexford , Maryvale  43.750072 -79.295849\n",
       "12                                          Agincourt  43.794200 -79.262029\n",
       "13          Clarks Corners , Tam O'Shanter , Sullivan  43.781638 -79.304302\n",
       "14  Milliken , Agincourt North , Steeles East , L'...  43.815252 -79.284577\n",
       "15                     Steeles West , L'Amoreaux West  43.799525 -79.318389\n",
       "16                                        Upper Rouge  43.836125 -79.205636"
      ]
     },
     "execution_count": 69,
     "metadata": {},
     "output_type": "execute_result"
    }
   ],
   "source": [
    "dr"
   ]
  },
  {
   "cell_type": "code",
   "execution_count": 70,
   "metadata": {},
   "outputs": [
    {
     "data": {
      "text/plain": [
       "'Malvern , Rouge'"
      ]
     },
     "execution_count": 70,
     "metadata": {},
     "output_type": "execute_result"
    }
   ],
   "source": [
    "data.loc[0, 'Neighborhood']"
   ]
  },
  {
   "cell_type": "code",
   "execution_count": 71,
   "metadata": {},
   "outputs": [
    {
     "name": "stdout",
     "output_type": "stream",
     "text": [
      "Latitude and longitude values of Malvern , Rouge are 43.806686299999996, -79.19435340000001.\n"
     ]
    }
   ],
   "source": [
    "neighborhood_latitude = data.loc[0, 'Latitude'] \n",
    "neighborhood_longitude = data.loc[0, 'Longitude'] \n",
    "\n",
    "neighborhood_name = data.loc[0, 'Neighborhood']\n",
    "\n",
    "print('Latitude and longitude values of {} are {}, {}.'.format(neighborhood_name, \n",
    "                                                               neighborhood_latitude, \n",
    "                                                               neighborhood_longitude))"
   ]
  },
  {
   "cell_type": "code",
   "execution_count": 72,
   "metadata": {},
   "outputs": [
    {
     "data": {
      "text/plain": [
       "'https://api.foursquare.com/v2/venues/explore?&client_id=FXWG412PGZMV0OTDDNYEC2XP2TGWP1ZTH5JD1RCML2OL5CLK&client_secret=RCZUNJDEY0MD0TH0KA5E3EDRLAF1T35JO5GSZNXQKZ0JX4PE&v=20180605&ll=43.806686299999996,-79.19435340000001&radius=1000&limit=100'"
      ]
     },
     "execution_count": 72,
     "metadata": {},
     "output_type": "execute_result"
    }
   ],
   "source": [
    "LIMIT = 100\n",
    "radius = 1000\n",
    "url = 'https://api.foursquare.com/v2/venues/explore?&client_id={}&client_secret={}&v={}&ll={},{}&radius={}&limit={}'.format(\n",
    "    CLIENT_ID, \n",
    "    CLIENT_SECRET, \n",
    "    VERSION, \n",
    "    neighborhood_latitude, \n",
    "    neighborhood_longitude, \n",
    "    radius, \n",
    "    LIMIT)\n",
    "url"
   ]
  },
  {
   "cell_type": "code",
   "execution_count": 73,
   "metadata": {},
   "outputs": [
    {
     "data": {
      "text/plain": [
       "{'meta': {'code': 200, 'requestId': '5ea2ec23da9e14001b643f10'},\n",
       " 'response': {'suggestedFilters': {'header': 'Tap to show:',\n",
       "   'filters': [{'name': 'Open now', 'key': 'openNow'}]},\n",
       "  'headerLocation': 'Malvern',\n",
       "  'headerFullLocation': 'Malvern, Toronto',\n",
       "  'headerLocationGranularity': 'neighborhood',\n",
       "  'totalResults': 21,\n",
       "  'suggestedBounds': {'ne': {'lat': 43.81568630900001,\n",
       "    'lng': -79.18190576146081},\n",
       "   'sw': {'lat': 43.797686290999984, 'lng': -79.20680103853921}},\n",
       "  'groups': [{'type': 'Recommended Places',\n",
       "    'name': 'recommended',\n",
       "    'items': [{'reasons': {'count': 0,\n",
       "       'items': [{'summary': 'This spot is popular',\n",
       "         'type': 'general',\n",
       "         'reasonName': 'globalInteractionReason'}]},\n",
       "      'venue': {'id': '4b6718c2f964a5203f3a2be3',\n",
       "       'name': \"Harvey's\",\n",
       "       'location': {'address': '853 Milner Ave',\n",
       "        'crossStreet': 'at Morningside Ave',\n",
       "        'lat': 43.80002047583462,\n",
       "        'lng': -79.19830662127322,\n",
       "        'labeledLatLngs': [{'label': 'display',\n",
       "          'lat': 43.80002047583462,\n",
       "          'lng': -79.19830662127322}],\n",
       "        'distance': 807,\n",
       "        'postalCode': 'M1B 5N6',\n",
       "        'cc': 'CA',\n",
       "        'city': 'Scarborough',\n",
       "        'state': 'ON',\n",
       "        'country': 'Canada',\n",
       "        'formattedAddress': ['853 Milner Ave (at Morningside Ave)',\n",
       "         'Scarborough ON M1B 5N6',\n",
       "         'Canada']},\n",
       "       'categories': [{'id': '4bf58dd8d48988d1c4941735',\n",
       "         'name': 'Restaurant',\n",
       "         'pluralName': 'Restaurants',\n",
       "         'shortName': 'Restaurant',\n",
       "         'icon': {'prefix': 'https://ss3.4sqi.net/img/categories_v2/food/default_',\n",
       "          'suffix': '.png'},\n",
       "         'primary': True}],\n",
       "       'photos': {'count': 0, 'groups': []}},\n",
       "      'referralId': 'e-0-4b6718c2f964a5203f3a2be3-0'},\n",
       "     {'reasons': {'count': 0,\n",
       "       'items': [{'summary': 'This spot is popular',\n",
       "         'type': 'general',\n",
       "         'reasonName': 'globalInteractionReason'}]},\n",
       "      'venue': {'id': '579a91b3498e9bd833afa78a',\n",
       "       'name': \"Wendy's\",\n",
       "       'location': {'address': '8129 Sheppard Avenue',\n",
       "        'lat': 43.8020084,\n",
       "        'lng': -79.1980797,\n",
       "        'labeledLatLngs': [{'label': 'display',\n",
       "          'lat': 43.8020084,\n",
       "          'lng': -79.1980797}],\n",
       "        'distance': 600,\n",
       "        'postalCode': 'M1B 6A3',\n",
       "        'cc': 'CA',\n",
       "        'city': 'Scarborough',\n",
       "        'state': 'ON',\n",
       "        'country': 'Canada',\n",
       "        'formattedAddress': ['8129 Sheppard Avenue',\n",
       "         'Scarborough ON M1B 6A3',\n",
       "         'Canada']},\n",
       "       'categories': [{'id': '4bf58dd8d48988d16e941735',\n",
       "         'name': 'Fast Food Restaurant',\n",
       "         'pluralName': 'Fast Food Restaurants',\n",
       "         'shortName': 'Fast Food',\n",
       "         'icon': {'prefix': 'https://ss3.4sqi.net/img/categories_v2/food/fastfood_',\n",
       "          'suffix': '.png'},\n",
       "         'primary': True}],\n",
       "       'photos': {'count': 0, 'groups': []}},\n",
       "      'referralId': 'e-0-579a91b3498e9bd833afa78a-1'},\n",
       "     {'reasons': {'count': 0,\n",
       "       'items': [{'summary': 'This spot is popular',\n",
       "         'type': 'general',\n",
       "         'reasonName': 'globalInteractionReason'}]},\n",
       "      'venue': {'id': '4bb6b9446edc76b0d771311c',\n",
       "       'name': 'Wendy’s',\n",
       "       'location': {'crossStreet': 'Morningside & Sheppard',\n",
       "        'lat': 43.80744841934756,\n",
       "        'lng': -79.19905558052072,\n",
       "        'labeledLatLngs': [{'label': 'display',\n",
       "          'lat': 43.80744841934756,\n",
       "          'lng': -79.19905558052072}],\n",
       "        'distance': 387,\n",
       "        'cc': 'CA',\n",
       "        'city': 'Toronto',\n",
       "        'state': 'ON',\n",
       "        'country': 'Canada',\n",
       "        'formattedAddress': ['Toronto ON', 'Canada']},\n",
       "       'categories': [{'id': '4bf58dd8d48988d16e941735',\n",
       "         'name': 'Fast Food Restaurant',\n",
       "         'pluralName': 'Fast Food Restaurants',\n",
       "         'shortName': 'Fast Food',\n",
       "         'icon': {'prefix': 'https://ss3.4sqi.net/img/categories_v2/food/fastfood_',\n",
       "          'suffix': '.png'},\n",
       "         'primary': True}],\n",
       "       'photos': {'count': 0, 'groups': []}},\n",
       "      'referralId': 'e-0-4bb6b9446edc76b0d771311c-2'},\n",
       "     {'reasons': {'count': 0,\n",
       "       'items': [{'summary': 'This spot is popular',\n",
       "         'type': 'general',\n",
       "         'reasonName': 'globalInteractionReason'}]},\n",
       "      'venue': {'id': '4c6ac7de35d3be9a50bf2206',\n",
       "       'name': 'RBC Royal Bank',\n",
       "       'location': {'address': '865 MILNER AVE',\n",
       "        'crossStreet': 'Morningside',\n",
       "        'lat': 43.79878248056552,\n",
       "        'lng': -79.19709031445504,\n",
       "        'labeledLatLngs': [{'label': 'display',\n",
       "          'lat': 43.79878248056552,\n",
       "          'lng': -79.19709031445504}],\n",
       "        'distance': 906,\n",
       "        'postalCode': 'M1B 5N6',\n",
       "        'cc': 'CA',\n",
       "        'city': 'Scarborough',\n",
       "        'state': 'ON',\n",
       "        'country': 'Canada',\n",
       "        'formattedAddress': ['865 MILNER AVE (Morningside)',\n",
       "         'Scarborough ON M1B 5N6',\n",
       "         'Canada']},\n",
       "       'categories': [{'id': '4bf58dd8d48988d10a951735',\n",
       "         'name': 'Bank',\n",
       "         'pluralName': 'Banks',\n",
       "         'shortName': 'Bank',\n",
       "         'icon': {'prefix': 'https://ss3.4sqi.net/img/categories_v2/shops/financial_',\n",
       "          'suffix': '.png'},\n",
       "         'primary': True}],\n",
       "       'photos': {'count': 0, 'groups': []}},\n",
       "      'referralId': 'e-0-4c6ac7de35d3be9a50bf2206-3'},\n",
       "     {'reasons': {'count': 0,\n",
       "       'items': [{'summary': 'This spot is popular',\n",
       "         'type': 'general',\n",
       "         'reasonName': 'globalInteractionReason'}]},\n",
       "      'venue': {'id': '4b914562f964a520d4ae33e3',\n",
       "       'name': 'Caribbean Wave',\n",
       "       'location': {'address': '875 Milner Ave',\n",
       "        'crossStreet': 'Milner and Morningside',\n",
       "        'lat': 43.798557859976256,\n",
       "        'lng': -79.19577725412623,\n",
       "        'labeledLatLngs': [{'label': 'display',\n",
       "          'lat': 43.798557859976256,\n",
       "          'lng': -79.19577725412623}],\n",
       "        'distance': 912,\n",
       "        'postalCode': 'M1B',\n",
       "        'cc': 'CA',\n",
       "        'city': 'Toronto',\n",
       "        'state': 'ON',\n",
       "        'country': 'Canada',\n",
       "        'formattedAddress': ['875 Milner Ave (Milner and Morningside)',\n",
       "         'Toronto ON M1B',\n",
       "         'Canada']},\n",
       "       'categories': [{'id': '4bf58dd8d48988d144941735',\n",
       "         'name': 'Caribbean Restaurant',\n",
       "         'pluralName': 'Caribbean Restaurants',\n",
       "         'shortName': 'Caribbean',\n",
       "         'icon': {'prefix': 'https://ss3.4sqi.net/img/categories_v2/food/caribbean_',\n",
       "          'suffix': '.png'},\n",
       "         'primary': True}],\n",
       "       'photos': {'count': 0, 'groups': []}},\n",
       "      'referralId': 'e-0-4b914562f964a520d4ae33e3-4'},\n",
       "     {'reasons': {'count': 0,\n",
       "       'items': [{'summary': 'This spot is popular',\n",
       "         'type': 'general',\n",
       "         'reasonName': 'globalInteractionReason'}]},\n",
       "      'venue': {'id': '4bcb612d3740b713f0606265',\n",
       "       'name': 'Staples Morningside',\n",
       "       'location': {'address': '850 Milner Avenue',\n",
       "        'lat': 43.80028467632823,\n",
       "        'lng': -79.19660657644272,\n",
       "        'labeledLatLngs': [{'label': 'display',\n",
       "          'lat': 43.80028467632823,\n",
       "          'lng': -79.19660657644272}],\n",
       "        'distance': 735,\n",
       "        'postalCode': 'M1B 5N7',\n",
       "        'cc': 'CA',\n",
       "        'city': 'Scarborough',\n",
       "        'state': 'ON',\n",
       "        'country': 'Canada',\n",
       "        'formattedAddress': ['850 Milner Avenue',\n",
       "         'Scarborough ON M1B 5N7',\n",
       "         'Canada']},\n",
       "       'categories': [{'id': '4bf58dd8d48988d121951735',\n",
       "         'name': 'Paper / Office Supplies Store',\n",
       "         'pluralName': 'Paper / Office Supplies Stores',\n",
       "         'shortName': 'Office Supplies',\n",
       "         'icon': {'prefix': 'https://ss3.4sqi.net/img/categories_v2/shops/papergoods_',\n",
       "          'suffix': '.png'},\n",
       "         'primary': True}],\n",
       "       'photos': {'count': 0, 'groups': []}},\n",
       "      'referralId': 'e-0-4bcb612d3740b713f0606265-5'},\n",
       "     {'reasons': {'count': 0,\n",
       "       'items': [{'summary': 'This spot is popular',\n",
       "         'type': 'general',\n",
       "         'reasonName': 'globalInteractionReason'}]},\n",
       "      'venue': {'id': '4b16e23bf964a520edbe23e3',\n",
       "       'name': 'Tim Hortons',\n",
       "       'location': {'address': '8129 Sheppard Ave',\n",
       "        'crossStreet': 'Morningside Ave',\n",
       "        'lat': 43.801999861382,\n",
       "        'lng': -79.1981689631939,\n",
       "        'labeledLatLngs': [{'label': 'display',\n",
       "          'lat': 43.801999861382,\n",
       "          'lng': -79.1981689631939}],\n",
       "        'distance': 605,\n",
       "        'postalCode': 'M1B 6A3',\n",
       "        'cc': 'CA',\n",
       "        'city': 'Scarborough',\n",
       "        'state': 'ON',\n",
       "        'country': 'Canada',\n",
       "        'formattedAddress': ['8129 Sheppard Ave (Morningside Ave)',\n",
       "         'Scarborough ON M1B 6A3',\n",
       "         'Canada']},\n",
       "       'categories': [{'id': '4bf58dd8d48988d1e0931735',\n",
       "         'name': 'Coffee Shop',\n",
       "         'pluralName': 'Coffee Shops',\n",
       "         'shortName': 'Coffee Shop',\n",
       "         'icon': {'prefix': 'https://ss3.4sqi.net/img/categories_v2/food/coffeeshop_',\n",
       "          'suffix': '.png'},\n",
       "         'primary': True}],\n",
       "       'photos': {'count': 0, 'groups': []}},\n",
       "      'referralId': 'e-0-4b16e23bf964a520edbe23e3-6'},\n",
       "     {'reasons': {'count': 0,\n",
       "       'items': [{'summary': 'This spot is popular',\n",
       "         'type': 'general',\n",
       "         'reasonName': 'globalInteractionReason'}]},\n",
       "      'venue': {'id': '4bd08ceeb221c9b6cbe8d3d0',\n",
       "       'name': 'Lee Valley',\n",
       "       'location': {'address': '1275 Morningside',\n",
       "        'lat': 43.803161304831846,\n",
       "        'lng': -79.19968142252247,\n",
       "        'labeledLatLngs': [{'label': 'display',\n",
       "          'lat': 43.803161304831846,\n",
       "          'lng': -79.19968142252247}],\n",
       "        'distance': 580,\n",
       "        'cc': 'CA',\n",
       "        'city': 'Toronto',\n",
       "        'state': 'ON',\n",
       "        'country': 'Canada',\n",
       "        'formattedAddress': ['1275 Morningside', 'Toronto ON', 'Canada']},\n",
       "       'categories': [{'id': '4bf58dd8d48988d1fb941735',\n",
       "         'name': 'Hobby Shop',\n",
       "         'pluralName': 'Hobby Shops',\n",
       "         'shortName': 'Hobbies',\n",
       "         'icon': {'prefix': 'https://ss3.4sqi.net/img/categories_v2/shops/hobbyshop_',\n",
       "          'suffix': '.png'},\n",
       "         'primary': True}],\n",
       "       'photos': {'count': 0, 'groups': []}},\n",
       "      'referralId': 'e-0-4bd08ceeb221c9b6cbe8d3d0-7'},\n",
       "     {'reasons': {'count': 0,\n",
       "       'items': [{'summary': 'This spot is popular',\n",
       "         'type': 'general',\n",
       "         'reasonName': 'globalInteractionReason'}]},\n",
       "      'venue': {'id': '4e25ba8fd164b6b74afdd029',\n",
       "       'name': 'Bus Stop: 85 & 116',\n",
       "       'location': {'address': 'Sheppard & Morningside',\n",
       "        'lat': 43.80219845231118,\n",
       "        'lng': -79.19938862774073,\n",
       "        'labeledLatLngs': [{'label': 'display',\n",
       "          'lat': 43.80219845231118,\n",
       "          'lng': -79.19938862774073}],\n",
       "        'distance': 642,\n",
       "        'cc': 'CA',\n",
       "        'city': 'Scarborough',\n",
       "        'state': 'ON',\n",
       "        'country': 'Canada',\n",
       "        'formattedAddress': ['Sheppard & Morningside',\n",
       "         'Scarborough ON',\n",
       "         'Canada']},\n",
       "       'categories': [{'id': '4bf58dd8d48988d1fe931735',\n",
       "         'name': 'Bus Station',\n",
       "         'pluralName': 'Bus Stations',\n",
       "         'shortName': 'Bus Station',\n",
       "         'icon': {'prefix': 'https://ss3.4sqi.net/img/categories_v2/travel/busstation_',\n",
       "          'suffix': '.png'},\n",
       "         'primary': True}],\n",
       "       'photos': {'count': 0, 'groups': []}},\n",
       "      'referralId': 'e-0-4e25ba8fd164b6b74afdd029-8'},\n",
       "     {'reasons': {'count': 0,\n",
       "       'items': [{'summary': 'This spot is popular',\n",
       "         'type': 'general',\n",
       "         'reasonName': 'globalInteractionReason'}]},\n",
       "      'venue': {'id': '4e0b137722713e13018e7117',\n",
       "       'name': 'Tim Hortons / Esso',\n",
       "       'location': {'address': 'Morningside and sheppard',\n",
       "        'lat': 43.80186301779314,\n",
       "        'lng': -79.1992957809335,\n",
       "        'labeledLatLngs': [{'label': 'display',\n",
       "          'lat': 43.80186301779314,\n",
       "          'lng': -79.1992957809335}],\n",
       "        'distance': 667,\n",
       "        'cc': 'CA',\n",
       "        'city': 'Toronto',\n",
       "        'state': 'ON',\n",
       "        'country': 'Canada',\n",
       "        'formattedAddress': ['Morningside and sheppard',\n",
       "         'Toronto ON',\n",
       "         'Canada']},\n",
       "       'categories': [{'id': '4bf58dd8d48988d1e0931735',\n",
       "         'name': 'Coffee Shop',\n",
       "         'pluralName': 'Coffee Shops',\n",
       "         'shortName': 'Coffee Shop',\n",
       "         'icon': {'prefix': 'https://ss3.4sqi.net/img/categories_v2/food/coffeeshop_',\n",
       "          'suffix': '.png'},\n",
       "         'primary': True}],\n",
       "       'photos': {'count': 0, 'groups': []}},\n",
       "      'referralId': 'e-0-4e0b137722713e13018e7117-9'},\n",
       "     {'reasons': {'count': 0,\n",
       "       'items': [{'summary': 'This spot is popular',\n",
       "         'type': 'general',\n",
       "         'reasonName': 'globalInteractionReason'}]},\n",
       "      'venue': {'id': '4d472aa49c426a310401b28c',\n",
       "       'name': 'Ecopainting inc.',\n",
       "       'location': {'address': '1345 Morningside Avenue Unit 20',\n",
       "        'lat': 43.808416849495565,\n",
       "        'lng': -79.20239210128784,\n",
       "        'labeledLatLngs': [{'label': 'display',\n",
       "          'lat': 43.808416849495565,\n",
       "          'lng': -79.20239210128784}],\n",
       "        'distance': 673,\n",
       "        'postalCode': 'M1B 5K3',\n",
       "        'cc': 'CA',\n",
       "        'city': 'Toronto',\n",
       "        'state': 'ON',\n",
       "        'country': 'Canada',\n",
       "        'formattedAddress': ['1345 Morningside Avenue Unit 20',\n",
       "         'Toronto ON M1B 5K3',\n",
       "         'Canada']},\n",
       "       'categories': [{'id': '5454144b498ec1f095bff2f2',\n",
       "         'name': 'Construction & Landscaping',\n",
       "         'pluralName': 'Construction & Landscaping',\n",
       "         'shortName': 'Construction',\n",
       "         'icon': {'prefix': 'https://ss3.4sqi.net/img/categories_v2/shops/realestate_',\n",
       "          'suffix': '.png'},\n",
       "         'primary': True}],\n",
       "       'photos': {'count': 0, 'groups': []},\n",
       "       'venuePage': {'id': '124790255'}},\n",
       "      'referralId': 'e-0-4d472aa49c426a310401b28c-10'},\n",
       "     {'reasons': {'count': 0,\n",
       "       'items': [{'summary': 'This spot is popular',\n",
       "         'type': 'general',\n",
       "         'reasonName': 'globalInteractionReason'}]},\n",
       "      'venue': {'id': '5001cb14e4b041fa0a28ee80',\n",
       "       'name': 'MMA World Academy',\n",
       "       'location': {'address': '15 Grand Marshall Drive, Suite 2',\n",
       "        'lat': 43.80025935327685,\n",
       "        'lng': -79.19522661480777,\n",
       "        'labeledLatLngs': [{'label': 'display',\n",
       "          'lat': 43.80025935327685,\n",
       "          'lng': -79.19522661480777}],\n",
       "        'distance': 718,\n",
       "        'postalCode': 'M1B 5N6',\n",
       "        'cc': 'CA',\n",
       "        'city': 'Scarborough',\n",
       "        'state': 'ON',\n",
       "        'country': 'Canada',\n",
       "        'formattedAddress': ['15 Grand Marshall Drive, Suite 2',\n",
       "         'Scarborough ON M1B 5N6',\n",
       "         'Canada']},\n",
       "       'categories': [{'id': '4bf58dd8d48988d101941735',\n",
       "         'name': 'Martial Arts Dojo',\n",
       "         'pluralName': 'Martial Arts Dojos',\n",
       "         'shortName': 'Martial Arts',\n",
       "         'icon': {'prefix': 'https://ss3.4sqi.net/img/categories_v2/shops/gym_martialarts_',\n",
       "          'suffix': '.png'},\n",
       "         'primary': True}],\n",
       "       'photos': {'count': 0, 'groups': []}},\n",
       "      'referralId': 'e-0-5001cb14e4b041fa0a28ee80-11'},\n",
       "     {'reasons': {'count': 0,\n",
       "       'items': [{'summary': 'This spot is popular',\n",
       "         'type': 'general',\n",
       "         'reasonName': 'globalInteractionReason'}]},\n",
       "      'venue': {'id': '4e389459b61c438b547e8ed4',\n",
       "       'name': 'Rouge Park - Woodland Trail',\n",
       "       'location': {'lat': 43.80178186082014,\n",
       "        'lng': -79.20042735921538,\n",
       "        'labeledLatLngs': [{'label': 'display',\n",
       "          'lat': 43.80178186082014,\n",
       "          'lng': -79.20042735921538}],\n",
       "        'distance': 732,\n",
       "        'cc': 'CA',\n",
       "        'country': 'Canada',\n",
       "        'formattedAddress': ['Canada']},\n",
       "       'categories': [{'id': '4bf58dd8d48988d159941735',\n",
       "         'name': 'Trail',\n",
       "         'pluralName': 'Trails',\n",
       "         'shortName': 'Trail',\n",
       "         'icon': {'prefix': 'https://ss3.4sqi.net/img/categories_v2/parks_outdoors/hikingtrail_',\n",
       "          'suffix': '.png'},\n",
       "         'primary': True}],\n",
       "       'photos': {'count': 0, 'groups': []}},\n",
       "      'referralId': 'e-0-4e389459b61c438b547e8ed4-12'},\n",
       "     {'reasons': {'count': 0,\n",
       "       'items': [{'summary': 'This spot is popular',\n",
       "         'type': 'general',\n",
       "         'reasonName': 'globalInteractionReason'}]},\n",
       "      'venue': {'id': '5561eacb498e09ff53b397ad',\n",
       "       'name': 'Upper Rouge Trail',\n",
       "       'location': {'lat': 43.809988,\n",
       "        'lng': -79.186147,\n",
       "        'labeledLatLngs': [{'label': 'display',\n",
       "          'lat': 43.809988,\n",
       "          'lng': -79.186147}],\n",
       "        'distance': 754,\n",
       "        'cc': 'CA',\n",
       "        'country': 'Canada',\n",
       "        'formattedAddress': ['Canada']},\n",
       "       'categories': [{'id': '4bf58dd8d48988d159941735',\n",
       "         'name': 'Trail',\n",
       "         'pluralName': 'Trails',\n",
       "         'shortName': 'Trail',\n",
       "         'icon': {'prefix': 'https://ss3.4sqi.net/img/categories_v2/parks_outdoors/hikingtrail_',\n",
       "          'suffix': '.png'},\n",
       "         'primary': True}],\n",
       "       'photos': {'count': 0, 'groups': []}},\n",
       "      'referralId': 'e-0-5561eacb498e09ff53b397ad-13'},\n",
       "     {'reasons': {'count': 0,\n",
       "       'items': [{'summary': 'This spot is popular',\n",
       "         'type': 'general',\n",
       "         'reasonName': 'globalInteractionReason'}]},\n",
       "      'venue': {'id': '4c706524df6b8cfab244b84d',\n",
       "       'name': \"Charley's Exotic Cuisine\",\n",
       "       'location': {'address': '3-1158 Morningside Ave',\n",
       "        'crossStreet': 'Sheppard Ave',\n",
       "        'lat': 43.80098159718747,\n",
       "        'lng': -79.20023292303085,\n",
       "        'labeledLatLngs': [{'label': 'display',\n",
       "          'lat': 43.80098159718747,\n",
       "          'lng': -79.20023292303085}],\n",
       "        'distance': 791,\n",
       "        'postalCode': 'M1B 3A4',\n",
       "        'cc': 'CA',\n",
       "        'city': 'Toronto',\n",
       "        'state': 'ON',\n",
       "        'country': 'Canada',\n",
       "        'formattedAddress': ['3-1158 Morningside Ave (Sheppard Ave)',\n",
       "         'Toronto ON M1B 3A4',\n",
       "         'Canada']},\n",
       "       'categories': [{'id': '4bf58dd8d48988d145941735',\n",
       "         'name': 'Chinese Restaurant',\n",
       "         'pluralName': 'Chinese Restaurants',\n",
       "         'shortName': 'Chinese',\n",
       "         'icon': {'prefix': 'https://ss3.4sqi.net/img/categories_v2/food/asian_',\n",
       "          'suffix': '.png'},\n",
       "         'primary': True}],\n",
       "       'photos': {'count': 0, 'groups': []}},\n",
       "      'referralId': 'e-0-4c706524df6b8cfab244b84d-14'},\n",
       "     {'reasons': {'count': 0,\n",
       "       'items': [{'summary': 'This spot is popular',\n",
       "         'type': 'general',\n",
       "         'reasonName': 'globalInteractionReason'}]},\n",
       "      'venue': {'id': '55e34982498ea9b7a8027f90',\n",
       "       'name': 'Fit4Less',\n",
       "       'location': {'address': '855 Milner Ave',\n",
       "        'lat': 43.800135,\n",
       "        'lng': -79.198683,\n",
       "        'labeledLatLngs': [{'label': 'display',\n",
       "          'lat': 43.800135,\n",
       "          'lng': -79.198683}],\n",
       "        'distance': 807,\n",
       "        'postalCode': 'M1B 5N6',\n",
       "        'cc': 'CA',\n",
       "        'city': 'Scarborough',\n",
       "        'state': 'ON',\n",
       "        'country': 'Canada',\n",
       "        'formattedAddress': ['855 Milner Ave',\n",
       "         'Scarborough ON M1B 5N6',\n",
       "         'Canada']},\n",
       "       'categories': [{'id': '4bf58dd8d48988d176941735',\n",
       "         'name': 'Gym',\n",
       "         'pluralName': 'Gyms',\n",
       "         'shortName': 'Gym',\n",
       "         'icon': {'prefix': 'https://ss3.4sqi.net/img/categories_v2/building/gym_',\n",
       "          'suffix': '.png'},\n",
       "         'primary': True}],\n",
       "       'photos': {'count': 0, 'groups': []}},\n",
       "      'referralId': 'e-0-55e34982498ea9b7a8027f90-15'},\n",
       "     {'reasons': {'count': 0,\n",
       "       'items': [{'summary': 'This spot is popular',\n",
       "         'type': 'general',\n",
       "         'reasonName': 'globalInteractionReason'}]},\n",
       "      'venue': {'id': '4b60878af964a520d9eb29e3',\n",
       "       'name': 'Mr. Greek',\n",
       "       'location': {'address': '855 Milner Avenue',\n",
       "        'lat': 43.799853406744745,\n",
       "        'lng': -79.19823358305395,\n",
       "        'labeledLatLngs': [{'label': 'display',\n",
       "          'lat': 43.799853406744745,\n",
       "          'lng': -79.19823358305395}],\n",
       "        'distance': 822,\n",
       "        'postalCode': 'M1B 5N6',\n",
       "        'cc': 'CA',\n",
       "        'city': 'Scarborough',\n",
       "        'state': 'ON',\n",
       "        'country': 'Canada',\n",
       "        'formattedAddress': ['855 Milner Avenue',\n",
       "         'Scarborough ON M1B 5N6',\n",
       "         'Canada']},\n",
       "       'categories': [{'id': '4bf58dd8d48988d10e941735',\n",
       "         'name': 'Greek Restaurant',\n",
       "         'pluralName': 'Greek Restaurants',\n",
       "         'shortName': 'Greek',\n",
       "         'icon': {'prefix': 'https://ss3.4sqi.net/img/categories_v2/food/greek_',\n",
       "          'suffix': '.png'},\n",
       "         'primary': True}],\n",
       "       'photos': {'count': 0, 'groups': []}},\n",
       "      'referralId': 'e-0-4b60878af964a520d9eb29e3-16'},\n",
       "     {'reasons': {'count': 0,\n",
       "       'items': [{'summary': 'This spot is popular',\n",
       "         'type': 'general',\n",
       "         'reasonName': 'globalInteractionReason'}]},\n",
       "      'venue': {'id': '539641d9498ee4f723c48089',\n",
       "       'name': 'Fusion Supermarket',\n",
       "       'location': {'address': '1150 Morningside Ave',\n",
       "        'crossStreet': 'Milner',\n",
       "        'lat': 43.800527899352915,\n",
       "        'lng': -79.2000637571665,\n",
       "        'labeledLatLngs': [{'label': 'display',\n",
       "          'lat': 43.800527899352915,\n",
       "          'lng': -79.2000637571665}],\n",
       "        'distance': 824,\n",
       "        'postalCode': 'M1B 3A4',\n",
       "        'cc': 'CA',\n",
       "        'neighborhood': 'Malvern',\n",
       "        'city': 'Toronto',\n",
       "        'state': 'ON',\n",
       "        'country': 'Canada',\n",
       "        'formattedAddress': ['1150 Morningside Ave (Milner)',\n",
       "         'Toronto ON M1B 3A4',\n",
       "         'Canada']},\n",
       "       'categories': [{'id': '52f2ab2ebcbc57f1066b8b46',\n",
       "         'name': 'Supermarket',\n",
       "         'pluralName': 'Supermarkets',\n",
       "         'shortName': 'Supermarket',\n",
       "         'icon': {'prefix': 'https://ss3.4sqi.net/img/categories_v2/shops/food_grocery_',\n",
       "          'suffix': '.png'},\n",
       "         'primary': True}],\n",
       "       'photos': {'count': 0, 'groups': []}},\n",
       "      'referralId': 'e-0-539641d9498ee4f723c48089-17'},\n",
       "     {'reasons': {'count': 0,\n",
       "       'items': [{'summary': 'This spot is popular',\n",
       "         'type': 'general',\n",
       "         'reasonName': 'globalInteractionReason'}]},\n",
       "      'venue': {'id': '4bf01bf43a002d7f50ac85a4',\n",
       "       'name': 'What a Bakery',\n",
       "       'location': {'address': '875 Milner Avenue',\n",
       "        'lat': 43.798888,\n",
       "        'lng': -79.196473,\n",
       "        'labeledLatLngs': [{'label': 'display',\n",
       "          'lat': 43.798888,\n",
       "          'lng': -79.196473}],\n",
       "        'distance': 884,\n",
       "        'postalCode': 'M1B 5N6',\n",
       "        'cc': 'CA',\n",
       "        'city': 'Toronto',\n",
       "        'state': 'ON',\n",
       "        'country': 'Canada',\n",
       "        'formattedAddress': ['875 Milner Avenue',\n",
       "         'Toronto ON M1B 5N6',\n",
       "         'Canada']},\n",
       "       'categories': [{'id': '4bf58dd8d48988d16a941735',\n",
       "         'name': 'Bakery',\n",
       "         'pluralName': 'Bakeries',\n",
       "         'shortName': 'Bakery',\n",
       "         'icon': {'prefix': 'https://ss3.4sqi.net/img/categories_v2/food/bakery_',\n",
       "          'suffix': '.png'},\n",
       "         'primary': True}],\n",
       "       'photos': {'count': 0, 'groups': []}},\n",
       "      'referralId': 'e-0-4bf01bf43a002d7f50ac85a4-18'},\n",
       "     {'reasons': {'count': 0,\n",
       "       'items': [{'summary': 'This spot is popular',\n",
       "         'type': 'general',\n",
       "         'reasonName': 'globalInteractionReason'}]},\n",
       "      'venue': {'id': '4bf02131f831c928359c01f2',\n",
       "       'name': 'Fabricland',\n",
       "       'location': {'lat': 43.799013800948444,\n",
       "        'lng': -79.19731406960719,\n",
       "        'labeledLatLngs': [{'label': 'display',\n",
       "          'lat': 43.799013800948444,\n",
       "          'lng': -79.19731406960719}],\n",
       "        'distance': 886,\n",
       "        'cc': 'CA',\n",
       "        'country': 'Canada',\n",
       "        'formattedAddress': ['Canada']},\n",
       "       'categories': [{'id': '4bf58dd8d48988d127951735',\n",
       "         'name': 'Arts & Crafts Store',\n",
       "         'pluralName': 'Arts & Crafts Stores',\n",
       "         'shortName': 'Arts & Crafts',\n",
       "         'icon': {'prefix': 'https://ss3.4sqi.net/img/categories_v2/shops/artstore_',\n",
       "          'suffix': '.png'},\n",
       "         'primary': True}],\n",
       "       'photos': {'count': 0, 'groups': []}},\n",
       "      'referralId': 'e-0-4bf02131f831c928359c01f2-19'},\n",
       "     {'reasons': {'count': 0,\n",
       "       'items': [{'summary': 'This spot is popular',\n",
       "         'type': 'general',\n",
       "         'reasonName': 'globalInteractionReason'}]},\n",
       "      'venue': {'id': '4b89abadf964a520ae4a32e3',\n",
       "       'name': 'Quiznos',\n",
       "       'location': {'address': '875 Milner Ave',\n",
       "        'crossStreet': 'at Morningside Ave',\n",
       "        'lat': 43.798773188206816,\n",
       "        'lng': -79.19655550872147,\n",
       "        'labeledLatLngs': [{'label': 'display',\n",
       "          'lat': 43.798773188206816,\n",
       "          'lng': -79.19655550872147}],\n",
       "        'distance': 898,\n",
       "        'postalCode': 'M1B 5N6',\n",
       "        'cc': 'CA',\n",
       "        'city': 'Toronto',\n",
       "        'state': 'ON',\n",
       "        'country': 'Canada',\n",
       "        'formattedAddress': ['875 Milner Ave (at Morningside Ave)',\n",
       "         'Toronto ON M1B 5N6',\n",
       "         'Canada']},\n",
       "       'categories': [{'id': '4bf58dd8d48988d1c5941735',\n",
       "         'name': 'Sandwich Place',\n",
       "         'pluralName': 'Sandwich Places',\n",
       "         'shortName': 'Sandwiches',\n",
       "         'icon': {'prefix': 'https://ss3.4sqi.net/img/categories_v2/food/deli_',\n",
       "          'suffix': '.png'},\n",
       "         'primary': True}],\n",
       "       'photos': {'count': 0, 'groups': []}},\n",
       "      'referralId': 'e-0-4b89abadf964a520ae4a32e3-20'}]}]}}"
      ]
     },
     "execution_count": 73,
     "metadata": {},
     "output_type": "execute_result"
    }
   ],
   "source": [
    "results = requests.get(url).json()\n",
    "results"
   ]
  },
  {
   "cell_type": "code",
   "execution_count": 74,
   "metadata": {},
   "outputs": [],
   "source": [
    "def get_category_type(row):\n",
    "    try:\n",
    "        categories_list = row['categories']\n",
    "    except:\n",
    "        categories_list = row['venue.categories']\n",
    "        \n",
    "    if len(categories_list) == 0:\n",
    "        return None\n",
    "    else:\n",
    "        return categories_list[0]['name']"
   ]
  },
  {
   "cell_type": "code",
   "execution_count": 75,
   "metadata": {},
   "outputs": [
    {
     "data": {
      "text/html": [
       "<div>\n",
       "<style scoped>\n",
       "    .dataframe tbody tr th:only-of-type {\n",
       "        vertical-align: middle;\n",
       "    }\n",
       "\n",
       "    .dataframe tbody tr th {\n",
       "        vertical-align: top;\n",
       "    }\n",
       "\n",
       "    .dataframe thead th {\n",
       "        text-align: right;\n",
       "    }\n",
       "</style>\n",
       "<table border=\"1\" class=\"dataframe\">\n",
       "  <thead>\n",
       "    <tr style=\"text-align: right;\">\n",
       "      <th></th>\n",
       "      <th>name</th>\n",
       "      <th>categories</th>\n",
       "      <th>lat</th>\n",
       "      <th>lng</th>\n",
       "    </tr>\n",
       "  </thead>\n",
       "  <tbody>\n",
       "    <tr>\n",
       "      <th>0</th>\n",
       "      <td>Harvey's</td>\n",
       "      <td>Restaurant</td>\n",
       "      <td>43.800020</td>\n",
       "      <td>-79.198307</td>\n",
       "    </tr>\n",
       "    <tr>\n",
       "      <th>1</th>\n",
       "      <td>Wendy's</td>\n",
       "      <td>Fast Food Restaurant</td>\n",
       "      <td>43.802008</td>\n",
       "      <td>-79.198080</td>\n",
       "    </tr>\n",
       "    <tr>\n",
       "      <th>2</th>\n",
       "      <td>Wendy’s</td>\n",
       "      <td>Fast Food Restaurant</td>\n",
       "      <td>43.807448</td>\n",
       "      <td>-79.199056</td>\n",
       "    </tr>\n",
       "    <tr>\n",
       "      <th>3</th>\n",
       "      <td>RBC Royal Bank</td>\n",
       "      <td>Bank</td>\n",
       "      <td>43.798782</td>\n",
       "      <td>-79.197090</td>\n",
       "    </tr>\n",
       "    <tr>\n",
       "      <th>4</th>\n",
       "      <td>Caribbean Wave</td>\n",
       "      <td>Caribbean Restaurant</td>\n",
       "      <td>43.798558</td>\n",
       "      <td>-79.195777</td>\n",
       "    </tr>\n",
       "  </tbody>\n",
       "</table>\n",
       "</div>"
      ],
      "text/plain": [
       "             name            categories        lat        lng\n",
       "0        Harvey's            Restaurant  43.800020 -79.198307\n",
       "1         Wendy's  Fast Food Restaurant  43.802008 -79.198080\n",
       "2         Wendy’s  Fast Food Restaurant  43.807448 -79.199056\n",
       "3  RBC Royal Bank                  Bank  43.798782 -79.197090\n",
       "4  Caribbean Wave  Caribbean Restaurant  43.798558 -79.195777"
      ]
     },
     "execution_count": 75,
     "metadata": {},
     "output_type": "execute_result"
    }
   ],
   "source": [
    "venues = results['response']['groups'][0]['items']\n",
    "    \n",
    "nearby_venues = json_normalize(venues) # flatten JSON\n",
    "\n",
    "\n",
    "filtered_columns = ['venue.name', 'venue.categories', 'venue.location.lat', 'venue.location.lng']\n",
    "nearby_venues =nearby_venues.loc[:, filtered_columns]\n",
    "\n",
    "\n",
    "nearby_venues['venue.categories'] = nearby_venues.apply(get_category_type, axis=1)\n",
    "\n",
    "\n",
    "nearby_venues.columns = [col.split(\".\")[-1] for col in nearby_venues.columns]\n",
    "\n",
    "nearby_venues.head()"
   ]
  },
  {
   "cell_type": "markdown",
   "metadata": {},
   "source": [
    "# Here we are showing a list of all venues in Malvern , Rouge within 1000m "
   ]
  },
  {
   "cell_type": "code",
   "execution_count": 78,
   "metadata": {},
   "outputs": [
    {
     "data": {
      "text/html": [
       "<div>\n",
       "<style scoped>\n",
       "    .dataframe tbody tr th:only-of-type {\n",
       "        vertical-align: middle;\n",
       "    }\n",
       "\n",
       "    .dataframe tbody tr th {\n",
       "        vertical-align: top;\n",
       "    }\n",
       "\n",
       "    .dataframe thead th {\n",
       "        text-align: right;\n",
       "    }\n",
       "</style>\n",
       "<table border=\"1\" class=\"dataframe\">\n",
       "  <thead>\n",
       "    <tr style=\"text-align: right;\">\n",
       "      <th></th>\n",
       "      <th>name</th>\n",
       "      <th>categories</th>\n",
       "      <th>lat</th>\n",
       "      <th>lng</th>\n",
       "    </tr>\n",
       "  </thead>\n",
       "  <tbody>\n",
       "    <tr>\n",
       "      <th>0</th>\n",
       "      <td>Harvey's</td>\n",
       "      <td>Restaurant</td>\n",
       "      <td>43.800020</td>\n",
       "      <td>-79.198307</td>\n",
       "    </tr>\n",
       "    <tr>\n",
       "      <th>1</th>\n",
       "      <td>Wendy's</td>\n",
       "      <td>Fast Food Restaurant</td>\n",
       "      <td>43.802008</td>\n",
       "      <td>-79.198080</td>\n",
       "    </tr>\n",
       "    <tr>\n",
       "      <th>2</th>\n",
       "      <td>Wendy’s</td>\n",
       "      <td>Fast Food Restaurant</td>\n",
       "      <td>43.807448</td>\n",
       "      <td>-79.199056</td>\n",
       "    </tr>\n",
       "    <tr>\n",
       "      <th>3</th>\n",
       "      <td>RBC Royal Bank</td>\n",
       "      <td>Bank</td>\n",
       "      <td>43.798782</td>\n",
       "      <td>-79.197090</td>\n",
       "    </tr>\n",
       "    <tr>\n",
       "      <th>4</th>\n",
       "      <td>Caribbean Wave</td>\n",
       "      <td>Caribbean Restaurant</td>\n",
       "      <td>43.798558</td>\n",
       "      <td>-79.195777</td>\n",
       "    </tr>\n",
       "    <tr>\n",
       "      <th>5</th>\n",
       "      <td>Staples Morningside</td>\n",
       "      <td>Paper / Office Supplies Store</td>\n",
       "      <td>43.800285</td>\n",
       "      <td>-79.196607</td>\n",
       "    </tr>\n",
       "    <tr>\n",
       "      <th>6</th>\n",
       "      <td>Tim Hortons</td>\n",
       "      <td>Coffee Shop</td>\n",
       "      <td>43.802000</td>\n",
       "      <td>-79.198169</td>\n",
       "    </tr>\n",
       "    <tr>\n",
       "      <th>7</th>\n",
       "      <td>Lee Valley</td>\n",
       "      <td>Hobby Shop</td>\n",
       "      <td>43.803161</td>\n",
       "      <td>-79.199681</td>\n",
       "    </tr>\n",
       "    <tr>\n",
       "      <th>8</th>\n",
       "      <td>Bus Stop: 85 &amp; 116</td>\n",
       "      <td>Bus Station</td>\n",
       "      <td>43.802198</td>\n",
       "      <td>-79.199389</td>\n",
       "    </tr>\n",
       "    <tr>\n",
       "      <th>9</th>\n",
       "      <td>Tim Hortons / Esso</td>\n",
       "      <td>Coffee Shop</td>\n",
       "      <td>43.801863</td>\n",
       "      <td>-79.199296</td>\n",
       "    </tr>\n",
       "    <tr>\n",
       "      <th>10</th>\n",
       "      <td>Ecopainting inc.</td>\n",
       "      <td>Construction &amp; Landscaping</td>\n",
       "      <td>43.808417</td>\n",
       "      <td>-79.202392</td>\n",
       "    </tr>\n",
       "    <tr>\n",
       "      <th>11</th>\n",
       "      <td>MMA World Academy</td>\n",
       "      <td>Martial Arts Dojo</td>\n",
       "      <td>43.800259</td>\n",
       "      <td>-79.195227</td>\n",
       "    </tr>\n",
       "    <tr>\n",
       "      <th>12</th>\n",
       "      <td>Rouge Park - Woodland Trail</td>\n",
       "      <td>Trail</td>\n",
       "      <td>43.801782</td>\n",
       "      <td>-79.200427</td>\n",
       "    </tr>\n",
       "    <tr>\n",
       "      <th>13</th>\n",
       "      <td>Upper Rouge Trail</td>\n",
       "      <td>Trail</td>\n",
       "      <td>43.809988</td>\n",
       "      <td>-79.186147</td>\n",
       "    </tr>\n",
       "    <tr>\n",
       "      <th>14</th>\n",
       "      <td>Charley's Exotic Cuisine</td>\n",
       "      <td>Chinese Restaurant</td>\n",
       "      <td>43.800982</td>\n",
       "      <td>-79.200233</td>\n",
       "    </tr>\n",
       "    <tr>\n",
       "      <th>15</th>\n",
       "      <td>Fit4Less</td>\n",
       "      <td>Gym</td>\n",
       "      <td>43.800135</td>\n",
       "      <td>-79.198683</td>\n",
       "    </tr>\n",
       "    <tr>\n",
       "      <th>16</th>\n",
       "      <td>Mr. Greek</td>\n",
       "      <td>Greek Restaurant</td>\n",
       "      <td>43.799853</td>\n",
       "      <td>-79.198234</td>\n",
       "    </tr>\n",
       "    <tr>\n",
       "      <th>17</th>\n",
       "      <td>Fusion Supermarket</td>\n",
       "      <td>Supermarket</td>\n",
       "      <td>43.800528</td>\n",
       "      <td>-79.200064</td>\n",
       "    </tr>\n",
       "    <tr>\n",
       "      <th>18</th>\n",
       "      <td>What a Bakery</td>\n",
       "      <td>Bakery</td>\n",
       "      <td>43.798888</td>\n",
       "      <td>-79.196473</td>\n",
       "    </tr>\n",
       "    <tr>\n",
       "      <th>19</th>\n",
       "      <td>Fabricland</td>\n",
       "      <td>Arts &amp; Crafts Store</td>\n",
       "      <td>43.799014</td>\n",
       "      <td>-79.197314</td>\n",
       "    </tr>\n",
       "    <tr>\n",
       "      <th>20</th>\n",
       "      <td>Quiznos</td>\n",
       "      <td>Sandwich Place</td>\n",
       "      <td>43.798773</td>\n",
       "      <td>-79.196556</td>\n",
       "    </tr>\n",
       "  </tbody>\n",
       "</table>\n",
       "</div>"
      ],
      "text/plain": [
       "                           name                     categories        lat  \\\n",
       "0                      Harvey's                     Restaurant  43.800020   \n",
       "1                       Wendy's           Fast Food Restaurant  43.802008   \n",
       "2                       Wendy’s           Fast Food Restaurant  43.807448   \n",
       "3                RBC Royal Bank                           Bank  43.798782   \n",
       "4                Caribbean Wave           Caribbean Restaurant  43.798558   \n",
       "5           Staples Morningside  Paper / Office Supplies Store  43.800285   \n",
       "6                   Tim Hortons                    Coffee Shop  43.802000   \n",
       "7                    Lee Valley                     Hobby Shop  43.803161   \n",
       "8            Bus Stop: 85 & 116                    Bus Station  43.802198   \n",
       "9            Tim Hortons / Esso                    Coffee Shop  43.801863   \n",
       "10             Ecopainting inc.     Construction & Landscaping  43.808417   \n",
       "11            MMA World Academy              Martial Arts Dojo  43.800259   \n",
       "12  Rouge Park - Woodland Trail                          Trail  43.801782   \n",
       "13            Upper Rouge Trail                          Trail  43.809988   \n",
       "14     Charley's Exotic Cuisine             Chinese Restaurant  43.800982   \n",
       "15                     Fit4Less                            Gym  43.800135   \n",
       "16                    Mr. Greek               Greek Restaurant  43.799853   \n",
       "17           Fusion Supermarket                    Supermarket  43.800528   \n",
       "18                What a Bakery                         Bakery  43.798888   \n",
       "19                   Fabricland            Arts & Crafts Store  43.799014   \n",
       "20                      Quiznos                 Sandwich Place  43.798773   \n",
       "\n",
       "          lng  \n",
       "0  -79.198307  \n",
       "1  -79.198080  \n",
       "2  -79.199056  \n",
       "3  -79.197090  \n",
       "4  -79.195777  \n",
       "5  -79.196607  \n",
       "6  -79.198169  \n",
       "7  -79.199681  \n",
       "8  -79.199389  \n",
       "9  -79.199296  \n",
       "10 -79.202392  \n",
       "11 -79.195227  \n",
       "12 -79.200427  \n",
       "13 -79.186147  \n",
       "14 -79.200233  \n",
       "15 -79.198683  \n",
       "16 -79.198234  \n",
       "17 -79.200064  \n",
       "18 -79.196473  \n",
       "19 -79.197314  \n",
       "20 -79.196556  "
      ]
     },
     "execution_count": 78,
     "metadata": {},
     "output_type": "execute_result"
    }
   ],
   "source": [
    "nearby_venues"
   ]
  },
  {
   "cell_type": "markdown",
   "metadata": {},
   "source": [
    "# Monte Carlo Inn Proximity \n",
    "\n",
    "### Coffee Point"
   ]
  },
  {
   "cell_type": "code",
   "execution_count": 115,
   "metadata": {},
   "outputs": [
    {
     "name": "stdout",
     "output_type": "stream",
     "text": [
      "43.6197126 -79.57203464983789\n"
     ]
    }
   ],
   "source": [
    "address = 'Monte Carlo Inn, Toronto'\n",
    "\n",
    "geolocator = Nominatim(user_agent=\"foursquare_agent\")\n",
    "location = geolocator.geocode(address)\n",
    "latitude = location.latitude\n",
    "longitude = location.longitude\n",
    "print(latitude, longitude)"
   ]
  },
  {
   "cell_type": "code",
   "execution_count": 119,
   "metadata": {},
   "outputs": [
    {
     "name": "stdout",
     "output_type": "stream",
     "text": [
      "Coffee .... OK!\n"
     ]
    }
   ],
   "source": [
    "search_query = 'Coffee'\n",
    "radius = 1000\n",
    "print(search_query + ' .... OK!')"
   ]
  },
  {
   "cell_type": "code",
   "execution_count": 120,
   "metadata": {},
   "outputs": [
    {
     "data": {
      "text/plain": [
       "'https://api.foursquare.com/v2/venues/search?client_id=FXWG412PGZMV0OTDDNYEC2XP2TGWP1ZTH5JD1RCML2OL5CLK&client_secret=RCZUNJDEY0MD0TH0KA5E3EDRLAF1T35JO5GSZNXQKZ0JX4PE&ll=43.6197126,-79.57203464983789&v=20180605&query=Coffee&radius=1000&limit=100'"
      ]
     },
     "execution_count": 120,
     "metadata": {},
     "output_type": "execute_result"
    }
   ],
   "source": [
    "url = 'https://api.foursquare.com/v2/venues/search?client_id={}&client_secret={}&ll={},{}&v={}&query={}&radius={}&limit={}'.format(CLIENT_ID, CLIENT_SECRET, latitude, longitude, VERSION, search_query, radius, LIMIT)\n",
    "url"
   ]
  },
  {
   "cell_type": "code",
   "execution_count": 121,
   "metadata": {},
   "outputs": [
    {
     "data": {
      "text/plain": [
       "{'meta': {'code': 200, 'requestId': '5ea333c669babe001b6223bc'},\n",
       " 'response': {'venues': [{'id': '524a147b11d2985983efdcb6',\n",
       "    'name': 'Starbucks',\n",
       "    'location': {'address': '1560 Dundas Street East',\n",
       "     'crossStreet': 'Dixie Road',\n",
       "     'lat': 43.612016479990174,\n",
       "     'lng': -79.57858300126318,\n",
       "     'labeledLatLngs': [{'label': 'display',\n",
       "       'lat': 43.612016479990174,\n",
       "       'lng': -79.57858300126318}],\n",
       "     'distance': 1006,\n",
       "     'postalCode': 'L4X 1L4',\n",
       "     'cc': 'CA',\n",
       "     'city': 'Mississauga',\n",
       "     'state': 'ON',\n",
       "     'country': 'Canada',\n",
       "     'formattedAddress': ['1560 Dundas Street East (Dixie Road)',\n",
       "      'Mississauga ON L4X 1L4',\n",
       "      'Canada']},\n",
       "    'categories': [{'id': '4bf58dd8d48988d1e0931735',\n",
       "      'name': 'Coffee Shop',\n",
       "      'pluralName': 'Coffee Shops',\n",
       "      'shortName': 'Coffee Shop',\n",
       "      'icon': {'prefix': 'https://ss3.4sqi.net/img/categories_v2/food/coffeeshop_',\n",
       "       'suffix': '.png'},\n",
       "      'primary': True}],\n",
       "    'referralId': 'v-1587754022',\n",
       "    'hasPerk': False}]}}"
      ]
     },
     "execution_count": 121,
     "metadata": {},
     "output_type": "execute_result"
    }
   ],
   "source": [
    "results = requests.get(url).json()\n",
    "results"
   ]
  },
  {
   "cell_type": "code",
   "execution_count": 122,
   "metadata": {},
   "outputs": [
    {
     "data": {
      "text/html": [
       "<div>\n",
       "<style scoped>\n",
       "    .dataframe tbody tr th:only-of-type {\n",
       "        vertical-align: middle;\n",
       "    }\n",
       "\n",
       "    .dataframe tbody tr th {\n",
       "        vertical-align: top;\n",
       "    }\n",
       "\n",
       "    .dataframe thead th {\n",
       "        text-align: right;\n",
       "    }\n",
       "</style>\n",
       "<table border=\"1\" class=\"dataframe\">\n",
       "  <thead>\n",
       "    <tr style=\"text-align: right;\">\n",
       "      <th></th>\n",
       "      <th>categories</th>\n",
       "      <th>hasPerk</th>\n",
       "      <th>id</th>\n",
       "      <th>location.address</th>\n",
       "      <th>location.cc</th>\n",
       "      <th>location.city</th>\n",
       "      <th>location.country</th>\n",
       "      <th>location.crossStreet</th>\n",
       "      <th>location.distance</th>\n",
       "      <th>location.formattedAddress</th>\n",
       "      <th>location.labeledLatLngs</th>\n",
       "      <th>location.lat</th>\n",
       "      <th>location.lng</th>\n",
       "      <th>location.postalCode</th>\n",
       "      <th>location.state</th>\n",
       "      <th>name</th>\n",
       "      <th>referralId</th>\n",
       "    </tr>\n",
       "  </thead>\n",
       "  <tbody>\n",
       "    <tr>\n",
       "      <th>0</th>\n",
       "      <td>[{'id': '4bf58dd8d48988d1e0931735', 'name': 'Coffee Shop', 'pluralName': 'Coffee Shops', 'shortName': 'Coffee Shop', 'icon': {'prefix': 'https://ss3.4sqi.net/img/categories_v2/food/coffeeshop_', 'suffix': '.png'}, 'primary': True}]</td>\n",
       "      <td>False</td>\n",
       "      <td>524a147b11d2985983efdcb6</td>\n",
       "      <td>1560 Dundas Street East</td>\n",
       "      <td>CA</td>\n",
       "      <td>Mississauga</td>\n",
       "      <td>Canada</td>\n",
       "      <td>Dixie Road</td>\n",
       "      <td>1006</td>\n",
       "      <td>[1560 Dundas Street East (Dixie Road), Mississauga ON L4X 1L4, Canada]</td>\n",
       "      <td>[{'label': 'display', 'lat': 43.612016479990174, 'lng': -79.57858300126318}]</td>\n",
       "      <td>43.612016</td>\n",
       "      <td>-79.578583</td>\n",
       "      <td>L4X 1L4</td>\n",
       "      <td>ON</td>\n",
       "      <td>Starbucks</td>\n",
       "      <td>v-1587754022</td>\n",
       "    </tr>\n",
       "  </tbody>\n",
       "</table>\n",
       "</div>"
      ],
      "text/plain": [
       "                                                                                                                                                                                                                                categories  \\\n",
       "0  [{'id': '4bf58dd8d48988d1e0931735', 'name': 'Coffee Shop', 'pluralName': 'Coffee Shops', 'shortName': 'Coffee Shop', 'icon': {'prefix': 'https://ss3.4sqi.net/img/categories_v2/food/coffeeshop_', 'suffix': '.png'}, 'primary': True}]   \n",
       "\n",
       "   hasPerk                        id         location.address location.cc  \\\n",
       "0  False    524a147b11d2985983efdcb6  1560 Dundas Street East  CA           \n",
       "\n",
       "  location.city location.country location.crossStreet  location.distance  \\\n",
       "0  Mississauga   Canada           Dixie Road           1006                \n",
       "\n",
       "                                                location.formattedAddress  \\\n",
       "0  [1560 Dundas Street East (Dixie Road), Mississauga ON L4X 1L4, Canada]   \n",
       "\n",
       "                                                        location.labeledLatLngs  \\\n",
       "0  [{'label': 'display', 'lat': 43.612016479990174, 'lng': -79.57858300126318}]   \n",
       "\n",
       "   location.lat  location.lng location.postalCode location.state       name  \\\n",
       "0  43.612016    -79.578583     L4X 1L4             ON             Starbucks   \n",
       "\n",
       "     referralId  \n",
       "0  v-1587754022  "
      ]
     },
     "execution_count": 122,
     "metadata": {},
     "output_type": "execute_result"
    }
   ],
   "source": [
    "venues = results['response']['venues']\n",
    "\n",
    "# tranform venues into a dataframe\n",
    "dataframe = json_normalize(venues)\n",
    "dataframe.head()"
   ]
  },
  {
   "cell_type": "code",
   "execution_count": 124,
   "metadata": {},
   "outputs": [
    {
     "data": {
      "text/html": [
       "<div>\n",
       "<style scoped>\n",
       "    .dataframe tbody tr th:only-of-type {\n",
       "        vertical-align: middle;\n",
       "    }\n",
       "\n",
       "    .dataframe tbody tr th {\n",
       "        vertical-align: top;\n",
       "    }\n",
       "\n",
       "    .dataframe thead th {\n",
       "        text-align: right;\n",
       "    }\n",
       "</style>\n",
       "<table border=\"1\" class=\"dataframe\">\n",
       "  <thead>\n",
       "    <tr style=\"text-align: right;\">\n",
       "      <th></th>\n",
       "      <th>name</th>\n",
       "      <th>categories</th>\n",
       "      <th>address</th>\n",
       "      <th>cc</th>\n",
       "      <th>city</th>\n",
       "      <th>country</th>\n",
       "      <th>crossStreet</th>\n",
       "      <th>distance</th>\n",
       "      <th>formattedAddress</th>\n",
       "      <th>labeledLatLngs</th>\n",
       "      <th>lat</th>\n",
       "      <th>lng</th>\n",
       "      <th>postalCode</th>\n",
       "      <th>state</th>\n",
       "      <th>id</th>\n",
       "    </tr>\n",
       "  </thead>\n",
       "  <tbody>\n",
       "    <tr>\n",
       "      <th>0</th>\n",
       "      <td>Starbucks</td>\n",
       "      <td>Coffee Shop</td>\n",
       "      <td>1560 Dundas Street East</td>\n",
       "      <td>CA</td>\n",
       "      <td>Mississauga</td>\n",
       "      <td>Canada</td>\n",
       "      <td>Dixie Road</td>\n",
       "      <td>1006</td>\n",
       "      <td>[1560 Dundas Street East (Dixie Road), Mississauga ON L4X 1L4, Canada]</td>\n",
       "      <td>[{'label': 'display', 'lat': 43.612016479990174, 'lng': -79.57858300126318}]</td>\n",
       "      <td>43.612016</td>\n",
       "      <td>-79.578583</td>\n",
       "      <td>L4X 1L4</td>\n",
       "      <td>ON</td>\n",
       "      <td>524a147b11d2985983efdcb6</td>\n",
       "    </tr>\n",
       "  </tbody>\n",
       "</table>\n",
       "</div>"
      ],
      "text/plain": [
       "        name   categories                  address  cc         city country  \\\n",
       "0  Starbucks  Coffee Shop  1560 Dundas Street East  CA  Mississauga  Canada   \n",
       "\n",
       "  crossStreet  distance  \\\n",
       "0  Dixie Road  1006       \n",
       "\n",
       "                                                         formattedAddress  \\\n",
       "0  [1560 Dundas Street East (Dixie Road), Mississauga ON L4X 1L4, Canada]   \n",
       "\n",
       "                                                                 labeledLatLngs  \\\n",
       "0  [{'label': 'display', 'lat': 43.612016479990174, 'lng': -79.57858300126318}]   \n",
       "\n",
       "         lat        lng postalCode state                        id  \n",
       "0  43.612016 -79.578583  L4X 1L4    ON    524a147b11d2985983efdcb6  "
      ]
     },
     "execution_count": 124,
     "metadata": {},
     "output_type": "execute_result"
    }
   ],
   "source": [
    "# keep only columns that include venue name, and anything that is associated with location\n",
    "filtered_columns = ['name', 'categories'] + [col for col in dataframe.columns if col.startswith('location.')] + ['id']\n",
    "dataframe_filtered = dataframe.loc[:, filtered_columns]\n",
    "\n",
    "# function that extracts the category of the venue\n",
    "def get_category_type(row):\n",
    "    try:\n",
    "        categories_list = row['categories']\n",
    "    except:\n",
    "        categories_list = row['venue.categories']\n",
    "        \n",
    "    if len(categories_list) == 0:\n",
    "        return None\n",
    "    else:\n",
    "        return categories_list[0]['name']\n",
    "\n",
    "# filter the category for each row\n",
    "dataframe_filtered['categories'] = dataframe_filtered.apply(get_category_type, axis=1)\n",
    "\n",
    "# clean column names by keeping only last term\n",
    "dataframe_filtered.columns = [column.split('.')[-1] for column in dataframe_filtered.columns]\n",
    "\n",
    "dataframe_filtered"
   ]
  },
  {
   "cell_type": "code",
   "execution_count": 125,
   "metadata": {},
   "outputs": [
    {
     "data": {
      "text/plain": [
       "0    Starbucks\n",
       "Name: name, dtype: object"
      ]
     },
     "execution_count": 125,
     "metadata": {},
     "output_type": "execute_result"
    }
   ],
   "source": [
    "dataframe_filtered.name"
   ]
  },
  {
   "cell_type": "code",
   "execution_count": 126,
   "metadata": {},
   "outputs": [
    {
     "data": {
      "text/html": [
       "<div style=\"width:100%;\"><div style=\"position:relative;width:100%;height:0;padding-bottom:60%;\"><iframe src=\"about:blank\" style=\"position:absolute;width:100%;height:100%;left:0;top:0;border:none !important;\" data-html=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 onload=\"this.contentDocument.open();this.contentDocument.write(atob(this.getAttribute('data-html')));this.contentDocument.close();\" allowfullscreen webkitallowfullscreen mozallowfullscreen></iframe></div></div>"
      ],
      "text/plain": [
       "<folium.folium.Map at 0x2317d798518>"
      ]
     },
     "execution_count": 126,
     "metadata": {},
     "output_type": "execute_result"
    }
   ],
   "source": [
    "venues_map = folium.Map(location=[latitude, longitude], zoom_start=13) \n",
    "\n",
    "# add a red circle marker to represent the Conrad Hotel\n",
    "folium.features.CircleMarker(\n",
    "    [latitude, longitude],\n",
    "    radius=10,\n",
    "    color='red',\n",
    "    popup='Hotel',\n",
    "    fill = True,\n",
    "    fill_color = 'red',\n",
    "    fill_opacity = 0.6\n",
    ").add_to(venues_map)\n",
    "\n",
    "# add the Italian restaurants as blue circle markers\n",
    "for lat, lng, label in zip(dataframe_filtered.lat, dataframe_filtered.lng, dataframe_filtered.categories):\n",
    "    folium.features.CircleMarker(\n",
    "        [lat, lng],\n",
    "        radius=5,\n",
    "        color='blue',\n",
    "        popup=label,\n",
    "        fill = True,\n",
    "        fill_color='blue',\n",
    "        fill_opacity=0.6\n",
    "    ).add_to(venues_map)\n",
    "\n",
    "# display map\n",
    "venues_map"
   ]
  },
  {
   "cell_type": "code",
   "execution_count": 127,
   "metadata": {},
   "outputs": [
    {
     "data": {
      "text/plain": [
       "'https://api.foursquare.com/v2/venues/4dad8ab9043718a63e33e294?client_id=FXWG412PGZMV0OTDDNYEC2XP2TGWP1ZTH5JD1RCML2OL5CLK&client_secret=RCZUNJDEY0MD0TH0KA5E3EDRLAF1T35JO5GSZNXQKZ0JX4PE&v=20180605'"
      ]
     },
     "execution_count": 127,
     "metadata": {},
     "output_type": "execute_result"
    }
   ],
   "source": [
    "venue_id = '4dad8ab9043718a63e33e294' \n",
    "url = 'https://api.foursquare.com/v2/venues/{}?client_id={}&client_secret={}&v={}'.format(venue_id, CLIENT_ID, CLIENT_SECRET, VERSION)\n",
    "url"
   ]
  },
  {
   "cell_type": "code",
   "execution_count": 128,
   "metadata": {
    "collapsed": true
   },
   "outputs": [
    {
     "name": "stdout",
     "output_type": "stream",
     "text": [
      "dict_keys(['id', 'name', 'contact', 'location', 'canonicalUrl', 'categories', 'verified', 'stats', 'price', 'likes', 'dislike', 'ok', 'allowMenuUrlEdit', 'beenHere', 'specials', 'photos', 'reasons', 'hereNow', 'createdAt', 'tips', 'shortUrl', 'timeZone', 'listed', 'seasonalHours', 'pageUpdates', 'inbox', 'attributes', 'bestPhoto', 'colors'])\n"
     ]
    },
    {
     "data": {
      "text/plain": [
       "{'id': '4dad8ab9043718a63e33e294',\n",
       " 'name': 'Coffee Time',\n",
       " 'contact': {},\n",
       " 'location': {'address': '2195 Midland Ave',\n",
       "  'crossStreet': 'at Progress Ave',\n",
       "  'lat': 43.773307723529335,\n",
       "  'lng': -79.27289954044328,\n",
       "  'labeledLatLngs': [{'label': 'display',\n",
       "    'lat': 43.773307723529335,\n",
       "    'lng': -79.27289954044328}],\n",
       "  'cc': 'CA',\n",
       "  'city': 'Toronto',\n",
       "  'state': 'ON',\n",
       "  'country': 'Canada',\n",
       "  'formattedAddress': ['2195 Midland Ave (at Progress Ave)',\n",
       "   'Toronto ON',\n",
       "   'Canada']},\n",
       " 'canonicalUrl': 'https://foursquare.com/v/coffee-time/4dad8ab9043718a63e33e294',\n",
       " 'categories': [{'id': '4bf58dd8d48988d1e0931735',\n",
       "   'name': 'Coffee Shop',\n",
       "   'pluralName': 'Coffee Shops',\n",
       "   'shortName': 'Coffee Shop',\n",
       "   'icon': {'prefix': 'https://ss3.4sqi.net/img/categories_v2/food/coffeeshop_',\n",
       "    'suffix': '.png'},\n",
       "   'primary': True}],\n",
       " 'verified': False,\n",
       " 'stats': {'tipCount': 1},\n",
       " 'price': {'tier': 1, 'message': 'Cheap', 'currency': '$'},\n",
       " 'likes': {'count': 3,\n",
       "  'groups': [{'type': 'others',\n",
       "    'count': 3,\n",
       "    'items': [{'id': '409557238',\n",
       "      'firstName': 'Dagmar',\n",
       "      'lastName': 'S',\n",
       "      'photo': {'prefix': 'https://fastly.4sqi.net/img/user/',\n",
       "       'suffix': '/409557238_PHMyqMX1_9FXja1H1QWXnf6LDL5GXCHqEWRU_gB3soBImoYGImVXIAoc90bgmHzSLlDTSrMiK.jpg'}},\n",
       "     {'id': '6773183',\n",
       "      'firstName': 'Thilaknath',\n",
       "      'lastName': 'A',\n",
       "      'photo': {'prefix': 'https://fastly.4sqi.net/img/user/',\n",
       "       'suffix': '/6773183-EIDZMIR3U2MCASZF.jpg'}},\n",
       "     {'id': '4935263',\n",
       "      'firstName': 'Benjamin',\n",
       "      'photo': {'prefix': 'https://fastly.4sqi.net/img/user/',\n",
       "       'suffix': '/UFUGTN4QHKJUNKUK.jpg'}}]}],\n",
       "  'summary': '3 Likes'},\n",
       " 'dislike': False,\n",
       " 'ok': False,\n",
       " 'allowMenuUrlEdit': True,\n",
       " 'beenHere': {'count': 0,\n",
       "  'unconfirmedCount': 0,\n",
       "  'marked': False,\n",
       "  'lastCheckinExpiredAt': 0},\n",
       " 'specials': {'count': 0, 'items': []},\n",
       " 'photos': {'count': 2,\n",
       "  'groups': [{'type': 'venue',\n",
       "    'name': 'Venue photos',\n",
       "    'count': 2,\n",
       "    'items': [{'id': '56c0d423cd1019b9ce91c44f',\n",
       "      'createdAt': 1455477795,\n",
       "      'source': {'name': 'Swarm for Android',\n",
       "       'url': 'https://www.swarmapp.com'},\n",
       "      'prefix': 'https://fastly.4sqi.net/img/general/',\n",
       "      'suffix': '/149265055_IX7B24DDRtFJOpqXkTAJPUB9PCpb37D0hXwzMPdS_pY.jpg',\n",
       "      'width': 540,\n",
       "      'height': 960,\n",
       "      'user': {'id': '149265055',\n",
       "       'firstName': 'Andrew',\n",
       "       'lastName': 'B',\n",
       "       'photo': {'prefix': 'https://fastly.4sqi.net/img/user/',\n",
       "        'suffix': '/149265055-C54MX5YRC4BLBM0E.jpg'}},\n",
       "      'visibility': 'public'}]}]},\n",
       " 'reasons': {'count': 0, 'items': []},\n",
       " 'hereNow': {'count': 0, 'summary': 'Nobody here', 'groups': []},\n",
       " 'createdAt': 1303218873,\n",
       " 'tips': {'count': 1,\n",
       "  'groups': [{'type': 'others',\n",
       "    'name': 'All tips',\n",
       "    'count': 1,\n",
       "    'items': [{'id': '51f30b84498eaf5718b5e7e2',\n",
       "      'createdAt': 1374882692,\n",
       "      'text': 'Good food, good times',\n",
       "      'type': 'user',\n",
       "      'canonicalUrl': 'https://foursquare.com/item/51f30b84498eaf5718b5e7e2',\n",
       "      'lang': 'en',\n",
       "      'likes': {'count': 1,\n",
       "       'groups': [{'type': 'others',\n",
       "         'count': 1,\n",
       "         'items': [{'id': '4935263',\n",
       "           'firstName': 'Benjamin',\n",
       "           'photo': {'prefix': 'https://fastly.4sqi.net/img/user/',\n",
       "            'suffix': '/UFUGTN4QHKJUNKUK.jpg'}}]}],\n",
       "       'summary': '1 like'},\n",
       "      'logView': True,\n",
       "      'agreeCount': 1,\n",
       "      'disagreeCount': 0,\n",
       "      'todo': {'count': 0},\n",
       "      'user': {'id': '8131699',\n",
       "       'firstName': 'Kris',\n",
       "       'lastName': 'M',\n",
       "       'photo': {'prefix': 'https://fastly.4sqi.net/img/user/',\n",
       "        'suffix': '/4D5M0MQJ00KKOBPY.jpg'}}}]}]},\n",
       " 'shortUrl': 'http://4sq.com/eZMEEC',\n",
       " 'timeZone': 'America/Toronto',\n",
       " 'listed': {'count': 0,\n",
       "  'groups': [{'type': 'others',\n",
       "    'name': 'Lists from other people',\n",
       "    'count': 0,\n",
       "    'items': []}]},\n",
       " 'seasonalHours': [],\n",
       " 'pageUpdates': {'count': 0, 'items': []},\n",
       " 'inbox': {'count': 0, 'items': []},\n",
       " 'attributes': {'groups': [{'type': 'price',\n",
       "    'name': 'Price',\n",
       "    'summary': '$',\n",
       "    'count': 1,\n",
       "    'items': [{'displayName': 'Price', 'displayValue': '$', 'priceTier': 1}]},\n",
       "   {'type': 'payments',\n",
       "    'name': 'Credit Cards',\n",
       "    'summary': 'Credit Cards',\n",
       "    'count': 5,\n",
       "    'items': [{'displayName': 'Credit Cards', 'displayValue': 'Yes'}]},\n",
       "   {'type': 'outdoorSeating',\n",
       "    'name': 'Outdoor Seating',\n",
       "    'summary': 'Outdoor Seating',\n",
       "    'count': 1,\n",
       "    'items': [{'displayName': 'Outdoor Seating', 'displayValue': 'Yes'}]},\n",
       "   {'type': 'wifi',\n",
       "    'name': 'Wi-Fi',\n",
       "    'summary': 'Wi-Fi',\n",
       "    'count': 1,\n",
       "    'items': [{'displayName': 'Wi-Fi', 'displayValue': 'Yes'}]}]},\n",
       " 'bestPhoto': {'id': '56c0d423cd1019b9ce91c44f',\n",
       "  'createdAt': 1455477795,\n",
       "  'source': {'name': 'Swarm for Android', 'url': 'https://www.swarmapp.com'},\n",
       "  'prefix': 'https://fastly.4sqi.net/img/general/',\n",
       "  'suffix': '/149265055_IX7B24DDRtFJOpqXkTAJPUB9PCpb37D0hXwzMPdS_pY.jpg',\n",
       "  'width': 540,\n",
       "  'height': 960,\n",
       "  'visibility': 'public'},\n",
       " 'colors': {'highlightColor': {'photoId': '56c0d423cd1019b9ce91c44f',\n",
       "   'value': -9404280},\n",
       "  'highlightTextColor': {'photoId': '56c0d423cd1019b9ce91c44f',\n",
       "   'value': -16777216},\n",
       "  'algoVersion': 3}}"
      ]
     },
     "execution_count": 128,
     "metadata": {},
     "output_type": "execute_result"
    }
   ],
   "source": [
    "result = requests.get(url).json()\n",
    "print(result['response']['venue'].keys())\n",
    "result['response']['venue']"
   ]
  },
  {
   "cell_type": "code",
   "execution_count": 129,
   "metadata": {},
   "outputs": [
    {
     "name": "stdout",
     "output_type": "stream",
     "text": [
      "This venue has not been rated yet.\n"
     ]
    }
   ],
   "source": [
    "try:\n",
    "    print(result['response']['venue']['rating'])\n",
    "except:\n",
    "    print('This venue has not been rated yet.')"
   ]
  },
  {
   "cell_type": "markdown",
   "metadata": {},
   "source": [
    "## Brunch"
   ]
  },
  {
   "cell_type": "code",
   "execution_count": 137,
   "metadata": {},
   "outputs": [
    {
     "name": "stdout",
     "output_type": "stream",
     "text": [
      "Restaurant .... OK!\n"
     ]
    }
   ],
   "source": [
    "search_query = 'Restaurant'\n",
    "radius = 100\n",
    "print(search_query + ' .... OK!')"
   ]
  },
  {
   "cell_type": "code",
   "execution_count": 138,
   "metadata": {},
   "outputs": [
    {
     "data": {
      "text/plain": [
       "'https://api.foursquare.com/v2/venues/search?client_id=FXWG412PGZMV0OTDDNYEC2XP2TGWP1ZTH5JD1RCML2OL5CLK&client_secret=RCZUNJDEY0MD0TH0KA5E3EDRLAF1T35JO5GSZNXQKZ0JX4PE&ll=43.6197126,-79.57203464983789&v=20180605&query=Restaurant&radius=100&limit=100'"
      ]
     },
     "execution_count": 138,
     "metadata": {},
     "output_type": "execute_result"
    }
   ],
   "source": [
    "url = 'https://api.foursquare.com/v2/venues/search?client_id={}&client_secret={}&ll={},{}&v={}&query={}&radius={}&limit={}'.format(CLIENT_ID, CLIENT_SECRET, latitude, longitude, VERSION, search_query, radius, LIMIT)\n",
    "url"
   ]
  },
  {
   "cell_type": "code",
   "execution_count": 139,
   "metadata": {},
   "outputs": [
    {
     "data": {
      "text/plain": [
       "{'meta': {'code': 200, 'requestId': '5ea338a21835dd05eb3f1a3c'},\n",
       " 'response': {'venues': [{'id': '4bdf6678e75c0f470617cb03',\n",
       "    'name': 'Silk Road Restaurant 丝绸之路',\n",
       "    'location': {'address': '1852 Dundas St E',\n",
       "     'crossStreet': 'at Wharton Way',\n",
       "     'lat': 43.61927817099883,\n",
       "     'lng': -79.57303110058828,\n",
       "     'labeledLatLngs': [{'label': 'display',\n",
       "       'lat': 43.61927817099883,\n",
       "       'lng': -79.57303110058828}],\n",
       "     'distance': 93,\n",
       "     'postalCode': 'L4X 1L9',\n",
       "     'cc': 'CA',\n",
       "     'city': 'Mississauga',\n",
       "     'state': 'ON',\n",
       "     'country': 'Canada',\n",
       "     'formattedAddress': ['1852 Dundas St E (at Wharton Way)',\n",
       "      'Mississauga ON L4X 1L9',\n",
       "      'Canada']},\n",
       "    'categories': [{'id': '52af3b913cf9994f4e043c06',\n",
       "      'name': 'Xinjiang Restaurant',\n",
       "      'pluralName': 'Xinjiang Restaurants',\n",
       "      'shortName': 'Xinjiang',\n",
       "      'icon': {'prefix': 'https://ss3.4sqi.net/img/categories_v2/food/asian_',\n",
       "       'suffix': '.png'},\n",
       "      'primary': True}],\n",
       "    'referralId': 'v-1587755359',\n",
       "    'hasPerk': False}]}}"
      ]
     },
     "execution_count": 139,
     "metadata": {},
     "output_type": "execute_result"
    }
   ],
   "source": [
    "results = requests.get(url).json()\n",
    "results"
   ]
  },
  {
   "cell_type": "code",
   "execution_count": 140,
   "metadata": {},
   "outputs": [
    {
     "data": {
      "text/html": [
       "<div>\n",
       "<style scoped>\n",
       "    .dataframe tbody tr th:only-of-type {\n",
       "        vertical-align: middle;\n",
       "    }\n",
       "\n",
       "    .dataframe tbody tr th {\n",
       "        vertical-align: top;\n",
       "    }\n",
       "\n",
       "    .dataframe thead th {\n",
       "        text-align: right;\n",
       "    }\n",
       "</style>\n",
       "<table border=\"1\" class=\"dataframe\">\n",
       "  <thead>\n",
       "    <tr style=\"text-align: right;\">\n",
       "      <th></th>\n",
       "      <th>categories</th>\n",
       "      <th>hasPerk</th>\n",
       "      <th>id</th>\n",
       "      <th>location.address</th>\n",
       "      <th>location.cc</th>\n",
       "      <th>location.city</th>\n",
       "      <th>location.country</th>\n",
       "      <th>location.crossStreet</th>\n",
       "      <th>location.distance</th>\n",
       "      <th>location.formattedAddress</th>\n",
       "      <th>location.labeledLatLngs</th>\n",
       "      <th>location.lat</th>\n",
       "      <th>location.lng</th>\n",
       "      <th>location.postalCode</th>\n",
       "      <th>location.state</th>\n",
       "      <th>name</th>\n",
       "      <th>referralId</th>\n",
       "    </tr>\n",
       "  </thead>\n",
       "  <tbody>\n",
       "    <tr>\n",
       "      <th>0</th>\n",
       "      <td>[{'id': '52af3b913cf9994f4e043c06', 'name': 'Xinjiang Restaurant', 'pluralName': 'Xinjiang Restaurants', 'shortName': 'Xinjiang', 'icon': {'prefix': 'https://ss3.4sqi.net/img/categories_v2/food/asian_', 'suffix': '.png'}, 'primary': True}]</td>\n",
       "      <td>False</td>\n",
       "      <td>4bdf6678e75c0f470617cb03</td>\n",
       "      <td>1852 Dundas St E</td>\n",
       "      <td>CA</td>\n",
       "      <td>Mississauga</td>\n",
       "      <td>Canada</td>\n",
       "      <td>at Wharton Way</td>\n",
       "      <td>93</td>\n",
       "      <td>[1852 Dundas St E (at Wharton Way), Mississauga ON L4X 1L9, Canada]</td>\n",
       "      <td>[{'label': 'display', 'lat': 43.61927817099883, 'lng': -79.57303110058828}]</td>\n",
       "      <td>43.619278</td>\n",
       "      <td>-79.573031</td>\n",
       "      <td>L4X 1L9</td>\n",
       "      <td>ON</td>\n",
       "      <td>Silk Road Restaurant 丝绸之路</td>\n",
       "      <td>v-1587755359</td>\n",
       "    </tr>\n",
       "  </tbody>\n",
       "</table>\n",
       "</div>"
      ],
      "text/plain": [
       "                                                                                                                                                                                                                                        categories  \\\n",
       "0  [{'id': '52af3b913cf9994f4e043c06', 'name': 'Xinjiang Restaurant', 'pluralName': 'Xinjiang Restaurants', 'shortName': 'Xinjiang', 'icon': {'prefix': 'https://ss3.4sqi.net/img/categories_v2/food/asian_', 'suffix': '.png'}, 'primary': True}]   \n",
       "\n",
       "   hasPerk                        id  location.address location.cc  \\\n",
       "0  False    4bdf6678e75c0f470617cb03  1852 Dundas St E  CA           \n",
       "\n",
       "  location.city location.country location.crossStreet  location.distance  \\\n",
       "0  Mississauga   Canada           at Wharton Way       93                  \n",
       "\n",
       "                                             location.formattedAddress  \\\n",
       "0  [1852 Dundas St E (at Wharton Way), Mississauga ON L4X 1L9, Canada]   \n",
       "\n",
       "                                                       location.labeledLatLngs  \\\n",
       "0  [{'label': 'display', 'lat': 43.61927817099883, 'lng': -79.57303110058828}]   \n",
       "\n",
       "   location.lat  location.lng location.postalCode location.state  \\\n",
       "0  43.619278    -79.573031     L4X 1L9             ON              \n",
       "\n",
       "                        name    referralId  \n",
       "0  Silk Road Restaurant 丝绸之路  v-1587755359  "
      ]
     },
     "execution_count": 140,
     "metadata": {},
     "output_type": "execute_result"
    }
   ],
   "source": [
    "venues = results['response']['venues']\n",
    "\n",
    "dataframe = json_normalize(venues)\n",
    "dataframe.head()"
   ]
  },
  {
   "cell_type": "code",
   "execution_count": 142,
   "metadata": {},
   "outputs": [
    {
     "data": {
      "text/html": [
       "<div>\n",
       "<style scoped>\n",
       "    .dataframe tbody tr th:only-of-type {\n",
       "        vertical-align: middle;\n",
       "    }\n",
       "\n",
       "    .dataframe tbody tr th {\n",
       "        vertical-align: top;\n",
       "    }\n",
       "\n",
       "    .dataframe thead th {\n",
       "        text-align: right;\n",
       "    }\n",
       "</style>\n",
       "<table border=\"1\" class=\"dataframe\">\n",
       "  <thead>\n",
       "    <tr style=\"text-align: right;\">\n",
       "      <th></th>\n",
       "      <th>name</th>\n",
       "      <th>categories</th>\n",
       "      <th>address</th>\n",
       "      <th>cc</th>\n",
       "      <th>city</th>\n",
       "      <th>country</th>\n",
       "      <th>crossStreet</th>\n",
       "      <th>distance</th>\n",
       "      <th>formattedAddress</th>\n",
       "      <th>labeledLatLngs</th>\n",
       "      <th>lat</th>\n",
       "      <th>lng</th>\n",
       "      <th>postalCode</th>\n",
       "      <th>state</th>\n",
       "      <th>id</th>\n",
       "    </tr>\n",
       "  </thead>\n",
       "  <tbody>\n",
       "    <tr>\n",
       "      <th>0</th>\n",
       "      <td>Silk Road Restaurant 丝绸之路</td>\n",
       "      <td>Xinjiang Restaurant</td>\n",
       "      <td>1852 Dundas St E</td>\n",
       "      <td>CA</td>\n",
       "      <td>Mississauga</td>\n",
       "      <td>Canada</td>\n",
       "      <td>at Wharton Way</td>\n",
       "      <td>93</td>\n",
       "      <td>[1852 Dundas St E (at Wharton Way), Mississauga ON L4X 1L9, Canada]</td>\n",
       "      <td>[{'label': 'display', 'lat': 43.61927817099883, 'lng': -79.57303110058828}]</td>\n",
       "      <td>43.619278</td>\n",
       "      <td>-79.573031</td>\n",
       "      <td>L4X 1L9</td>\n",
       "      <td>ON</td>\n",
       "      <td>4bdf6678e75c0f470617cb03</td>\n",
       "    </tr>\n",
       "  </tbody>\n",
       "</table>\n",
       "</div>"
      ],
      "text/plain": [
       "                        name           categories           address  cc  \\\n",
       "0  Silk Road Restaurant 丝绸之路  Xinjiang Restaurant  1852 Dundas St E  CA   \n",
       "\n",
       "          city country     crossStreet  distance  \\\n",
       "0  Mississauga  Canada  at Wharton Way  93         \n",
       "\n",
       "                                                      formattedAddress  \\\n",
       "0  [1852 Dundas St E (at Wharton Way), Mississauga ON L4X 1L9, Canada]   \n",
       "\n",
       "                                                                labeledLatLngs  \\\n",
       "0  [{'label': 'display', 'lat': 43.61927817099883, 'lng': -79.57303110058828}]   \n",
       "\n",
       "         lat        lng postalCode state                        id  \n",
       "0  43.619278 -79.573031  L4X 1L9    ON    4bdf6678e75c0f470617cb03  "
      ]
     },
     "execution_count": 142,
     "metadata": {},
     "output_type": "execute_result"
    }
   ],
   "source": [
    "filtered_columns = ['name', 'categories'] + [col for col in dataframe.columns if col.startswith('location.')] + ['id']\n",
    "dataframe_filtered = dataframe.loc[:, filtered_columns]\n",
    "\n",
    "\n",
    "def get_category_type(row):\n",
    "    try:\n",
    "        categories_list = row['categories']\n",
    "    except:\n",
    "        categories_list = row['venue.categories']\n",
    "        \n",
    "    if len(categories_list) == 0:\n",
    "        return None\n",
    "    else:\n",
    "        return categories_list[0]['name']\n",
    "\n",
    "\n",
    "dataframe_filtered['categories'] = dataframe_filtered.apply(get_category_type, axis=1)\n",
    "\n",
    "\n",
    "dataframe_filtered.columns = [column.split('.')[-1] for column in dataframe_filtered.columns]\n",
    "\n",
    "dataframe_filtered"
   ]
  },
  {
   "cell_type": "code",
   "execution_count": 143,
   "metadata": {},
   "outputs": [
    {
     "data": {
      "text/plain": [
       "0    Silk Road Restaurant 丝绸之路\n",
       "Name: name, dtype: object"
      ]
     },
     "execution_count": 143,
     "metadata": {},
     "output_type": "execute_result"
    }
   ],
   "source": [
    "dataframe_filtered.name"
   ]
  },
  {
   "cell_type": "code",
   "execution_count": 144,
   "metadata": {},
   "outputs": [
    {
     "data": {
      "text/html": [
       "<div style=\"width:100%;\"><div style=\"position:relative;width:100%;height:0;padding-bottom:60%;\"><iframe src=\"about:blank\" style=\"position:absolute;width:100%;height:100%;left:0;top:0;border:none !important;\" data-html=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 onload=\"this.contentDocument.open();this.contentDocument.write(atob(this.getAttribute('data-html')));this.contentDocument.close();\" allowfullscreen webkitallowfullscreen mozallowfullscreen></iframe></div></div>"
      ],
      "text/plain": [
       "<folium.folium.Map at 0x2317d7d02e8>"
      ]
     },
     "execution_count": 144,
     "metadata": {},
     "output_type": "execute_result"
    }
   ],
   "source": [
    "venues_map = folium.Map(location=[latitude, longitude], zoom_start=13) \n",
    "\n",
    "# add a red circle marker to represent the Conrad Hotel\n",
    "folium.features.CircleMarker(\n",
    "    [latitude, longitude],\n",
    "    radius=10,\n",
    "    color='red',\n",
    "    popup='Hotel',\n",
    "    fill = True,\n",
    "    fill_color = 'red',\n",
    "    fill_opacity = 0.6\n",
    ").add_to(venues_map)\n",
    "\n",
    "# add the Italian restaurants as blue circle markers\n",
    "for lat, lng, label in zip(dataframe_filtered.lat, dataframe_filtered.lng, dataframe_filtered.categories):\n",
    "    folium.features.CircleMarker(\n",
    "        [lat, lng],\n",
    "        radius=5,\n",
    "        color='blue',\n",
    "        popup=label,\n",
    "        fill = True,\n",
    "        fill_color='blue',\n",
    "        fill_opacity=0.6\n",
    "    ).add_to(venues_map)\n",
    "\n",
    "venues_map"
   ]
  },
  {
   "cell_type": "code",
   "execution_count": 145,
   "metadata": {},
   "outputs": [
    {
     "data": {
      "text/plain": [
       "'https://api.foursquare.com/v2/venues/4dad8ab9043718a63e33e294?client_id=FXWG412PGZMV0OTDDNYEC2XP2TGWP1ZTH5JD1RCML2OL5CLK&client_secret=RCZUNJDEY0MD0TH0KA5E3EDRLAF1T35JO5GSZNXQKZ0JX4PE&v=20180605'"
      ]
     },
     "execution_count": 145,
     "metadata": {},
     "output_type": "execute_result"
    }
   ],
   "source": [
    "venue_id = '4dad8ab9043718a63e33e294' \n",
    "url = 'https://api.foursquare.com/v2/venues/{}?client_id={}&client_secret={}&v={}'.format(venue_id, CLIENT_ID, CLIENT_SECRET, VERSION)\n",
    "url"
   ]
  },
  {
   "cell_type": "code",
   "execution_count": 146,
   "metadata": {},
   "outputs": [
    {
     "name": "stdout",
     "output_type": "stream",
     "text": [
      "dict_keys(['id', 'name', 'contact', 'location', 'canonicalUrl', 'categories', 'verified', 'stats', 'price', 'likes', 'dislike', 'ok', 'allowMenuUrlEdit', 'beenHere', 'specials', 'photos', 'reasons', 'hereNow', 'createdAt', 'tips', 'shortUrl', 'timeZone', 'listed', 'seasonalHours', 'pageUpdates', 'inbox', 'attributes', 'bestPhoto', 'colors'])\n"
     ]
    },
    {
     "data": {
      "text/plain": [
       "{'id': '4dad8ab9043718a63e33e294',\n",
       " 'name': 'Coffee Time',\n",
       " 'contact': {},\n",
       " 'location': {'address': '2195 Midland Ave',\n",
       "  'crossStreet': 'at Progress Ave',\n",
       "  'lat': 43.773307723529335,\n",
       "  'lng': -79.27289954044328,\n",
       "  'labeledLatLngs': [{'label': 'display',\n",
       "    'lat': 43.773307723529335,\n",
       "    'lng': -79.27289954044328}],\n",
       "  'cc': 'CA',\n",
       "  'city': 'Toronto',\n",
       "  'state': 'ON',\n",
       "  'country': 'Canada',\n",
       "  'formattedAddress': ['2195 Midland Ave (at Progress Ave)',\n",
       "   'Toronto ON',\n",
       "   'Canada']},\n",
       " 'canonicalUrl': 'https://foursquare.com/v/coffee-time/4dad8ab9043718a63e33e294',\n",
       " 'categories': [{'id': '4bf58dd8d48988d1e0931735',\n",
       "   'name': 'Coffee Shop',\n",
       "   'pluralName': 'Coffee Shops',\n",
       "   'shortName': 'Coffee Shop',\n",
       "   'icon': {'prefix': 'https://ss3.4sqi.net/img/categories_v2/food/coffeeshop_',\n",
       "    'suffix': '.png'},\n",
       "   'primary': True}],\n",
       " 'verified': False,\n",
       " 'stats': {'tipCount': 1},\n",
       " 'price': {'tier': 1, 'message': 'Cheap', 'currency': '$'},\n",
       " 'likes': {'count': 3,\n",
       "  'groups': [{'type': 'others',\n",
       "    'count': 3,\n",
       "    'items': [{'id': '409557238',\n",
       "      'firstName': 'Dagmar',\n",
       "      'lastName': 'S',\n",
       "      'photo': {'prefix': 'https://fastly.4sqi.net/img/user/',\n",
       "       'suffix': '/409557238_PHMyqMX1_9FXja1H1QWXnf6LDL5GXCHqEWRU_gB3soBImoYGImVXIAoc90bgmHzSLlDTSrMiK.jpg'}},\n",
       "     {'id': '6773183',\n",
       "      'firstName': 'Thilaknath',\n",
       "      'lastName': 'A',\n",
       "      'photo': {'prefix': 'https://fastly.4sqi.net/img/user/',\n",
       "       'suffix': '/6773183-EIDZMIR3U2MCASZF.jpg'}},\n",
       "     {'id': '4935263',\n",
       "      'firstName': 'Benjamin',\n",
       "      'photo': {'prefix': 'https://fastly.4sqi.net/img/user/',\n",
       "       'suffix': '/UFUGTN4QHKJUNKUK.jpg'}}]}],\n",
       "  'summary': '3 Likes'},\n",
       " 'dislike': False,\n",
       " 'ok': False,\n",
       " 'allowMenuUrlEdit': True,\n",
       " 'beenHere': {'count': 0,\n",
       "  'unconfirmedCount': 0,\n",
       "  'marked': False,\n",
       "  'lastCheckinExpiredAt': 0},\n",
       " 'specials': {'count': 0, 'items': []},\n",
       " 'photos': {'count': 2,\n",
       "  'groups': [{'type': 'venue',\n",
       "    'name': 'Venue photos',\n",
       "    'count': 2,\n",
       "    'items': [{'id': '56c0d423cd1019b9ce91c44f',\n",
       "      'createdAt': 1455477795,\n",
       "      'source': {'name': 'Swarm for Android',\n",
       "       'url': 'https://www.swarmapp.com'},\n",
       "      'prefix': 'https://fastly.4sqi.net/img/general/',\n",
       "      'suffix': '/149265055_IX7B24DDRtFJOpqXkTAJPUB9PCpb37D0hXwzMPdS_pY.jpg',\n",
       "      'width': 540,\n",
       "      'height': 960,\n",
       "      'user': {'id': '149265055',\n",
       "       'firstName': 'Andrew',\n",
       "       'lastName': 'B',\n",
       "       'photo': {'prefix': 'https://fastly.4sqi.net/img/user/',\n",
       "        'suffix': '/149265055-C54MX5YRC4BLBM0E.jpg'}},\n",
       "      'visibility': 'public'}]}]},\n",
       " 'reasons': {'count': 0, 'items': []},\n",
       " 'hereNow': {'count': 0, 'summary': 'Nobody here', 'groups': []},\n",
       " 'createdAt': 1303218873,\n",
       " 'tips': {'count': 1,\n",
       "  'groups': [{'type': 'others',\n",
       "    'name': 'All tips',\n",
       "    'count': 1,\n",
       "    'items': [{'id': '51f30b84498eaf5718b5e7e2',\n",
       "      'createdAt': 1374882692,\n",
       "      'text': 'Good food, good times',\n",
       "      'type': 'user',\n",
       "      'canonicalUrl': 'https://foursquare.com/item/51f30b84498eaf5718b5e7e2',\n",
       "      'lang': 'en',\n",
       "      'likes': {'count': 1,\n",
       "       'groups': [{'type': 'others',\n",
       "         'count': 1,\n",
       "         'items': [{'id': '4935263',\n",
       "           'firstName': 'Benjamin',\n",
       "           'photo': {'prefix': 'https://fastly.4sqi.net/img/user/',\n",
       "            'suffix': '/UFUGTN4QHKJUNKUK.jpg'}}]}],\n",
       "       'summary': '1 like'},\n",
       "      'logView': True,\n",
       "      'agreeCount': 1,\n",
       "      'disagreeCount': 0,\n",
       "      'todo': {'count': 0},\n",
       "      'user': {'id': '8131699',\n",
       "       'firstName': 'Kris',\n",
       "       'lastName': 'M',\n",
       "       'photo': {'prefix': 'https://fastly.4sqi.net/img/user/',\n",
       "        'suffix': '/4D5M0MQJ00KKOBPY.jpg'}}}]}]},\n",
       " 'shortUrl': 'http://4sq.com/eZMEEC',\n",
       " 'timeZone': 'America/Toronto',\n",
       " 'listed': {'count': 0,\n",
       "  'groups': [{'type': 'others',\n",
       "    'name': 'Lists from other people',\n",
       "    'count': 0,\n",
       "    'items': []}]},\n",
       " 'seasonalHours': [],\n",
       " 'pageUpdates': {'count': 0, 'items': []},\n",
       " 'inbox': {'count': 0, 'items': []},\n",
       " 'attributes': {'groups': [{'type': 'price',\n",
       "    'name': 'Price',\n",
       "    'summary': '$',\n",
       "    'count': 1,\n",
       "    'items': [{'displayName': 'Price', 'displayValue': '$', 'priceTier': 1}]},\n",
       "   {'type': 'payments',\n",
       "    'name': 'Credit Cards',\n",
       "    'summary': 'Credit Cards',\n",
       "    'count': 5,\n",
       "    'items': [{'displayName': 'Credit Cards', 'displayValue': 'Yes'}]},\n",
       "   {'type': 'outdoorSeating',\n",
       "    'name': 'Outdoor Seating',\n",
       "    'summary': 'Outdoor Seating',\n",
       "    'count': 1,\n",
       "    'items': [{'displayName': 'Outdoor Seating', 'displayValue': 'Yes'}]},\n",
       "   {'type': 'wifi',\n",
       "    'name': 'Wi-Fi',\n",
       "    'summary': 'Wi-Fi',\n",
       "    'count': 1,\n",
       "    'items': [{'displayName': 'Wi-Fi', 'displayValue': 'Yes'}]}]},\n",
       " 'bestPhoto': {'id': '56c0d423cd1019b9ce91c44f',\n",
       "  'createdAt': 1455477795,\n",
       "  'source': {'name': 'Swarm for Android', 'url': 'https://www.swarmapp.com'},\n",
       "  'prefix': 'https://fastly.4sqi.net/img/general/',\n",
       "  'suffix': '/149265055_IX7B24DDRtFJOpqXkTAJPUB9PCpb37D0hXwzMPdS_pY.jpg',\n",
       "  'width': 540,\n",
       "  'height': 960,\n",
       "  'visibility': 'public'},\n",
       " 'colors': {'highlightColor': {'photoId': '56c0d423cd1019b9ce91c44f',\n",
       "   'value': -9404280},\n",
       "  'highlightTextColor': {'photoId': '56c0d423cd1019b9ce91c44f',\n",
       "   'value': -16777216},\n",
       "  'algoVersion': 3}}"
      ]
     },
     "execution_count": 146,
     "metadata": {},
     "output_type": "execute_result"
    }
   ],
   "source": [
    "result = requests.get(url).json()\n",
    "print(result['response']['venue'].keys())\n",
    "result['response']['venue']"
   ]
  },
  {
   "cell_type": "code",
   "execution_count": 147,
   "metadata": {},
   "outputs": [
    {
     "name": "stdout",
     "output_type": "stream",
     "text": [
      "This venue has not been rated yet.\n"
     ]
    }
   ],
   "source": [
    "try:\n",
    "    print(result['response']['venue']['rating'])\n",
    "except:\n",
    "    print('This venue has not been rated yet.')"
   ]
  },
  {
   "cell_type": "markdown",
   "metadata": {},
   "source": [
    "# Bar and Dinner"
   ]
  },
  {
   "cell_type": "code",
   "execution_count": 160,
   "metadata": {},
   "outputs": [
    {
     "name": "stdout",
     "output_type": "stream",
     "text": [
      "Bar .... OK!\n"
     ]
    }
   ],
   "source": [
    "search_query = 'Bar'\n",
    "radius = 700\n",
    "print(search_query + ' .... OK!')"
   ]
  },
  {
   "cell_type": "code",
   "execution_count": 161,
   "metadata": {},
   "outputs": [
    {
     "data": {
      "text/plain": [
       "'https://api.foursquare.com/v2/venues/search?client_id=FXWG412PGZMV0OTDDNYEC2XP2TGWP1ZTH5JD1RCML2OL5CLK&client_secret=RCZUNJDEY0MD0TH0KA5E3EDRLAF1T35JO5GSZNXQKZ0JX4PE&ll=43.6197126,-79.57203464983789&v=20180605&query=Bar&radius=700&limit=100'"
      ]
     },
     "execution_count": 161,
     "metadata": {},
     "output_type": "execute_result"
    }
   ],
   "source": [
    "url = 'https://api.foursquare.com/v2/venues/search?client_id={}&client_secret={}&ll={},{}&v={}&query={}&radius={}&limit={}'.format(CLIENT_ID, CLIENT_SECRET, latitude, longitude, VERSION, search_query, radius, LIMIT)\n",
    "url"
   ]
  },
  {
   "cell_type": "code",
   "execution_count": 162,
   "metadata": {},
   "outputs": [
    {
     "data": {
      "text/plain": [
       "{'meta': {'code': 200, 'requestId': '5ea33a40006dce001bccf442'},\n",
       " 'response': {'venues': [{'id': '4ad4c05df964a5202cf620e3',\n",
       "    'name': 'Second Floor Lounge Bar & Grill',\n",
       "    'location': {'address': '1565 Dundas Street East',\n",
       "     'lat': 43.61296706405266,\n",
       "     'lng': -79.57691269940739,\n",
       "     'labeledLatLngs': [{'label': 'display',\n",
       "       'lat': 43.61296706405266,\n",
       "       'lng': -79.57691269940739}],\n",
       "     'distance': 847,\n",
       "     'postalCode': 'L4X 1L5',\n",
       "     'cc': 'CA',\n",
       "     'city': 'Mississauga',\n",
       "     'state': 'ON',\n",
       "     'country': 'Canada',\n",
       "     'formattedAddress': ['1565 Dundas Street East',\n",
       "      'Mississauga ON L4X 1L5',\n",
       "      'Canada']},\n",
       "    'categories': [{'id': '4bf58dd8d48988d121941735',\n",
       "      'name': 'Lounge',\n",
       "      'pluralName': 'Lounges',\n",
       "      'shortName': 'Lounge',\n",
       "      'icon': {'prefix': 'https://ss3.4sqi.net/img/categories_v2/nightlife/default_',\n",
       "       'suffix': '.png'},\n",
       "      'primary': True}],\n",
       "    'referralId': 'v-1587755900',\n",
       "    'hasPerk': False}]}}"
      ]
     },
     "execution_count": 162,
     "metadata": {},
     "output_type": "execute_result"
    }
   ],
   "source": [
    "results = requests.get(url).json()\n",
    "results"
   ]
  },
  {
   "cell_type": "code",
   "execution_count": 163,
   "metadata": {},
   "outputs": [
    {
     "data": {
      "text/html": [
       "<div>\n",
       "<style scoped>\n",
       "    .dataframe tbody tr th:only-of-type {\n",
       "        vertical-align: middle;\n",
       "    }\n",
       "\n",
       "    .dataframe tbody tr th {\n",
       "        vertical-align: top;\n",
       "    }\n",
       "\n",
       "    .dataframe thead th {\n",
       "        text-align: right;\n",
       "    }\n",
       "</style>\n",
       "<table border=\"1\" class=\"dataframe\">\n",
       "  <thead>\n",
       "    <tr style=\"text-align: right;\">\n",
       "      <th></th>\n",
       "      <th>categories</th>\n",
       "      <th>hasPerk</th>\n",
       "      <th>id</th>\n",
       "      <th>location.address</th>\n",
       "      <th>location.cc</th>\n",
       "      <th>location.city</th>\n",
       "      <th>location.country</th>\n",
       "      <th>location.distance</th>\n",
       "      <th>location.formattedAddress</th>\n",
       "      <th>location.labeledLatLngs</th>\n",
       "      <th>location.lat</th>\n",
       "      <th>location.lng</th>\n",
       "      <th>location.postalCode</th>\n",
       "      <th>location.state</th>\n",
       "      <th>name</th>\n",
       "      <th>referralId</th>\n",
       "    </tr>\n",
       "  </thead>\n",
       "  <tbody>\n",
       "    <tr>\n",
       "      <th>0</th>\n",
       "      <td>[{'id': '4bf58dd8d48988d121941735', 'name': 'Lounge', 'pluralName': 'Lounges', 'shortName': 'Lounge', 'icon': {'prefix': 'https://ss3.4sqi.net/img/categories_v2/nightlife/default_', 'suffix': '.png'}, 'primary': True}]</td>\n",
       "      <td>False</td>\n",
       "      <td>4ad4c05df964a5202cf620e3</td>\n",
       "      <td>1565 Dundas Street East</td>\n",
       "      <td>CA</td>\n",
       "      <td>Mississauga</td>\n",
       "      <td>Canada</td>\n",
       "      <td>847</td>\n",
       "      <td>[1565 Dundas Street East, Mississauga ON L4X 1L5, Canada]</td>\n",
       "      <td>[{'label': 'display', 'lat': 43.61296706405266, 'lng': -79.57691269940739}]</td>\n",
       "      <td>43.612967</td>\n",
       "      <td>-79.576913</td>\n",
       "      <td>L4X 1L5</td>\n",
       "      <td>ON</td>\n",
       "      <td>Second Floor Lounge Bar &amp; Grill</td>\n",
       "      <td>v-1587755900</td>\n",
       "    </tr>\n",
       "  </tbody>\n",
       "</table>\n",
       "</div>"
      ],
      "text/plain": [
       "                                                                                                                                                                                                                   categories  \\\n",
       "0  [{'id': '4bf58dd8d48988d121941735', 'name': 'Lounge', 'pluralName': 'Lounges', 'shortName': 'Lounge', 'icon': {'prefix': 'https://ss3.4sqi.net/img/categories_v2/nightlife/default_', 'suffix': '.png'}, 'primary': True}]   \n",
       "\n",
       "   hasPerk                        id         location.address location.cc  \\\n",
       "0  False    4ad4c05df964a5202cf620e3  1565 Dundas Street East  CA           \n",
       "\n",
       "  location.city location.country  location.distance  \\\n",
       "0  Mississauga   Canada           847                 \n",
       "\n",
       "                                   location.formattedAddress  \\\n",
       "0  [1565 Dundas Street East, Mississauga ON L4X 1L5, Canada]   \n",
       "\n",
       "                                                       location.labeledLatLngs  \\\n",
       "0  [{'label': 'display', 'lat': 43.61296706405266, 'lng': -79.57691269940739}]   \n",
       "\n",
       "   location.lat  location.lng location.postalCode location.state  \\\n",
       "0  43.612967    -79.576913     L4X 1L5             ON              \n",
       "\n",
       "                              name    referralId  \n",
       "0  Second Floor Lounge Bar & Grill  v-1587755900  "
      ]
     },
     "execution_count": 163,
     "metadata": {},
     "output_type": "execute_result"
    }
   ],
   "source": [
    "venues = results['response']['venues']\n",
    "\n",
    "dataframe = json_normalize(venues)\n",
    "dataframe.head()"
   ]
  },
  {
   "cell_type": "code",
   "execution_count": 164,
   "metadata": {},
   "outputs": [
    {
     "data": {
      "text/html": [
       "<div>\n",
       "<style scoped>\n",
       "    .dataframe tbody tr th:only-of-type {\n",
       "        vertical-align: middle;\n",
       "    }\n",
       "\n",
       "    .dataframe tbody tr th {\n",
       "        vertical-align: top;\n",
       "    }\n",
       "\n",
       "    .dataframe thead th {\n",
       "        text-align: right;\n",
       "    }\n",
       "</style>\n",
       "<table border=\"1\" class=\"dataframe\">\n",
       "  <thead>\n",
       "    <tr style=\"text-align: right;\">\n",
       "      <th></th>\n",
       "      <th>name</th>\n",
       "      <th>categories</th>\n",
       "      <th>address</th>\n",
       "      <th>cc</th>\n",
       "      <th>city</th>\n",
       "      <th>country</th>\n",
       "      <th>distance</th>\n",
       "      <th>formattedAddress</th>\n",
       "      <th>labeledLatLngs</th>\n",
       "      <th>lat</th>\n",
       "      <th>lng</th>\n",
       "      <th>postalCode</th>\n",
       "      <th>state</th>\n",
       "      <th>id</th>\n",
       "    </tr>\n",
       "  </thead>\n",
       "  <tbody>\n",
       "    <tr>\n",
       "      <th>0</th>\n",
       "      <td>Second Floor Lounge Bar &amp; Grill</td>\n",
       "      <td>Lounge</td>\n",
       "      <td>1565 Dundas Street East</td>\n",
       "      <td>CA</td>\n",
       "      <td>Mississauga</td>\n",
       "      <td>Canada</td>\n",
       "      <td>847</td>\n",
       "      <td>[1565 Dundas Street East, Mississauga ON L4X 1L5, Canada]</td>\n",
       "      <td>[{'label': 'display', 'lat': 43.61296706405266, 'lng': -79.57691269940739}]</td>\n",
       "      <td>43.612967</td>\n",
       "      <td>-79.576913</td>\n",
       "      <td>L4X 1L5</td>\n",
       "      <td>ON</td>\n",
       "      <td>4ad4c05df964a5202cf620e3</td>\n",
       "    </tr>\n",
       "  </tbody>\n",
       "</table>\n",
       "</div>"
      ],
      "text/plain": [
       "                              name categories                  address  cc  \\\n",
       "0  Second Floor Lounge Bar & Grill  Lounge     1565 Dundas Street East  CA   \n",
       "\n",
       "          city country  distance  \\\n",
       "0  Mississauga  Canada  847        \n",
       "\n",
       "                                            formattedAddress  \\\n",
       "0  [1565 Dundas Street East, Mississauga ON L4X 1L5, Canada]   \n",
       "\n",
       "                                                                labeledLatLngs  \\\n",
       "0  [{'label': 'display', 'lat': 43.61296706405266, 'lng': -79.57691269940739}]   \n",
       "\n",
       "         lat        lng postalCode state                        id  \n",
       "0  43.612967 -79.576913  L4X 1L5    ON    4ad4c05df964a5202cf620e3  "
      ]
     },
     "execution_count": 164,
     "metadata": {},
     "output_type": "execute_result"
    }
   ],
   "source": [
    "filtered_columns = ['name', 'categories'] + [col for col in dataframe.columns if col.startswith('location.')] + ['id']\n",
    "dataframe_filtered = dataframe.loc[:, filtered_columns]\n",
    "\n",
    "\n",
    "def get_category_type(row):\n",
    "    try:\n",
    "        categories_list = row['categories']\n",
    "    except:\n",
    "        categories_list = row['venue.categories']\n",
    "        \n",
    "    if len(categories_list) == 0:\n",
    "        return None\n",
    "    else:\n",
    "        return categories_list[0]['name']\n",
    "\n",
    "\n",
    "dataframe_filtered['categories'] = dataframe_filtered.apply(get_category_type, axis=1)\n",
    "\n",
    "\n",
    "dataframe_filtered.columns = [column.split('.')[-1] for column in dataframe_filtered.columns]\n",
    "\n",
    "dataframe_filtered"
   ]
  },
  {
   "cell_type": "code",
   "execution_count": 165,
   "metadata": {},
   "outputs": [
    {
     "data": {
      "text/plain": [
       "0    Second Floor Lounge Bar & Grill\n",
       "Name: name, dtype: object"
      ]
     },
     "execution_count": 165,
     "metadata": {},
     "output_type": "execute_result"
    }
   ],
   "source": [
    "dataframe_filtered.name"
   ]
  },
  {
   "cell_type": "code",
   "execution_count": 166,
   "metadata": {},
   "outputs": [
    {
     "data": {
      "text/html": [
       "<div style=\"width:100%;\"><div style=\"position:relative;width:100%;height:0;padding-bottom:60%;\"><iframe src=\"about:blank\" style=\"position:absolute;width:100%;height:100%;left:0;top:0;border:none !important;\" data-html=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 onload=\"this.contentDocument.open();this.contentDocument.write(atob(this.getAttribute('data-html')));this.contentDocument.close();\" allowfullscreen webkitallowfullscreen mozallowfullscreen></iframe></div></div>"
      ],
      "text/plain": [
       "<folium.folium.Map at 0x2317d80c940>"
      ]
     },
     "execution_count": 166,
     "metadata": {},
     "output_type": "execute_result"
    }
   ],
   "source": [
    "venues_map = folium.Map(location=[latitude, longitude], zoom_start=13) \n",
    "\n",
    "# add a red circle marker to represent the Conrad Hotel\n",
    "folium.features.CircleMarker(\n",
    "    [latitude, longitude],\n",
    "    radius=10,\n",
    "    color='red',\n",
    "    popup='Hotel',\n",
    "    fill = True,\n",
    "    fill_color = 'red',\n",
    "    fill_opacity = 0.6\n",
    ").add_to(venues_map)\n",
    "\n",
    "# add the Italian restaurants as blue circle markers\n",
    "for lat, lng, label in zip(dataframe_filtered.lat, dataframe_filtered.lng, dataframe_filtered.categories):\n",
    "    folium.features.CircleMarker(\n",
    "        [lat, lng],\n",
    "        radius=5,\n",
    "        color='blue',\n",
    "        popup=label,\n",
    "        fill = True,\n",
    "        fill_color='blue',\n",
    "        fill_opacity=0.6\n",
    "    ).add_to(venues_map)\n",
    "\n",
    "venues_map"
   ]
  },
  {
   "cell_type": "code",
   "execution_count": 167,
   "metadata": {},
   "outputs": [
    {
     "data": {
      "text/plain": [
       "'https://api.foursquare.com/v2/venues/4dad8ab9043718a63e33e294?client_id=FXWG412PGZMV0OTDDNYEC2XP2TGWP1ZTH5JD1RCML2OL5CLK&client_secret=RCZUNJDEY0MD0TH0KA5E3EDRLAF1T35JO5GSZNXQKZ0JX4PE&v=20180605'"
      ]
     },
     "execution_count": 167,
     "metadata": {},
     "output_type": "execute_result"
    }
   ],
   "source": [
    "venue_id = '4dad8ab9043718a63e33e294' \n",
    "url = 'https://api.foursquare.com/v2/venues/{}?client_id={}&client_secret={}&v={}'.format(venue_id, CLIENT_ID, CLIENT_SECRET, VERSION)\n",
    "url"
   ]
  },
  {
   "cell_type": "code",
   "execution_count": 168,
   "metadata": {},
   "outputs": [
    {
     "name": "stdout",
     "output_type": "stream",
     "text": [
      "dict_keys(['id', 'name', 'contact', 'location', 'canonicalUrl', 'categories', 'verified', 'stats', 'price', 'likes', 'dislike', 'ok', 'allowMenuUrlEdit', 'beenHere', 'specials', 'photos', 'reasons', 'hereNow', 'createdAt', 'tips', 'shortUrl', 'timeZone', 'listed', 'seasonalHours', 'pageUpdates', 'inbox', 'attributes', 'bestPhoto', 'colors'])\n"
     ]
    },
    {
     "data": {
      "text/plain": [
       "{'id': '4dad8ab9043718a63e33e294',\n",
       " 'name': 'Coffee Time',\n",
       " 'contact': {},\n",
       " 'location': {'address': '2195 Midland Ave',\n",
       "  'crossStreet': 'at Progress Ave',\n",
       "  'lat': 43.773307723529335,\n",
       "  'lng': -79.27289954044328,\n",
       "  'labeledLatLngs': [{'label': 'display',\n",
       "    'lat': 43.773307723529335,\n",
       "    'lng': -79.27289954044328}],\n",
       "  'cc': 'CA',\n",
       "  'city': 'Toronto',\n",
       "  'state': 'ON',\n",
       "  'country': 'Canada',\n",
       "  'formattedAddress': ['2195 Midland Ave (at Progress Ave)',\n",
       "   'Toronto ON',\n",
       "   'Canada']},\n",
       " 'canonicalUrl': 'https://foursquare.com/v/coffee-time/4dad8ab9043718a63e33e294',\n",
       " 'categories': [{'id': '4bf58dd8d48988d1e0931735',\n",
       "   'name': 'Coffee Shop',\n",
       "   'pluralName': 'Coffee Shops',\n",
       "   'shortName': 'Coffee Shop',\n",
       "   'icon': {'prefix': 'https://ss3.4sqi.net/img/categories_v2/food/coffeeshop_',\n",
       "    'suffix': '.png'},\n",
       "   'primary': True}],\n",
       " 'verified': False,\n",
       " 'stats': {'tipCount': 1},\n",
       " 'price': {'tier': 1, 'message': 'Cheap', 'currency': '$'},\n",
       " 'likes': {'count': 3,\n",
       "  'groups': [{'type': 'others',\n",
       "    'count': 3,\n",
       "    'items': [{'id': '409557238',\n",
       "      'firstName': 'Dagmar',\n",
       "      'lastName': 'S',\n",
       "      'photo': {'prefix': 'https://fastly.4sqi.net/img/user/',\n",
       "       'suffix': '/409557238_PHMyqMX1_9FXja1H1QWXnf6LDL5GXCHqEWRU_gB3soBImoYGImVXIAoc90bgmHzSLlDTSrMiK.jpg'}},\n",
       "     {'id': '6773183',\n",
       "      'firstName': 'Thilaknath',\n",
       "      'lastName': 'A',\n",
       "      'photo': {'prefix': 'https://fastly.4sqi.net/img/user/',\n",
       "       'suffix': '/6773183-EIDZMIR3U2MCASZF.jpg'}},\n",
       "     {'id': '4935263',\n",
       "      'firstName': 'Benjamin',\n",
       "      'photo': {'prefix': 'https://fastly.4sqi.net/img/user/',\n",
       "       'suffix': '/UFUGTN4QHKJUNKUK.jpg'}}]}],\n",
       "  'summary': '3 Likes'},\n",
       " 'dislike': False,\n",
       " 'ok': False,\n",
       " 'allowMenuUrlEdit': True,\n",
       " 'beenHere': {'count': 0,\n",
       "  'unconfirmedCount': 0,\n",
       "  'marked': False,\n",
       "  'lastCheckinExpiredAt': 0},\n",
       " 'specials': {'count': 0, 'items': []},\n",
       " 'photos': {'count': 2,\n",
       "  'groups': [{'type': 'venue',\n",
       "    'name': 'Venue photos',\n",
       "    'count': 2,\n",
       "    'items': [{'id': '56c0d423cd1019b9ce91c44f',\n",
       "      'createdAt': 1455477795,\n",
       "      'source': {'name': 'Swarm for Android',\n",
       "       'url': 'https://www.swarmapp.com'},\n",
       "      'prefix': 'https://fastly.4sqi.net/img/general/',\n",
       "      'suffix': '/149265055_IX7B24DDRtFJOpqXkTAJPUB9PCpb37D0hXwzMPdS_pY.jpg',\n",
       "      'width': 540,\n",
       "      'height': 960,\n",
       "      'user': {'id': '149265055',\n",
       "       'firstName': 'Andrew',\n",
       "       'lastName': 'B',\n",
       "       'photo': {'prefix': 'https://fastly.4sqi.net/img/user/',\n",
       "        'suffix': '/149265055-C54MX5YRC4BLBM0E.jpg'}},\n",
       "      'visibility': 'public'}]}]},\n",
       " 'reasons': {'count': 0, 'items': []},\n",
       " 'hereNow': {'count': 0, 'summary': 'Nobody here', 'groups': []},\n",
       " 'createdAt': 1303218873,\n",
       " 'tips': {'count': 1,\n",
       "  'groups': [{'type': 'others',\n",
       "    'name': 'All tips',\n",
       "    'count': 1,\n",
       "    'items': [{'id': '51f30b84498eaf5718b5e7e2',\n",
       "      'createdAt': 1374882692,\n",
       "      'text': 'Good food, good times',\n",
       "      'type': 'user',\n",
       "      'canonicalUrl': 'https://foursquare.com/item/51f30b84498eaf5718b5e7e2',\n",
       "      'lang': 'en',\n",
       "      'likes': {'count': 1,\n",
       "       'groups': [{'type': 'others',\n",
       "         'count': 1,\n",
       "         'items': [{'id': '4935263',\n",
       "           'firstName': 'Benjamin',\n",
       "           'photo': {'prefix': 'https://fastly.4sqi.net/img/user/',\n",
       "            'suffix': '/UFUGTN4QHKJUNKUK.jpg'}}]}],\n",
       "       'summary': '1 like'},\n",
       "      'logView': True,\n",
       "      'agreeCount': 1,\n",
       "      'disagreeCount': 0,\n",
       "      'todo': {'count': 0},\n",
       "      'user': {'id': '8131699',\n",
       "       'firstName': 'Kris',\n",
       "       'lastName': 'M',\n",
       "       'photo': {'prefix': 'https://fastly.4sqi.net/img/user/',\n",
       "        'suffix': '/4D5M0MQJ00KKOBPY.jpg'}}}]}]},\n",
       " 'shortUrl': 'http://4sq.com/eZMEEC',\n",
       " 'timeZone': 'America/Toronto',\n",
       " 'listed': {'count': 0,\n",
       "  'groups': [{'type': 'others',\n",
       "    'name': 'Lists from other people',\n",
       "    'count': 0,\n",
       "    'items': []}]},\n",
       " 'seasonalHours': [],\n",
       " 'pageUpdates': {'count': 0, 'items': []},\n",
       " 'inbox': {'count': 0, 'items': []},\n",
       " 'attributes': {'groups': [{'type': 'price',\n",
       "    'name': 'Price',\n",
       "    'summary': '$',\n",
       "    'count': 1,\n",
       "    'items': [{'displayName': 'Price', 'displayValue': '$', 'priceTier': 1}]},\n",
       "   {'type': 'payments',\n",
       "    'name': 'Credit Cards',\n",
       "    'summary': 'Credit Cards',\n",
       "    'count': 5,\n",
       "    'items': [{'displayName': 'Credit Cards', 'displayValue': 'Yes'}]},\n",
       "   {'type': 'outdoorSeating',\n",
       "    'name': 'Outdoor Seating',\n",
       "    'summary': 'Outdoor Seating',\n",
       "    'count': 1,\n",
       "    'items': [{'displayName': 'Outdoor Seating', 'displayValue': 'Yes'}]},\n",
       "   {'type': 'wifi',\n",
       "    'name': 'Wi-Fi',\n",
       "    'summary': 'Wi-Fi',\n",
       "    'count': 1,\n",
       "    'items': [{'displayName': 'Wi-Fi', 'displayValue': 'Yes'}]}]},\n",
       " 'bestPhoto': {'id': '56c0d423cd1019b9ce91c44f',\n",
       "  'createdAt': 1455477795,\n",
       "  'source': {'name': 'Swarm for Android', 'url': 'https://www.swarmapp.com'},\n",
       "  'prefix': 'https://fastly.4sqi.net/img/general/',\n",
       "  'suffix': '/149265055_IX7B24DDRtFJOpqXkTAJPUB9PCpb37D0hXwzMPdS_pY.jpg',\n",
       "  'width': 540,\n",
       "  'height': 960,\n",
       "  'visibility': 'public'},\n",
       " 'colors': {'highlightColor': {'photoId': '56c0d423cd1019b9ce91c44f',\n",
       "   'value': -9404280},\n",
       "  'highlightTextColor': {'photoId': '56c0d423cd1019b9ce91c44f',\n",
       "   'value': -16777216},\n",
       "  'algoVersion': 3}}"
      ]
     },
     "execution_count": 168,
     "metadata": {},
     "output_type": "execute_result"
    }
   ],
   "source": [
    "result = requests.get(url).json()\n",
    "print(result['response']['venue'].keys())\n",
    "result['response']['venue']"
   ]
  },
  {
   "cell_type": "code",
   "execution_count": 169,
   "metadata": {},
   "outputs": [
    {
     "name": "stdout",
     "output_type": "stream",
     "text": [
      "This venue has not been rated yet.\n"
     ]
    }
   ],
   "source": [
    "try:\n",
    "    print(result['response']['venue']['rating'])\n",
    "except:\n",
    "    print('This venue has not been rated yet.')"
   ]
  },
  {
   "cell_type": "markdown",
   "metadata": {},
   "source": [
    "# Days Inn by Wyndham\n",
    "\n",
    "### Coffee point"
   ]
  },
  {
   "cell_type": "code",
   "execution_count": 171,
   "metadata": {},
   "outputs": [
    {
     "name": "stdout",
     "output_type": "stream",
     "text": [
      "43.6672363 -79.313387\n"
     ]
    }
   ],
   "source": [
    "address = 'Days Inn, Toronto'\n",
    "\n",
    "geolocator = Nominatim(user_agent=\"foursquare_agent\")\n",
    "location = geolocator.geocode(address)\n",
    "latitude = location.latitude\n",
    "longitude = location.longitude\n",
    "print(latitude, longitude)"
   ]
  },
  {
   "cell_type": "code",
   "execution_count": 187,
   "metadata": {},
   "outputs": [
    {
     "name": "stdout",
     "output_type": "stream",
     "text": [
      "Coffee .... OK!\n"
     ]
    }
   ],
   "source": [
    "search_query = 'Coffee'\n",
    "radius = 150\n",
    "print(search_query + ' .... OK!')"
   ]
  },
  {
   "cell_type": "code",
   "execution_count": 188,
   "metadata": {},
   "outputs": [
    {
     "data": {
      "text/plain": [
       "'https://api.foursquare.com/v2/venues/search?client_id=FXWG412PGZMV0OTDDNYEC2XP2TGWP1ZTH5JD1RCML2OL5CLK&client_secret=RCZUNJDEY0MD0TH0KA5E3EDRLAF1T35JO5GSZNXQKZ0JX4PE&ll=43.6672363,-79.313387&v=20180605&query=Coffee&radius=150&limit=100'"
      ]
     },
     "execution_count": 188,
     "metadata": {},
     "output_type": "execute_result"
    }
   ],
   "source": [
    "url = 'https://api.foursquare.com/v2/venues/search?client_id={}&client_secret={}&ll={},{}&v={}&query={}&radius={}&limit={}'.format(CLIENT_ID, CLIENT_SECRET, latitude, longitude, VERSION, search_query, radius, LIMIT)\n",
    "url"
   ]
  },
  {
   "cell_type": "code",
   "execution_count": 189,
   "metadata": {},
   "outputs": [
    {
     "data": {
      "text/plain": [
       "{'meta': {'code': 200, 'requestId': '5ea33dff71c428001f7ba684'},\n",
       " 'response': {'venues': [{'id': '4d87a6a440a7a35d205a4cbe',\n",
       "    'name': 'Coffee Time',\n",
       "    'location': {'address': '1614 queen street east',\n",
       "     'crossStreet': 'Coxwell',\n",
       "     'lat': 43.667814,\n",
       "     'lng': -79.311798,\n",
       "     'labeledLatLngs': [{'label': 'display',\n",
       "       'lat': 43.667814,\n",
       "       'lng': -79.311798}],\n",
       "     'distance': 143,\n",
       "     'postalCode': 'M4L 1S5',\n",
       "     'cc': 'CA',\n",
       "     'city': 'Toronto',\n",
       "     'state': 'ON',\n",
       "     'country': 'Canada',\n",
       "     'formattedAddress': ['1614 queen street east (Coxwell)',\n",
       "      'Toronto ON M4L 1S5',\n",
       "      'Canada']},\n",
       "    'categories': [{'id': '4bf58dd8d48988d16d941735',\n",
       "      'name': 'Café',\n",
       "      'pluralName': 'Cafés',\n",
       "      'shortName': 'Café',\n",
       "      'icon': {'prefix': 'https://ss3.4sqi.net/img/categories_v2/food/cafe_',\n",
       "       'suffix': '.png'},\n",
       "      'primary': True}],\n",
       "    'referralId': 'v-1587756815',\n",
       "    'hasPerk': False}]}}"
      ]
     },
     "execution_count": 189,
     "metadata": {},
     "output_type": "execute_result"
    }
   ],
   "source": [
    "results = requests.get(url).json()\n",
    "results"
   ]
  },
  {
   "cell_type": "code",
   "execution_count": 190,
   "metadata": {},
   "outputs": [
    {
     "data": {
      "text/html": [
       "<div>\n",
       "<style scoped>\n",
       "    .dataframe tbody tr th:only-of-type {\n",
       "        vertical-align: middle;\n",
       "    }\n",
       "\n",
       "    .dataframe tbody tr th {\n",
       "        vertical-align: top;\n",
       "    }\n",
       "\n",
       "    .dataframe thead th {\n",
       "        text-align: right;\n",
       "    }\n",
       "</style>\n",
       "<table border=\"1\" class=\"dataframe\">\n",
       "  <thead>\n",
       "    <tr style=\"text-align: right;\">\n",
       "      <th></th>\n",
       "      <th>categories</th>\n",
       "      <th>hasPerk</th>\n",
       "      <th>id</th>\n",
       "      <th>location.address</th>\n",
       "      <th>location.cc</th>\n",
       "      <th>location.city</th>\n",
       "      <th>location.country</th>\n",
       "      <th>location.crossStreet</th>\n",
       "      <th>location.distance</th>\n",
       "      <th>location.formattedAddress</th>\n",
       "      <th>location.labeledLatLngs</th>\n",
       "      <th>location.lat</th>\n",
       "      <th>location.lng</th>\n",
       "      <th>location.postalCode</th>\n",
       "      <th>location.state</th>\n",
       "      <th>name</th>\n",
       "      <th>referralId</th>\n",
       "    </tr>\n",
       "  </thead>\n",
       "  <tbody>\n",
       "    <tr>\n",
       "      <th>0</th>\n",
       "      <td>[{'id': '4bf58dd8d48988d16d941735', 'name': 'Café', 'pluralName': 'Cafés', 'shortName': 'Café', 'icon': {'prefix': 'https://ss3.4sqi.net/img/categories_v2/food/cafe_', 'suffix': '.png'}, 'primary': True}]</td>\n",
       "      <td>False</td>\n",
       "      <td>4d87a6a440a7a35d205a4cbe</td>\n",
       "      <td>1614 queen street east</td>\n",
       "      <td>CA</td>\n",
       "      <td>Toronto</td>\n",
       "      <td>Canada</td>\n",
       "      <td>Coxwell</td>\n",
       "      <td>143</td>\n",
       "      <td>[1614 queen street east (Coxwell), Toronto ON M4L 1S5, Canada]</td>\n",
       "      <td>[{'label': 'display', 'lat': 43.667814, 'lng': -79.311798}]</td>\n",
       "      <td>43.667814</td>\n",
       "      <td>-79.311798</td>\n",
       "      <td>M4L 1S5</td>\n",
       "      <td>ON</td>\n",
       "      <td>Coffee Time</td>\n",
       "      <td>v-1587756815</td>\n",
       "    </tr>\n",
       "  </tbody>\n",
       "</table>\n",
       "</div>"
      ],
      "text/plain": [
       "                                                                                                                                                                                                     categories  \\\n",
       "0  [{'id': '4bf58dd8d48988d16d941735', 'name': 'Café', 'pluralName': 'Cafés', 'shortName': 'Café', 'icon': {'prefix': 'https://ss3.4sqi.net/img/categories_v2/food/cafe_', 'suffix': '.png'}, 'primary': True}]   \n",
       "\n",
       "   hasPerk                        id        location.address location.cc  \\\n",
       "0  False    4d87a6a440a7a35d205a4cbe  1614 queen street east  CA           \n",
       "\n",
       "  location.city location.country location.crossStreet  location.distance  \\\n",
       "0  Toronto       Canada           Coxwell              143                 \n",
       "\n",
       "                                        location.formattedAddress  \\\n",
       "0  [1614 queen street east (Coxwell), Toronto ON M4L 1S5, Canada]   \n",
       "\n",
       "                                       location.labeledLatLngs  location.lat  \\\n",
       "0  [{'label': 'display', 'lat': 43.667814, 'lng': -79.311798}]  43.667814      \n",
       "\n",
       "   location.lng location.postalCode location.state         name    referralId  \n",
       "0 -79.311798     M4L 1S5             ON             Coffee Time  v-1587756815  "
      ]
     },
     "execution_count": 190,
     "metadata": {},
     "output_type": "execute_result"
    }
   ],
   "source": [
    "venues = results['response']['venues']\n",
    "\n",
    "dataframe = json_normalize(venues)\n",
    "dataframe.head()"
   ]
  },
  {
   "cell_type": "code",
   "execution_count": 191,
   "metadata": {},
   "outputs": [
    {
     "data": {
      "text/html": [
       "<div>\n",
       "<style scoped>\n",
       "    .dataframe tbody tr th:only-of-type {\n",
       "        vertical-align: middle;\n",
       "    }\n",
       "\n",
       "    .dataframe tbody tr th {\n",
       "        vertical-align: top;\n",
       "    }\n",
       "\n",
       "    .dataframe thead th {\n",
       "        text-align: right;\n",
       "    }\n",
       "</style>\n",
       "<table border=\"1\" class=\"dataframe\">\n",
       "  <thead>\n",
       "    <tr style=\"text-align: right;\">\n",
       "      <th></th>\n",
       "      <th>name</th>\n",
       "      <th>categories</th>\n",
       "      <th>address</th>\n",
       "      <th>cc</th>\n",
       "      <th>city</th>\n",
       "      <th>country</th>\n",
       "      <th>crossStreet</th>\n",
       "      <th>distance</th>\n",
       "      <th>formattedAddress</th>\n",
       "      <th>labeledLatLngs</th>\n",
       "      <th>lat</th>\n",
       "      <th>lng</th>\n",
       "      <th>postalCode</th>\n",
       "      <th>state</th>\n",
       "      <th>id</th>\n",
       "    </tr>\n",
       "  </thead>\n",
       "  <tbody>\n",
       "    <tr>\n",
       "      <th>0</th>\n",
       "      <td>Coffee Time</td>\n",
       "      <td>Café</td>\n",
       "      <td>1614 queen street east</td>\n",
       "      <td>CA</td>\n",
       "      <td>Toronto</td>\n",
       "      <td>Canada</td>\n",
       "      <td>Coxwell</td>\n",
       "      <td>143</td>\n",
       "      <td>[1614 queen street east (Coxwell), Toronto ON M4L 1S5, Canada]</td>\n",
       "      <td>[{'label': 'display', 'lat': 43.667814, 'lng': -79.311798}]</td>\n",
       "      <td>43.667814</td>\n",
       "      <td>-79.311798</td>\n",
       "      <td>M4L 1S5</td>\n",
       "      <td>ON</td>\n",
       "      <td>4d87a6a440a7a35d205a4cbe</td>\n",
       "    </tr>\n",
       "  </tbody>\n",
       "</table>\n",
       "</div>"
      ],
      "text/plain": [
       "          name categories                 address  cc     city country  \\\n",
       "0  Coffee Time  Café       1614 queen street east  CA  Toronto  Canada   \n",
       "\n",
       "  crossStreet  distance  \\\n",
       "0  Coxwell     143        \n",
       "\n",
       "                                                 formattedAddress  \\\n",
       "0  [1614 queen street east (Coxwell), Toronto ON M4L 1S5, Canada]   \n",
       "\n",
       "                                                labeledLatLngs        lat  \\\n",
       "0  [{'label': 'display', 'lat': 43.667814, 'lng': -79.311798}]  43.667814   \n",
       "\n",
       "         lng postalCode state                        id  \n",
       "0 -79.311798  M4L 1S5    ON    4d87a6a440a7a35d205a4cbe  "
      ]
     },
     "execution_count": 191,
     "metadata": {},
     "output_type": "execute_result"
    }
   ],
   "source": [
    "filtered_columns = ['name', 'categories'] + [col for col in dataframe.columns if col.startswith('location.')] + ['id']\n",
    "dataframe_filtered = dataframe.loc[:, filtered_columns]\n",
    "\n",
    "\n",
    "def get_category_type(row):\n",
    "    try:\n",
    "        categories_list = row['categories']\n",
    "    except:\n",
    "        categories_list = row['venue.categories']\n",
    "        \n",
    "    if len(categories_list) == 0:\n",
    "        return None\n",
    "    else:\n",
    "        return categories_list[0]['name']\n",
    "\n",
    "\n",
    "dataframe_filtered['categories'] = dataframe_filtered.apply(get_category_type, axis=1)\n",
    "\n",
    "\n",
    "dataframe_filtered.columns = [column.split('.')[-1] for column in dataframe_filtered.columns]\n",
    "\n",
    "dataframe_filtered"
   ]
  },
  {
   "cell_type": "code",
   "execution_count": 192,
   "metadata": {},
   "outputs": [
    {
     "data": {
      "text/plain": [
       "0    Coffee Time\n",
       "Name: name, dtype: object"
      ]
     },
     "execution_count": 192,
     "metadata": {},
     "output_type": "execute_result"
    }
   ],
   "source": [
    "dataframe_filtered.name"
   ]
  },
  {
   "cell_type": "code",
   "execution_count": 193,
   "metadata": {},
   "outputs": [
    {
     "data": {
      "text/html": [
       "<div style=\"width:100%;\"><div style=\"position:relative;width:100%;height:0;padding-bottom:60%;\"><iframe src=\"about:blank\" style=\"position:absolute;width:100%;height:100%;left:0;top:0;border:none !important;\" data-html=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 onload=\"this.contentDocument.open();this.contentDocument.write(atob(this.getAttribute('data-html')));this.contentDocument.close();\" allowfullscreen webkitallowfullscreen mozallowfullscreen></iframe></div></div>"
      ],
      "text/plain": [
       "<folium.folium.Map at 0x2317d83cda0>"
      ]
     },
     "execution_count": 193,
     "metadata": {},
     "output_type": "execute_result"
    }
   ],
   "source": [
    "venues_map = folium.Map(location=[latitude, longitude], zoom_start=13) \n",
    "\n",
    "# add a red circle marker to represent the Conrad Hotel\n",
    "folium.features.CircleMarker(\n",
    "    [latitude, longitude],\n",
    "    radius=10,\n",
    "    color='red',\n",
    "    popup='Hotel',\n",
    "    fill = True,\n",
    "    fill_color = 'red',\n",
    "    fill_opacity = 0.6\n",
    ").add_to(venues_map)\n",
    "\n",
    "# add the Italian restaurants as blue circle markers\n",
    "for lat, lng, label in zip(dataframe_filtered.lat, dataframe_filtered.lng, dataframe_filtered.categories):\n",
    "    folium.features.CircleMarker(\n",
    "        [lat, lng],\n",
    "        radius=5,\n",
    "        color='blue',\n",
    "        popup=label,\n",
    "        fill = True,\n",
    "        fill_color='blue',\n",
    "        fill_opacity=0.6\n",
    "    ).add_to(venues_map)\n",
    "\n",
    "venues_map"
   ]
  },
  {
   "cell_type": "code",
   "execution_count": 194,
   "metadata": {},
   "outputs": [
    {
     "data": {
      "text/plain": [
       "'https://api.foursquare.com/v2/venues/4dad8ab9043718a63e33e294?client_id=FXWG412PGZMV0OTDDNYEC2XP2TGWP1ZTH5JD1RCML2OL5CLK&client_secret=RCZUNJDEY0MD0TH0KA5E3EDRLAF1T35JO5GSZNXQKZ0JX4PE&v=20180605'"
      ]
     },
     "execution_count": 194,
     "metadata": {},
     "output_type": "execute_result"
    }
   ],
   "source": [
    "venue_id = '4dad8ab9043718a63e33e294' \n",
    "url = 'https://api.foursquare.com/v2/venues/{}?client_id={}&client_secret={}&v={}'.format(venue_id, CLIENT_ID, CLIENT_SECRET, VERSION)\n",
    "url"
   ]
  },
  {
   "cell_type": "code",
   "execution_count": 195,
   "metadata": {},
   "outputs": [
    {
     "name": "stdout",
     "output_type": "stream",
     "text": [
      "dict_keys(['id', 'name', 'contact', 'location', 'canonicalUrl', 'categories', 'verified', 'stats', 'price', 'likes', 'dislike', 'ok', 'allowMenuUrlEdit', 'beenHere', 'specials', 'photos', 'reasons', 'hereNow', 'createdAt', 'tips', 'shortUrl', 'timeZone', 'listed', 'seasonalHours', 'pageUpdates', 'inbox', 'attributes', 'bestPhoto', 'colors'])\n"
     ]
    },
    {
     "data": {
      "text/plain": [
       "{'id': '4dad8ab9043718a63e33e294',\n",
       " 'name': 'Coffee Time',\n",
       " 'contact': {},\n",
       " 'location': {'address': '2195 Midland Ave',\n",
       "  'crossStreet': 'at Progress Ave',\n",
       "  'lat': 43.773307723529335,\n",
       "  'lng': -79.27289954044328,\n",
       "  'labeledLatLngs': [{'label': 'display',\n",
       "    'lat': 43.773307723529335,\n",
       "    'lng': -79.27289954044328}],\n",
       "  'cc': 'CA',\n",
       "  'city': 'Toronto',\n",
       "  'state': 'ON',\n",
       "  'country': 'Canada',\n",
       "  'formattedAddress': ['2195 Midland Ave (at Progress Ave)',\n",
       "   'Toronto ON',\n",
       "   'Canada']},\n",
       " 'canonicalUrl': 'https://foursquare.com/v/coffee-time/4dad8ab9043718a63e33e294',\n",
       " 'categories': [{'id': '4bf58dd8d48988d1e0931735',\n",
       "   'name': 'Coffee Shop',\n",
       "   'pluralName': 'Coffee Shops',\n",
       "   'shortName': 'Coffee Shop',\n",
       "   'icon': {'prefix': 'https://ss3.4sqi.net/img/categories_v2/food/coffeeshop_',\n",
       "    'suffix': '.png'},\n",
       "   'primary': True}],\n",
       " 'verified': False,\n",
       " 'stats': {'tipCount': 1},\n",
       " 'price': {'tier': 1, 'message': 'Cheap', 'currency': '$'},\n",
       " 'likes': {'count': 3,\n",
       "  'groups': [{'type': 'others',\n",
       "    'count': 3,\n",
       "    'items': [{'id': '409557238',\n",
       "      'firstName': 'Dagmar',\n",
       "      'lastName': 'S',\n",
       "      'photo': {'prefix': 'https://fastly.4sqi.net/img/user/',\n",
       "       'suffix': '/409557238_PHMyqMX1_9FXja1H1QWXnf6LDL5GXCHqEWRU_gB3soBImoYGImVXIAoc90bgmHzSLlDTSrMiK.jpg'}},\n",
       "     {'id': '6773183',\n",
       "      'firstName': 'Thilaknath',\n",
       "      'lastName': 'A',\n",
       "      'photo': {'prefix': 'https://fastly.4sqi.net/img/user/',\n",
       "       'suffix': '/6773183-EIDZMIR3U2MCASZF.jpg'}},\n",
       "     {'id': '4935263',\n",
       "      'firstName': 'Benjamin',\n",
       "      'photo': {'prefix': 'https://fastly.4sqi.net/img/user/',\n",
       "       'suffix': '/UFUGTN4QHKJUNKUK.jpg'}}]}],\n",
       "  'summary': '3 Likes'},\n",
       " 'dislike': False,\n",
       " 'ok': False,\n",
       " 'allowMenuUrlEdit': True,\n",
       " 'beenHere': {'count': 0,\n",
       "  'unconfirmedCount': 0,\n",
       "  'marked': False,\n",
       "  'lastCheckinExpiredAt': 0},\n",
       " 'specials': {'count': 0, 'items': []},\n",
       " 'photos': {'count': 2,\n",
       "  'groups': [{'type': 'venue',\n",
       "    'name': 'Venue photos',\n",
       "    'count': 2,\n",
       "    'items': [{'id': '56c0d423cd1019b9ce91c44f',\n",
       "      'createdAt': 1455477795,\n",
       "      'source': {'name': 'Swarm for Android',\n",
       "       'url': 'https://www.swarmapp.com'},\n",
       "      'prefix': 'https://fastly.4sqi.net/img/general/',\n",
       "      'suffix': '/149265055_IX7B24DDRtFJOpqXkTAJPUB9PCpb37D0hXwzMPdS_pY.jpg',\n",
       "      'width': 540,\n",
       "      'height': 960,\n",
       "      'user': {'id': '149265055',\n",
       "       'firstName': 'Andrew',\n",
       "       'lastName': 'B',\n",
       "       'photo': {'prefix': 'https://fastly.4sqi.net/img/user/',\n",
       "        'suffix': '/149265055-C54MX5YRC4BLBM0E.jpg'}},\n",
       "      'visibility': 'public'}]}]},\n",
       " 'reasons': {'count': 0, 'items': []},\n",
       " 'hereNow': {'count': 0, 'summary': 'Nobody here', 'groups': []},\n",
       " 'createdAt': 1303218873,\n",
       " 'tips': {'count': 1,\n",
       "  'groups': [{'type': 'others',\n",
       "    'name': 'All tips',\n",
       "    'count': 1,\n",
       "    'items': [{'id': '51f30b84498eaf5718b5e7e2',\n",
       "      'createdAt': 1374882692,\n",
       "      'text': 'Good food, good times',\n",
       "      'type': 'user',\n",
       "      'canonicalUrl': 'https://foursquare.com/item/51f30b84498eaf5718b5e7e2',\n",
       "      'lang': 'en',\n",
       "      'likes': {'count': 1,\n",
       "       'groups': [{'type': 'others',\n",
       "         'count': 1,\n",
       "         'items': [{'id': '4935263',\n",
       "           'firstName': 'Benjamin',\n",
       "           'photo': {'prefix': 'https://fastly.4sqi.net/img/user/',\n",
       "            'suffix': '/UFUGTN4QHKJUNKUK.jpg'}}]}],\n",
       "       'summary': '1 like'},\n",
       "      'logView': True,\n",
       "      'agreeCount': 1,\n",
       "      'disagreeCount': 0,\n",
       "      'todo': {'count': 0},\n",
       "      'user': {'id': '8131699',\n",
       "       'firstName': 'Kris',\n",
       "       'lastName': 'M',\n",
       "       'photo': {'prefix': 'https://fastly.4sqi.net/img/user/',\n",
       "        'suffix': '/4D5M0MQJ00KKOBPY.jpg'}}}]}]},\n",
       " 'shortUrl': 'http://4sq.com/eZMEEC',\n",
       " 'timeZone': 'America/Toronto',\n",
       " 'listed': {'count': 0,\n",
       "  'groups': [{'type': 'others',\n",
       "    'name': 'Lists from other people',\n",
       "    'count': 0,\n",
       "    'items': []}]},\n",
       " 'seasonalHours': [],\n",
       " 'pageUpdates': {'count': 0, 'items': []},\n",
       " 'inbox': {'count': 0, 'items': []},\n",
       " 'attributes': {'groups': [{'type': 'price',\n",
       "    'name': 'Price',\n",
       "    'summary': '$',\n",
       "    'count': 1,\n",
       "    'items': [{'displayName': 'Price', 'displayValue': '$', 'priceTier': 1}]},\n",
       "   {'type': 'payments',\n",
       "    'name': 'Credit Cards',\n",
       "    'summary': 'Credit Cards',\n",
       "    'count': 5,\n",
       "    'items': [{'displayName': 'Credit Cards', 'displayValue': 'Yes'}]},\n",
       "   {'type': 'outdoorSeating',\n",
       "    'name': 'Outdoor Seating',\n",
       "    'summary': 'Outdoor Seating',\n",
       "    'count': 1,\n",
       "    'items': [{'displayName': 'Outdoor Seating', 'displayValue': 'Yes'}]},\n",
       "   {'type': 'wifi',\n",
       "    'name': 'Wi-Fi',\n",
       "    'summary': 'Wi-Fi',\n",
       "    'count': 1,\n",
       "    'items': [{'displayName': 'Wi-Fi', 'displayValue': 'Yes'}]}]},\n",
       " 'bestPhoto': {'id': '56c0d423cd1019b9ce91c44f',\n",
       "  'createdAt': 1455477795,\n",
       "  'source': {'name': 'Swarm for Android', 'url': 'https://www.swarmapp.com'},\n",
       "  'prefix': 'https://fastly.4sqi.net/img/general/',\n",
       "  'suffix': '/149265055_IX7B24DDRtFJOpqXkTAJPUB9PCpb37D0hXwzMPdS_pY.jpg',\n",
       "  'width': 540,\n",
       "  'height': 960,\n",
       "  'visibility': 'public'},\n",
       " 'colors': {'highlightColor': {'photoId': '56c0d423cd1019b9ce91c44f',\n",
       "   'value': -9404280},\n",
       "  'highlightTextColor': {'photoId': '56c0d423cd1019b9ce91c44f',\n",
       "   'value': -16777216},\n",
       "  'algoVersion': 3}}"
      ]
     },
     "execution_count": 195,
     "metadata": {},
     "output_type": "execute_result"
    }
   ],
   "source": [
    "result = requests.get(url).json()\n",
    "print(result['response']['venue'].keys())\n",
    "result['response']['venue']"
   ]
  },
  {
   "cell_type": "code",
   "execution_count": 196,
   "metadata": {},
   "outputs": [
    {
     "name": "stdout",
     "output_type": "stream",
     "text": [
      "This venue has not been rated yet.\n"
     ]
    }
   ],
   "source": [
    "try:\n",
    "    print(result['response']['venue']['rating'])\n",
    "except:\n",
    "    print('This venue has not been rated yet.')"
   ]
  },
  {
   "cell_type": "markdown",
   "metadata": {},
   "source": [
    "## Brunch point"
   ]
  },
  {
   "cell_type": "code",
   "execution_count": 203,
   "metadata": {},
   "outputs": [
    {
     "name": "stdout",
     "output_type": "stream",
     "text": [
      "Restaurant .... OK!\n"
     ]
    }
   ],
   "source": [
    "search_query = 'Restaurant'\n",
    "radius = 600\n",
    "print(search_query + ' .... OK!')"
   ]
  },
  {
   "cell_type": "code",
   "execution_count": 204,
   "metadata": {},
   "outputs": [
    {
     "data": {
      "text/plain": [
       "'https://api.foursquare.com/v2/venues/search?client_id=FXWG412PGZMV0OTDDNYEC2XP2TGWP1ZTH5JD1RCML2OL5CLK&client_secret=RCZUNJDEY0MD0TH0KA5E3EDRLAF1T35JO5GSZNXQKZ0JX4PE&ll=43.6672363,-79.313387&v=20180605&query=Restaurant&radius=600&limit=100'"
      ]
     },
     "execution_count": 204,
     "metadata": {},
     "output_type": "execute_result"
    }
   ],
   "source": [
    "url = 'https://api.foursquare.com/v2/venues/search?client_id={}&client_secret={}&ll={},{}&v={}&query={}&radius={}&limit={}'.format(CLIENT_ID, CLIENT_SECRET, latitude, longitude, VERSION, search_query, radius, LIMIT)\n",
    "url"
   ]
  },
  {
   "cell_type": "code",
   "execution_count": 205,
   "metadata": {},
   "outputs": [
    {
     "data": {
      "text/plain": [
       "{'meta': {'code': 200, 'requestId': '5ea33fe40be7b4001b63d8d7'},\n",
       " 'response': {'venues': [{'id': '4b58eeb6f964a520e37328e3',\n",
       "    'name': 'Delina Restaurant',\n",
       "    'location': {'address': '1891 Queen St E',\n",
       "     'crossStreet': 'Woodbine',\n",
       "     'lat': 43.6688671759284,\n",
       "     'lng': -79.3054042721163,\n",
       "     'labeledLatLngs': [{'label': 'display',\n",
       "       'lat': 43.6688671759284,\n",
       "       'lng': -79.3054042721163}],\n",
       "     'distance': 667,\n",
       "     'cc': 'CA',\n",
       "     'city': 'Toronto',\n",
       "     'state': 'ON',\n",
       "     'country': 'Canada',\n",
       "     'formattedAddress': ['1891 Queen St E (Woodbine)',\n",
       "      'Toronto ON',\n",
       "      'Canada']},\n",
       "    'categories': [{'id': '4bf58dd8d48988d115941735',\n",
       "      'name': 'Middle Eastern Restaurant',\n",
       "      'pluralName': 'Middle Eastern Restaurants',\n",
       "      'shortName': 'Middle Eastern',\n",
       "      'icon': {'prefix': 'https://ss3.4sqi.net/img/categories_v2/food/middleeastern_',\n",
       "       'suffix': '.png'},\n",
       "      'primary': True}],\n",
       "    'referralId': 'v-1587757032',\n",
       "    'hasPerk': False}]}}"
      ]
     },
     "execution_count": 205,
     "metadata": {},
     "output_type": "execute_result"
    }
   ],
   "source": [
    "results = requests.get(url).json()\n",
    "results"
   ]
  },
  {
   "cell_type": "code",
   "execution_count": 206,
   "metadata": {},
   "outputs": [
    {
     "data": {
      "text/html": [
       "<div>\n",
       "<style scoped>\n",
       "    .dataframe tbody tr th:only-of-type {\n",
       "        vertical-align: middle;\n",
       "    }\n",
       "\n",
       "    .dataframe tbody tr th {\n",
       "        vertical-align: top;\n",
       "    }\n",
       "\n",
       "    .dataframe thead th {\n",
       "        text-align: right;\n",
       "    }\n",
       "</style>\n",
       "<table border=\"1\" class=\"dataframe\">\n",
       "  <thead>\n",
       "    <tr style=\"text-align: right;\">\n",
       "      <th></th>\n",
       "      <th>categories</th>\n",
       "      <th>hasPerk</th>\n",
       "      <th>id</th>\n",
       "      <th>location.address</th>\n",
       "      <th>location.cc</th>\n",
       "      <th>location.city</th>\n",
       "      <th>location.country</th>\n",
       "      <th>location.crossStreet</th>\n",
       "      <th>location.distance</th>\n",
       "      <th>location.formattedAddress</th>\n",
       "      <th>location.labeledLatLngs</th>\n",
       "      <th>location.lat</th>\n",
       "      <th>location.lng</th>\n",
       "      <th>location.state</th>\n",
       "      <th>name</th>\n",
       "      <th>referralId</th>\n",
       "    </tr>\n",
       "  </thead>\n",
       "  <tbody>\n",
       "    <tr>\n",
       "      <th>0</th>\n",
       "      <td>[{'id': '4bf58dd8d48988d115941735', 'name': 'Middle Eastern Restaurant', 'pluralName': 'Middle Eastern Restaurants', 'shortName': 'Middle Eastern', 'icon': {'prefix': 'https://ss3.4sqi.net/img/categories_v2/food/middleeastern_', 'suffix': '.png'}, 'primary': True}]</td>\n",
       "      <td>False</td>\n",
       "      <td>4b58eeb6f964a520e37328e3</td>\n",
       "      <td>1891 Queen St E</td>\n",
       "      <td>CA</td>\n",
       "      <td>Toronto</td>\n",
       "      <td>Canada</td>\n",
       "      <td>Woodbine</td>\n",
       "      <td>667</td>\n",
       "      <td>[1891 Queen St E (Woodbine), Toronto ON, Canada]</td>\n",
       "      <td>[{'label': 'display', 'lat': 43.6688671759284, 'lng': -79.3054042721163}]</td>\n",
       "      <td>43.668867</td>\n",
       "      <td>-79.305404</td>\n",
       "      <td>ON</td>\n",
       "      <td>Delina Restaurant</td>\n",
       "      <td>v-1587757032</td>\n",
       "    </tr>\n",
       "  </tbody>\n",
       "</table>\n",
       "</div>"
      ],
      "text/plain": [
       "                                                                                                                                                                                                                                                                  categories  \\\n",
       "0  [{'id': '4bf58dd8d48988d115941735', 'name': 'Middle Eastern Restaurant', 'pluralName': 'Middle Eastern Restaurants', 'shortName': 'Middle Eastern', 'icon': {'prefix': 'https://ss3.4sqi.net/img/categories_v2/food/middleeastern_', 'suffix': '.png'}, 'primary': True}]   \n",
       "\n",
       "   hasPerk                        id location.address location.cc  \\\n",
       "0  False    4b58eeb6f964a520e37328e3  1891 Queen St E  CA           \n",
       "\n",
       "  location.city location.country location.crossStreet  location.distance  \\\n",
       "0  Toronto       Canada           Woodbine             667                 \n",
       "\n",
       "                          location.formattedAddress  \\\n",
       "0  [1891 Queen St E (Woodbine), Toronto ON, Canada]   \n",
       "\n",
       "                                                     location.labeledLatLngs  \\\n",
       "0  [{'label': 'display', 'lat': 43.6688671759284, 'lng': -79.3054042721163}]   \n",
       "\n",
       "   location.lat  location.lng location.state               name    referralId  \n",
       "0  43.668867    -79.305404     ON             Delina Restaurant  v-1587757032  "
      ]
     },
     "execution_count": 206,
     "metadata": {},
     "output_type": "execute_result"
    }
   ],
   "source": [
    "venues = results['response']['venues']\n",
    "\n",
    "dataframe = json_normalize(venues)\n",
    "dataframe.head()"
   ]
  },
  {
   "cell_type": "code",
   "execution_count": 207,
   "metadata": {},
   "outputs": [
    {
     "data": {
      "text/html": [
       "<div>\n",
       "<style scoped>\n",
       "    .dataframe tbody tr th:only-of-type {\n",
       "        vertical-align: middle;\n",
       "    }\n",
       "\n",
       "    .dataframe tbody tr th {\n",
       "        vertical-align: top;\n",
       "    }\n",
       "\n",
       "    .dataframe thead th {\n",
       "        text-align: right;\n",
       "    }\n",
       "</style>\n",
       "<table border=\"1\" class=\"dataframe\">\n",
       "  <thead>\n",
       "    <tr style=\"text-align: right;\">\n",
       "      <th></th>\n",
       "      <th>name</th>\n",
       "      <th>categories</th>\n",
       "      <th>address</th>\n",
       "      <th>cc</th>\n",
       "      <th>city</th>\n",
       "      <th>country</th>\n",
       "      <th>crossStreet</th>\n",
       "      <th>distance</th>\n",
       "      <th>formattedAddress</th>\n",
       "      <th>labeledLatLngs</th>\n",
       "      <th>lat</th>\n",
       "      <th>lng</th>\n",
       "      <th>state</th>\n",
       "      <th>id</th>\n",
       "    </tr>\n",
       "  </thead>\n",
       "  <tbody>\n",
       "    <tr>\n",
       "      <th>0</th>\n",
       "      <td>Delina Restaurant</td>\n",
       "      <td>Middle Eastern Restaurant</td>\n",
       "      <td>1891 Queen St E</td>\n",
       "      <td>CA</td>\n",
       "      <td>Toronto</td>\n",
       "      <td>Canada</td>\n",
       "      <td>Woodbine</td>\n",
       "      <td>667</td>\n",
       "      <td>[1891 Queen St E (Woodbine), Toronto ON, Canada]</td>\n",
       "      <td>[{'label': 'display', 'lat': 43.6688671759284, 'lng': -79.3054042721163}]</td>\n",
       "      <td>43.668867</td>\n",
       "      <td>-79.305404</td>\n",
       "      <td>ON</td>\n",
       "      <td>4b58eeb6f964a520e37328e3</td>\n",
       "    </tr>\n",
       "  </tbody>\n",
       "</table>\n",
       "</div>"
      ],
      "text/plain": [
       "                name                 categories          address  cc     city  \\\n",
       "0  Delina Restaurant  Middle Eastern Restaurant  1891 Queen St E  CA  Toronto   \n",
       "\n",
       "  country crossStreet  distance  \\\n",
       "0  Canada  Woodbine    667        \n",
       "\n",
       "                                   formattedAddress  \\\n",
       "0  [1891 Queen St E (Woodbine), Toronto ON, Canada]   \n",
       "\n",
       "                                                              labeledLatLngs  \\\n",
       "0  [{'label': 'display', 'lat': 43.6688671759284, 'lng': -79.3054042721163}]   \n",
       "\n",
       "         lat        lng state                        id  \n",
       "0  43.668867 -79.305404  ON    4b58eeb6f964a520e37328e3  "
      ]
     },
     "execution_count": 207,
     "metadata": {},
     "output_type": "execute_result"
    }
   ],
   "source": [
    "filtered_columns = ['name', 'categories'] + [col for col in dataframe.columns if col.startswith('location.')] + ['id']\n",
    "dataframe_filtered = dataframe.loc[:, filtered_columns]\n",
    "\n",
    "\n",
    "def get_category_type(row):\n",
    "    try:\n",
    "        categories_list = row['categories']\n",
    "    except:\n",
    "        categories_list = row['venue.categories']\n",
    "        \n",
    "    if len(categories_list) == 0:\n",
    "        return None\n",
    "    else:\n",
    "        return categories_list[0]['name']\n",
    "\n",
    "\n",
    "dataframe_filtered['categories'] = dataframe_filtered.apply(get_category_type, axis=1)\n",
    "\n",
    "\n",
    "dataframe_filtered.columns = [column.split('.')[-1] for column in dataframe_filtered.columns]\n",
    "\n",
    "dataframe_filtered"
   ]
  },
  {
   "cell_type": "code",
   "execution_count": 208,
   "metadata": {},
   "outputs": [
    {
     "data": {
      "text/plain": [
       "0    Delina Restaurant\n",
       "Name: name, dtype: object"
      ]
     },
     "execution_count": 208,
     "metadata": {},
     "output_type": "execute_result"
    }
   ],
   "source": [
    "dataframe_filtered.name"
   ]
  },
  {
   "cell_type": "code",
   "execution_count": 209,
   "metadata": {},
   "outputs": [
    {
     "data": {
      "text/html": [
       "<div style=\"width:100%;\"><div style=\"position:relative;width:100%;height:0;padding-bottom:60%;\"><iframe src=\"about:blank\" style=\"position:absolute;width:100%;height:100%;left:0;top:0;border:none !important;\" data-html=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 onload=\"this.contentDocument.open();this.contentDocument.write(atob(this.getAttribute('data-html')));this.contentDocument.close();\" allowfullscreen webkitallowfullscreen mozallowfullscreen></iframe></div></div>"
      ],
      "text/plain": [
       "<folium.folium.Map at 0x2317d8664a8>"
      ]
     },
     "execution_count": 209,
     "metadata": {},
     "output_type": "execute_result"
    }
   ],
   "source": [
    "venues_map = folium.Map(location=[latitude, longitude], zoom_start=13) \n",
    "\n",
    "# add a red circle marker to represent the Conrad Hotel\n",
    "folium.features.CircleMarker(\n",
    "    [latitude, longitude],\n",
    "    radius=10,\n",
    "    color='red',\n",
    "    popup='Hotel',\n",
    "    fill = True,\n",
    "    fill_color = 'red',\n",
    "    fill_opacity = 0.6\n",
    ").add_to(venues_map)\n",
    "\n",
    "# add the Italian restaurants as blue circle markers\n",
    "for lat, lng, label in zip(dataframe_filtered.lat, dataframe_filtered.lng, dataframe_filtered.categories):\n",
    "    folium.features.CircleMarker(\n",
    "        [lat, lng],\n",
    "        radius=5,\n",
    "        color='blue',\n",
    "        popup=label,\n",
    "        fill = True,\n",
    "        fill_color='blue',\n",
    "        fill_opacity=0.6\n",
    "    ).add_to(venues_map)\n",
    "\n",
    "venues_map"
   ]
  },
  {
   "cell_type": "code",
   "execution_count": 210,
   "metadata": {},
   "outputs": [
    {
     "data": {
      "text/plain": [
       "'https://api.foursquare.com/v2/venues/4dad8ab9043718a63e33e294?client_id=FXWG412PGZMV0OTDDNYEC2XP2TGWP1ZTH5JD1RCML2OL5CLK&client_secret=RCZUNJDEY0MD0TH0KA5E3EDRLAF1T35JO5GSZNXQKZ0JX4PE&v=20180605'"
      ]
     },
     "execution_count": 210,
     "metadata": {},
     "output_type": "execute_result"
    }
   ],
   "source": [
    "venue_id = '4dad8ab9043718a63e33e294' \n",
    "url = 'https://api.foursquare.com/v2/venues/{}?client_id={}&client_secret={}&v={}'.format(venue_id, CLIENT_ID, CLIENT_SECRET, VERSION)\n",
    "url"
   ]
  },
  {
   "cell_type": "code",
   "execution_count": 211,
   "metadata": {},
   "outputs": [
    {
     "name": "stdout",
     "output_type": "stream",
     "text": [
      "dict_keys(['id', 'name', 'contact', 'location', 'canonicalUrl', 'categories', 'verified', 'stats', 'price', 'likes', 'dislike', 'ok', 'allowMenuUrlEdit', 'beenHere', 'specials', 'photos', 'reasons', 'hereNow', 'createdAt', 'tips', 'shortUrl', 'timeZone', 'listed', 'seasonalHours', 'pageUpdates', 'inbox', 'attributes', 'bestPhoto', 'colors'])\n"
     ]
    },
    {
     "data": {
      "text/plain": [
       "{'id': '4dad8ab9043718a63e33e294',\n",
       " 'name': 'Coffee Time',\n",
       " 'contact': {},\n",
       " 'location': {'address': '2195 Midland Ave',\n",
       "  'crossStreet': 'at Progress Ave',\n",
       "  'lat': 43.773307723529335,\n",
       "  'lng': -79.27289954044328,\n",
       "  'labeledLatLngs': [{'label': 'display',\n",
       "    'lat': 43.773307723529335,\n",
       "    'lng': -79.27289954044328}],\n",
       "  'cc': 'CA',\n",
       "  'city': 'Toronto',\n",
       "  'state': 'ON',\n",
       "  'country': 'Canada',\n",
       "  'formattedAddress': ['2195 Midland Ave (at Progress Ave)',\n",
       "   'Toronto ON',\n",
       "   'Canada']},\n",
       " 'canonicalUrl': 'https://foursquare.com/v/coffee-time/4dad8ab9043718a63e33e294',\n",
       " 'categories': [{'id': '4bf58dd8d48988d1e0931735',\n",
       "   'name': 'Coffee Shop',\n",
       "   'pluralName': 'Coffee Shops',\n",
       "   'shortName': 'Coffee Shop',\n",
       "   'icon': {'prefix': 'https://ss3.4sqi.net/img/categories_v2/food/coffeeshop_',\n",
       "    'suffix': '.png'},\n",
       "   'primary': True}],\n",
       " 'verified': False,\n",
       " 'stats': {'tipCount': 1},\n",
       " 'price': {'tier': 1, 'message': 'Cheap', 'currency': '$'},\n",
       " 'likes': {'count': 3,\n",
       "  'groups': [{'type': 'others',\n",
       "    'count': 3,\n",
       "    'items': [{'id': '409557238',\n",
       "      'firstName': 'Dagmar',\n",
       "      'lastName': 'S',\n",
       "      'photo': {'prefix': 'https://fastly.4sqi.net/img/user/',\n",
       "       'suffix': '/409557238_PHMyqMX1_9FXja1H1QWXnf6LDL5GXCHqEWRU_gB3soBImoYGImVXIAoc90bgmHzSLlDTSrMiK.jpg'}},\n",
       "     {'id': '6773183',\n",
       "      'firstName': 'Thilaknath',\n",
       "      'lastName': 'A',\n",
       "      'photo': {'prefix': 'https://fastly.4sqi.net/img/user/',\n",
       "       'suffix': '/6773183-EIDZMIR3U2MCASZF.jpg'}},\n",
       "     {'id': '4935263',\n",
       "      'firstName': 'Benjamin',\n",
       "      'photo': {'prefix': 'https://fastly.4sqi.net/img/user/',\n",
       "       'suffix': '/UFUGTN4QHKJUNKUK.jpg'}}]}],\n",
       "  'summary': '3 Likes'},\n",
       " 'dislike': False,\n",
       " 'ok': False,\n",
       " 'allowMenuUrlEdit': True,\n",
       " 'beenHere': {'count': 0,\n",
       "  'unconfirmedCount': 0,\n",
       "  'marked': False,\n",
       "  'lastCheckinExpiredAt': 0},\n",
       " 'specials': {'count': 0, 'items': []},\n",
       " 'photos': {'count': 2,\n",
       "  'groups': [{'type': 'venue',\n",
       "    'name': 'Venue photos',\n",
       "    'count': 2,\n",
       "    'items': [{'id': '56c0d423cd1019b9ce91c44f',\n",
       "      'createdAt': 1455477795,\n",
       "      'source': {'name': 'Swarm for Android',\n",
       "       'url': 'https://www.swarmapp.com'},\n",
       "      'prefix': 'https://fastly.4sqi.net/img/general/',\n",
       "      'suffix': '/149265055_IX7B24DDRtFJOpqXkTAJPUB9PCpb37D0hXwzMPdS_pY.jpg',\n",
       "      'width': 540,\n",
       "      'height': 960,\n",
       "      'user': {'id': '149265055',\n",
       "       'firstName': 'Andrew',\n",
       "       'lastName': 'B',\n",
       "       'photo': {'prefix': 'https://fastly.4sqi.net/img/user/',\n",
       "        'suffix': '/149265055-C54MX5YRC4BLBM0E.jpg'}},\n",
       "      'visibility': 'public'}]}]},\n",
       " 'reasons': {'count': 0, 'items': []},\n",
       " 'hereNow': {'count': 0, 'summary': 'Nobody here', 'groups': []},\n",
       " 'createdAt': 1303218873,\n",
       " 'tips': {'count': 1,\n",
       "  'groups': [{'type': 'others',\n",
       "    'name': 'All tips',\n",
       "    'count': 1,\n",
       "    'items': [{'id': '51f30b84498eaf5718b5e7e2',\n",
       "      'createdAt': 1374882692,\n",
       "      'text': 'Good food, good times',\n",
       "      'type': 'user',\n",
       "      'canonicalUrl': 'https://foursquare.com/item/51f30b84498eaf5718b5e7e2',\n",
       "      'lang': 'en',\n",
       "      'likes': {'count': 1,\n",
       "       'groups': [{'type': 'others',\n",
       "         'count': 1,\n",
       "         'items': [{'id': '4935263',\n",
       "           'firstName': 'Benjamin',\n",
       "           'photo': {'prefix': 'https://fastly.4sqi.net/img/user/',\n",
       "            'suffix': '/UFUGTN4QHKJUNKUK.jpg'}}]}],\n",
       "       'summary': '1 like'},\n",
       "      'logView': True,\n",
       "      'agreeCount': 1,\n",
       "      'disagreeCount': 0,\n",
       "      'todo': {'count': 0},\n",
       "      'user': {'id': '8131699',\n",
       "       'firstName': 'Kris',\n",
       "       'lastName': 'M',\n",
       "       'photo': {'prefix': 'https://fastly.4sqi.net/img/user/',\n",
       "        'suffix': '/4D5M0MQJ00KKOBPY.jpg'}}}]}]},\n",
       " 'shortUrl': 'http://4sq.com/eZMEEC',\n",
       " 'timeZone': 'America/Toronto',\n",
       " 'listed': {'count': 0,\n",
       "  'groups': [{'type': 'others',\n",
       "    'name': 'Lists from other people',\n",
       "    'count': 0,\n",
       "    'items': []}]},\n",
       " 'seasonalHours': [],\n",
       " 'pageUpdates': {'count': 0, 'items': []},\n",
       " 'inbox': {'count': 0, 'items': []},\n",
       " 'attributes': {'groups': [{'type': 'price',\n",
       "    'name': 'Price',\n",
       "    'summary': '$',\n",
       "    'count': 1,\n",
       "    'items': [{'displayName': 'Price', 'displayValue': '$', 'priceTier': 1}]},\n",
       "   {'type': 'payments',\n",
       "    'name': 'Credit Cards',\n",
       "    'summary': 'Credit Cards',\n",
       "    'count': 5,\n",
       "    'items': [{'displayName': 'Credit Cards', 'displayValue': 'Yes'}]},\n",
       "   {'type': 'outdoorSeating',\n",
       "    'name': 'Outdoor Seating',\n",
       "    'summary': 'Outdoor Seating',\n",
       "    'count': 1,\n",
       "    'items': [{'displayName': 'Outdoor Seating', 'displayValue': 'Yes'}]},\n",
       "   {'type': 'wifi',\n",
       "    'name': 'Wi-Fi',\n",
       "    'summary': 'Wi-Fi',\n",
       "    'count': 1,\n",
       "    'items': [{'displayName': 'Wi-Fi', 'displayValue': 'Yes'}]}]},\n",
       " 'bestPhoto': {'id': '56c0d423cd1019b9ce91c44f',\n",
       "  'createdAt': 1455477795,\n",
       "  'source': {'name': 'Swarm for Android', 'url': 'https://www.swarmapp.com'},\n",
       "  'prefix': 'https://fastly.4sqi.net/img/general/',\n",
       "  'suffix': '/149265055_IX7B24DDRtFJOpqXkTAJPUB9PCpb37D0hXwzMPdS_pY.jpg',\n",
       "  'width': 540,\n",
       "  'height': 960,\n",
       "  'visibility': 'public'},\n",
       " 'colors': {'highlightColor': {'photoId': '56c0d423cd1019b9ce91c44f',\n",
       "   'value': -9404280},\n",
       "  'highlightTextColor': {'photoId': '56c0d423cd1019b9ce91c44f',\n",
       "   'value': -16777216},\n",
       "  'algoVersion': 3}}"
      ]
     },
     "execution_count": 211,
     "metadata": {},
     "output_type": "execute_result"
    }
   ],
   "source": [
    "result = requests.get(url).json()\n",
    "print(result['response']['venue'].keys())\n",
    "result['response']['venue']"
   ]
  },
  {
   "cell_type": "code",
   "execution_count": 212,
   "metadata": {},
   "outputs": [
    {
     "name": "stdout",
     "output_type": "stream",
     "text": [
      "This venue has not been rated yet.\n"
     ]
    }
   ],
   "source": [
    "try:\n",
    "    print(result['response']['venue']['rating'])\n",
    "except:\n",
    "    print('This venue has not been rated yet.')"
   ]
  },
  {
   "cell_type": "markdown",
   "metadata": {},
   "source": [
    "## Bar and Dinner"
   ]
  },
  {
   "cell_type": "code",
   "execution_count": 235,
   "metadata": {},
   "outputs": [
    {
     "name": "stdout",
     "output_type": "stream",
     "text": [
      "Bar .... OK!\n"
     ]
    }
   ],
   "source": [
    "search_query = 'Bar'\n",
    "radius = 220\n",
    "print(search_query + ' .... OK!')"
   ]
  },
  {
   "cell_type": "code",
   "execution_count": 236,
   "metadata": {},
   "outputs": [
    {
     "data": {
      "text/plain": [
       "'https://api.foursquare.com/v2/venues/search?client_id=FXWG412PGZMV0OTDDNYEC2XP2TGWP1ZTH5JD1RCML2OL5CLK&client_secret=RCZUNJDEY0MD0TH0KA5E3EDRLAF1T35JO5GSZNXQKZ0JX4PE&ll=43.6672363,-79.313387&v=20180605&query=Bar&radius=220&limit=100'"
      ]
     },
     "execution_count": 236,
     "metadata": {},
     "output_type": "execute_result"
    }
   ],
   "source": [
    "url = 'https://api.foursquare.com/v2/venues/search?client_id={}&client_secret={}&ll={},{}&v={}&query={}&radius={}&limit={}'.format(CLIENT_ID, CLIENT_SECRET, latitude, longitude, VERSION, search_query, radius, LIMIT)\n",
    "url"
   ]
  },
  {
   "cell_type": "code",
   "execution_count": 237,
   "metadata": {},
   "outputs": [
    {
     "data": {
      "text/plain": [
       "{'meta': {'code': 200, 'requestId': '5ea3414b98205d74787490a2'},\n",
       " 'response': {'venues': [{'id': '4c3a24823849c9286477c2b1',\n",
       "    'name': 'The Emerald Bar & Grill',\n",
       "    'location': {'address': '1628 Queen St. East',\n",
       "     'lat': 43.666548,\n",
       "     'lng': -79.31596,\n",
       "     'labeledLatLngs': [{'label': 'display',\n",
       "       'lat': 43.666548,\n",
       "       'lng': -79.31596}],\n",
       "     'distance': 220,\n",
       "     'cc': 'CA',\n",
       "     'city': 'Toronto',\n",
       "     'state': 'ON',\n",
       "     'country': 'Canada',\n",
       "     'formattedAddress': ['1628 Queen St. East', 'Toronto ON', 'Canada']},\n",
       "    'categories': [{'id': '4bf58dd8d48988d116941735',\n",
       "      'name': 'Bar',\n",
       "      'pluralName': 'Bars',\n",
       "      'shortName': 'Bar',\n",
       "      'icon': {'prefix': 'https://ss3.4sqi.net/img/categories_v2/nightlife/pub_',\n",
       "       'suffix': '.png'},\n",
       "      'primary': True}],\n",
       "    'referralId': 'v-1587757654',\n",
       "    'hasPerk': False}]}}"
      ]
     },
     "execution_count": 237,
     "metadata": {},
     "output_type": "execute_result"
    }
   ],
   "source": [
    "results = requests.get(url).json()\n",
    "results"
   ]
  },
  {
   "cell_type": "code",
   "execution_count": 238,
   "metadata": {},
   "outputs": [
    {
     "data": {
      "text/html": [
       "<div>\n",
       "<style scoped>\n",
       "    .dataframe tbody tr th:only-of-type {\n",
       "        vertical-align: middle;\n",
       "    }\n",
       "\n",
       "    .dataframe tbody tr th {\n",
       "        vertical-align: top;\n",
       "    }\n",
       "\n",
       "    .dataframe thead th {\n",
       "        text-align: right;\n",
       "    }\n",
       "</style>\n",
       "<table border=\"1\" class=\"dataframe\">\n",
       "  <thead>\n",
       "    <tr style=\"text-align: right;\">\n",
       "      <th></th>\n",
       "      <th>categories</th>\n",
       "      <th>hasPerk</th>\n",
       "      <th>id</th>\n",
       "      <th>location.address</th>\n",
       "      <th>location.cc</th>\n",
       "      <th>location.city</th>\n",
       "      <th>location.country</th>\n",
       "      <th>location.distance</th>\n",
       "      <th>location.formattedAddress</th>\n",
       "      <th>location.labeledLatLngs</th>\n",
       "      <th>location.lat</th>\n",
       "      <th>location.lng</th>\n",
       "      <th>location.state</th>\n",
       "      <th>name</th>\n",
       "      <th>referralId</th>\n",
       "    </tr>\n",
       "  </thead>\n",
       "  <tbody>\n",
       "    <tr>\n",
       "      <th>0</th>\n",
       "      <td>[{'id': '4bf58dd8d48988d116941735', 'name': 'Bar', 'pluralName': 'Bars', 'shortName': 'Bar', 'icon': {'prefix': 'https://ss3.4sqi.net/img/categories_v2/nightlife/pub_', 'suffix': '.png'}, 'primary': True}]</td>\n",
       "      <td>False</td>\n",
       "      <td>4c3a24823849c9286477c2b1</td>\n",
       "      <td>1628 Queen St. East</td>\n",
       "      <td>CA</td>\n",
       "      <td>Toronto</td>\n",
       "      <td>Canada</td>\n",
       "      <td>220</td>\n",
       "      <td>[1628 Queen St. East, Toronto ON, Canada]</td>\n",
       "      <td>[{'label': 'display', 'lat': 43.666548, 'lng': -79.31596}]</td>\n",
       "      <td>43.666548</td>\n",
       "      <td>-79.31596</td>\n",
       "      <td>ON</td>\n",
       "      <td>The Emerald Bar &amp; Grill</td>\n",
       "      <td>v-1587757654</td>\n",
       "    </tr>\n",
       "  </tbody>\n",
       "</table>\n",
       "</div>"
      ],
      "text/plain": [
       "                                                                                                                                                                                                      categories  \\\n",
       "0  [{'id': '4bf58dd8d48988d116941735', 'name': 'Bar', 'pluralName': 'Bars', 'shortName': 'Bar', 'icon': {'prefix': 'https://ss3.4sqi.net/img/categories_v2/nightlife/pub_', 'suffix': '.png'}, 'primary': True}]   \n",
       "\n",
       "   hasPerk                        id     location.address location.cc  \\\n",
       "0  False    4c3a24823849c9286477c2b1  1628 Queen St. East  CA           \n",
       "\n",
       "  location.city location.country  location.distance  \\\n",
       "0  Toronto       Canada           220                 \n",
       "\n",
       "                   location.formattedAddress  \\\n",
       "0  [1628 Queen St. East, Toronto ON, Canada]   \n",
       "\n",
       "                                      location.labeledLatLngs  location.lat  \\\n",
       "0  [{'label': 'display', 'lat': 43.666548, 'lng': -79.31596}]  43.666548      \n",
       "\n",
       "   location.lng location.state                     name    referralId  \n",
       "0 -79.31596      ON             The Emerald Bar & Grill  v-1587757654  "
      ]
     },
     "execution_count": 238,
     "metadata": {},
     "output_type": "execute_result"
    }
   ],
   "source": [
    "venues = results['response']['venues']\n",
    "\n",
    "dataframe = json_normalize(venues)\n",
    "dataframe.head()"
   ]
  },
  {
   "cell_type": "code",
   "execution_count": 239,
   "metadata": {},
   "outputs": [
    {
     "data": {
      "text/html": [
       "<div>\n",
       "<style scoped>\n",
       "    .dataframe tbody tr th:only-of-type {\n",
       "        vertical-align: middle;\n",
       "    }\n",
       "\n",
       "    .dataframe tbody tr th {\n",
       "        vertical-align: top;\n",
       "    }\n",
       "\n",
       "    .dataframe thead th {\n",
       "        text-align: right;\n",
       "    }\n",
       "</style>\n",
       "<table border=\"1\" class=\"dataframe\">\n",
       "  <thead>\n",
       "    <tr style=\"text-align: right;\">\n",
       "      <th></th>\n",
       "      <th>name</th>\n",
       "      <th>categories</th>\n",
       "      <th>address</th>\n",
       "      <th>cc</th>\n",
       "      <th>city</th>\n",
       "      <th>country</th>\n",
       "      <th>distance</th>\n",
       "      <th>formattedAddress</th>\n",
       "      <th>labeledLatLngs</th>\n",
       "      <th>lat</th>\n",
       "      <th>lng</th>\n",
       "      <th>state</th>\n",
       "      <th>id</th>\n",
       "    </tr>\n",
       "  </thead>\n",
       "  <tbody>\n",
       "    <tr>\n",
       "      <th>0</th>\n",
       "      <td>The Emerald Bar &amp; Grill</td>\n",
       "      <td>Bar</td>\n",
       "      <td>1628 Queen St. East</td>\n",
       "      <td>CA</td>\n",
       "      <td>Toronto</td>\n",
       "      <td>Canada</td>\n",
       "      <td>220</td>\n",
       "      <td>[1628 Queen St. East, Toronto ON, Canada]</td>\n",
       "      <td>[{'label': 'display', 'lat': 43.666548, 'lng': -79.31596}]</td>\n",
       "      <td>43.666548</td>\n",
       "      <td>-79.31596</td>\n",
       "      <td>ON</td>\n",
       "      <td>4c3a24823849c9286477c2b1</td>\n",
       "    </tr>\n",
       "  </tbody>\n",
       "</table>\n",
       "</div>"
      ],
      "text/plain": [
       "                      name categories              address  cc     city  \\\n",
       "0  The Emerald Bar & Grill  Bar        1628 Queen St. East  CA  Toronto   \n",
       "\n",
       "  country  distance                           formattedAddress  \\\n",
       "0  Canada  220       [1628 Queen St. East, Toronto ON, Canada]   \n",
       "\n",
       "                                               labeledLatLngs        lat  \\\n",
       "0  [{'label': 'display', 'lat': 43.666548, 'lng': -79.31596}]  43.666548   \n",
       "\n",
       "        lng state                        id  \n",
       "0 -79.31596  ON    4c3a24823849c9286477c2b1  "
      ]
     },
     "execution_count": 239,
     "metadata": {},
     "output_type": "execute_result"
    }
   ],
   "source": [
    "filtered_columns = ['name', 'categories'] + [col for col in dataframe.columns if col.startswith('location.')] + ['id']\n",
    "dataframe_filtered = dataframe.loc[:, filtered_columns]\n",
    "\n",
    "\n",
    "def get_category_type(row):\n",
    "    try:\n",
    "        categories_list = row['categories']\n",
    "    except:\n",
    "        categories_list = row['venue.categories']\n",
    "        \n",
    "    if len(categories_list) == 0:\n",
    "        return None\n",
    "    else:\n",
    "        return categories_list[0]['name']\n",
    "\n",
    "\n",
    "dataframe_filtered['categories'] = dataframe_filtered.apply(get_category_type, axis=1)\n",
    "\n",
    "\n",
    "dataframe_filtered.columns = [column.split('.')[-1] for column in dataframe_filtered.columns]\n",
    "\n",
    "dataframe_filtered"
   ]
  },
  {
   "cell_type": "code",
   "execution_count": 240,
   "metadata": {},
   "outputs": [
    {
     "data": {
      "text/plain": [
       "0    The Emerald Bar & Grill\n",
       "Name: name, dtype: object"
      ]
     },
     "execution_count": 240,
     "metadata": {},
     "output_type": "execute_result"
    }
   ],
   "source": [
    "dataframe_filtered.name"
   ]
  },
  {
   "cell_type": "code",
   "execution_count": 241,
   "metadata": {},
   "outputs": [
    {
     "data": {
      "text/html": [
       "<div style=\"width:100%;\"><div style=\"position:relative;width:100%;height:0;padding-bottom:60%;\"><iframe src=\"about:blank\" style=\"position:absolute;width:100%;height:100%;left:0;top:0;border:none !important;\" data-html=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 onload=\"this.contentDocument.open();this.contentDocument.write(atob(this.getAttribute('data-html')));this.contentDocument.close();\" allowfullscreen webkitallowfullscreen mozallowfullscreen></iframe></div></div>"
      ],
      "text/plain": [
       "<folium.folium.Map at 0x2317d8a4588>"
      ]
     },
     "execution_count": 241,
     "metadata": {},
     "output_type": "execute_result"
    }
   ],
   "source": [
    "venues_map = folium.Map(location=[latitude, longitude], zoom_start=13) \n",
    "\n",
    "# add a red circle marker to represent the Conrad Hotel\n",
    "folium.features.CircleMarker(\n",
    "    [latitude, longitude],\n",
    "    radius=10,\n",
    "    color='red',\n",
    "    popup='Hotel',\n",
    "    fill = True,\n",
    "    fill_color = 'red',\n",
    "    fill_opacity = 0.6\n",
    ").add_to(venues_map)\n",
    "\n",
    "# add the Italian restaurants as blue circle markers\n",
    "for lat, lng, label in zip(dataframe_filtered.lat, dataframe_filtered.lng, dataframe_filtered.categories):\n",
    "    folium.features.CircleMarker(\n",
    "        [lat, lng],\n",
    "        radius=5,\n",
    "        color='blue',\n",
    "        popup=label,\n",
    "        fill = True,\n",
    "        fill_color='blue',\n",
    "        fill_opacity=0.6\n",
    "    ).add_to(venues_map)\n",
    "\n",
    "venues_map"
   ]
  },
  {
   "cell_type": "code",
   "execution_count": 242,
   "metadata": {},
   "outputs": [
    {
     "data": {
      "text/plain": [
       "'https://api.foursquare.com/v2/venues/4dad8ab9043718a63e33e294?client_id=FXWG412PGZMV0OTDDNYEC2XP2TGWP1ZTH5JD1RCML2OL5CLK&client_secret=RCZUNJDEY0MD0TH0KA5E3EDRLAF1T35JO5GSZNXQKZ0JX4PE&v=20180605'"
      ]
     },
     "execution_count": 242,
     "metadata": {},
     "output_type": "execute_result"
    }
   ],
   "source": [
    "venue_id = '4dad8ab9043718a63e33e294' \n",
    "url = 'https://api.foursquare.com/v2/venues/{}?client_id={}&client_secret={}&v={}'.format(venue_id, CLIENT_ID, CLIENT_SECRET, VERSION)\n",
    "url"
   ]
  },
  {
   "cell_type": "code",
   "execution_count": 243,
   "metadata": {},
   "outputs": [
    {
     "name": "stdout",
     "output_type": "stream",
     "text": [
      "dict_keys(['id', 'name', 'contact', 'location', 'canonicalUrl', 'categories', 'verified', 'stats', 'price', 'likes', 'dislike', 'ok', 'allowMenuUrlEdit', 'beenHere', 'specials', 'photos', 'reasons', 'hereNow', 'createdAt', 'tips', 'shortUrl', 'timeZone', 'listed', 'seasonalHours', 'pageUpdates', 'inbox', 'attributes', 'bestPhoto', 'colors'])\n"
     ]
    },
    {
     "data": {
      "text/plain": [
       "{'id': '4dad8ab9043718a63e33e294',\n",
       " 'name': 'Coffee Time',\n",
       " 'contact': {},\n",
       " 'location': {'address': '2195 Midland Ave',\n",
       "  'crossStreet': 'at Progress Ave',\n",
       "  'lat': 43.773307723529335,\n",
       "  'lng': -79.27289954044328,\n",
       "  'labeledLatLngs': [{'label': 'display',\n",
       "    'lat': 43.773307723529335,\n",
       "    'lng': -79.27289954044328}],\n",
       "  'cc': 'CA',\n",
       "  'city': 'Toronto',\n",
       "  'state': 'ON',\n",
       "  'country': 'Canada',\n",
       "  'formattedAddress': ['2195 Midland Ave (at Progress Ave)',\n",
       "   'Toronto ON',\n",
       "   'Canada']},\n",
       " 'canonicalUrl': 'https://foursquare.com/v/coffee-time/4dad8ab9043718a63e33e294',\n",
       " 'categories': [{'id': '4bf58dd8d48988d1e0931735',\n",
       "   'name': 'Coffee Shop',\n",
       "   'pluralName': 'Coffee Shops',\n",
       "   'shortName': 'Coffee Shop',\n",
       "   'icon': {'prefix': 'https://ss3.4sqi.net/img/categories_v2/food/coffeeshop_',\n",
       "    'suffix': '.png'},\n",
       "   'primary': True}],\n",
       " 'verified': False,\n",
       " 'stats': {'tipCount': 1},\n",
       " 'price': {'tier': 1, 'message': 'Cheap', 'currency': '$'},\n",
       " 'likes': {'count': 3,\n",
       "  'groups': [{'type': 'others',\n",
       "    'count': 3,\n",
       "    'items': [{'id': '409557238',\n",
       "      'firstName': 'Dagmar',\n",
       "      'lastName': 'S',\n",
       "      'photo': {'prefix': 'https://fastly.4sqi.net/img/user/',\n",
       "       'suffix': '/409557238_PHMyqMX1_9FXja1H1QWXnf6LDL5GXCHqEWRU_gB3soBImoYGImVXIAoc90bgmHzSLlDTSrMiK.jpg'}},\n",
       "     {'id': '6773183',\n",
       "      'firstName': 'Thilaknath',\n",
       "      'lastName': 'A',\n",
       "      'photo': {'prefix': 'https://fastly.4sqi.net/img/user/',\n",
       "       'suffix': '/6773183-EIDZMIR3U2MCASZF.jpg'}},\n",
       "     {'id': '4935263',\n",
       "      'firstName': 'Benjamin',\n",
       "      'photo': {'prefix': 'https://fastly.4sqi.net/img/user/',\n",
       "       'suffix': '/UFUGTN4QHKJUNKUK.jpg'}}]}],\n",
       "  'summary': '3 Likes'},\n",
       " 'dislike': False,\n",
       " 'ok': False,\n",
       " 'allowMenuUrlEdit': True,\n",
       " 'beenHere': {'count': 0,\n",
       "  'unconfirmedCount': 0,\n",
       "  'marked': False,\n",
       "  'lastCheckinExpiredAt': 0},\n",
       " 'specials': {'count': 0, 'items': []},\n",
       " 'photos': {'count': 2,\n",
       "  'groups': [{'type': 'venue',\n",
       "    'name': 'Venue photos',\n",
       "    'count': 2,\n",
       "    'items': [{'id': '56c0d423cd1019b9ce91c44f',\n",
       "      'createdAt': 1455477795,\n",
       "      'source': {'name': 'Swarm for Android',\n",
       "       'url': 'https://www.swarmapp.com'},\n",
       "      'prefix': 'https://fastly.4sqi.net/img/general/',\n",
       "      'suffix': '/149265055_IX7B24DDRtFJOpqXkTAJPUB9PCpb37D0hXwzMPdS_pY.jpg',\n",
       "      'width': 540,\n",
       "      'height': 960,\n",
       "      'user': {'id': '149265055',\n",
       "       'firstName': 'Andrew',\n",
       "       'lastName': 'B',\n",
       "       'photo': {'prefix': 'https://fastly.4sqi.net/img/user/',\n",
       "        'suffix': '/149265055-C54MX5YRC4BLBM0E.jpg'}},\n",
       "      'visibility': 'public'}]}]},\n",
       " 'reasons': {'count': 0, 'items': []},\n",
       " 'hereNow': {'count': 0, 'summary': 'Nobody here', 'groups': []},\n",
       " 'createdAt': 1303218873,\n",
       " 'tips': {'count': 1,\n",
       "  'groups': [{'type': 'others',\n",
       "    'name': 'All tips',\n",
       "    'count': 1,\n",
       "    'items': [{'id': '51f30b84498eaf5718b5e7e2',\n",
       "      'createdAt': 1374882692,\n",
       "      'text': 'Good food, good times',\n",
       "      'type': 'user',\n",
       "      'canonicalUrl': 'https://foursquare.com/item/51f30b84498eaf5718b5e7e2',\n",
       "      'lang': 'en',\n",
       "      'likes': {'count': 1,\n",
       "       'groups': [{'type': 'others',\n",
       "         'count': 1,\n",
       "         'items': [{'id': '4935263',\n",
       "           'firstName': 'Benjamin',\n",
       "           'photo': {'prefix': 'https://fastly.4sqi.net/img/user/',\n",
       "            'suffix': '/UFUGTN4QHKJUNKUK.jpg'}}]}],\n",
       "       'summary': '1 like'},\n",
       "      'logView': True,\n",
       "      'agreeCount': 1,\n",
       "      'disagreeCount': 0,\n",
       "      'todo': {'count': 0},\n",
       "      'user': {'id': '8131699',\n",
       "       'firstName': 'Kris',\n",
       "       'lastName': 'M',\n",
       "       'photo': {'prefix': 'https://fastly.4sqi.net/img/user/',\n",
       "        'suffix': '/4D5M0MQJ00KKOBPY.jpg'}}}]}]},\n",
       " 'shortUrl': 'http://4sq.com/eZMEEC',\n",
       " 'timeZone': 'America/Toronto',\n",
       " 'listed': {'count': 0,\n",
       "  'groups': [{'type': 'others',\n",
       "    'name': 'Lists from other people',\n",
       "    'count': 0,\n",
       "    'items': []}]},\n",
       " 'seasonalHours': [],\n",
       " 'pageUpdates': {'count': 0, 'items': []},\n",
       " 'inbox': {'count': 0, 'items': []},\n",
       " 'attributes': {'groups': [{'type': 'price',\n",
       "    'name': 'Price',\n",
       "    'summary': '$',\n",
       "    'count': 1,\n",
       "    'items': [{'displayName': 'Price', 'displayValue': '$', 'priceTier': 1}]},\n",
       "   {'type': 'payments',\n",
       "    'name': 'Credit Cards',\n",
       "    'summary': 'Credit Cards',\n",
       "    'count': 5,\n",
       "    'items': [{'displayName': 'Credit Cards', 'displayValue': 'Yes'}]},\n",
       "   {'type': 'outdoorSeating',\n",
       "    'name': 'Outdoor Seating',\n",
       "    'summary': 'Outdoor Seating',\n",
       "    'count': 1,\n",
       "    'items': [{'displayName': 'Outdoor Seating', 'displayValue': 'Yes'}]},\n",
       "   {'type': 'wifi',\n",
       "    'name': 'Wi-Fi',\n",
       "    'summary': 'Wi-Fi',\n",
       "    'count': 1,\n",
       "    'items': [{'displayName': 'Wi-Fi', 'displayValue': 'Yes'}]}]},\n",
       " 'bestPhoto': {'id': '56c0d423cd1019b9ce91c44f',\n",
       "  'createdAt': 1455477795,\n",
       "  'source': {'name': 'Swarm for Android', 'url': 'https://www.swarmapp.com'},\n",
       "  'prefix': 'https://fastly.4sqi.net/img/general/',\n",
       "  'suffix': '/149265055_IX7B24DDRtFJOpqXkTAJPUB9PCpb37D0hXwzMPdS_pY.jpg',\n",
       "  'width': 540,\n",
       "  'height': 960,\n",
       "  'visibility': 'public'},\n",
       " 'colors': {'highlightColor': {'photoId': '56c0d423cd1019b9ce91c44f',\n",
       "   'value': -9404280},\n",
       "  'highlightTextColor': {'photoId': '56c0d423cd1019b9ce91c44f',\n",
       "   'value': -16777216},\n",
       "  'algoVersion': 3}}"
      ]
     },
     "execution_count": 243,
     "metadata": {},
     "output_type": "execute_result"
    }
   ],
   "source": [
    "result = requests.get(url).json()\n",
    "print(result['response']['venue'].keys())\n",
    "result['response']['venue']"
   ]
  },
  {
   "cell_type": "code",
   "execution_count": 244,
   "metadata": {},
   "outputs": [
    {
     "name": "stdout",
     "output_type": "stream",
     "text": [
      "This venue has not been rated yet.\n"
     ]
    }
   ],
   "source": [
    "try:\n",
    "    print(result['response']['venue']['rating'])\n",
    "except:\n",
    "    print('This venue has not been rated yet.')"
   ]
  },
  {
   "cell_type": "markdown",
   "metadata": {},
   "source": [
    "# Delta Hotels by Marriott\n",
    "\n",
    "### Coffee point"
   ]
  },
  {
   "cell_type": "code",
   "execution_count": 246,
   "metadata": {},
   "outputs": [
    {
     "name": "stdout",
     "output_type": "stream",
     "text": [
      "43.643082 -79.38387181137503\n"
     ]
    }
   ],
   "source": [
    "address = 'Delta hotels, Toronto'\n",
    "\n",
    "geolocator = Nominatim(user_agent=\"foursquare_agent\")\n",
    "location = geolocator.geocode(address)\n",
    "latitude = location.latitude\n",
    "longitude = location.longitude\n",
    "print(latitude, longitude)"
   ]
  },
  {
   "cell_type": "code",
   "execution_count": 256,
   "metadata": {},
   "outputs": [
    {
     "name": "stdout",
     "output_type": "stream",
     "text": [
      "Coffee .... OK!\n"
     ]
    }
   ],
   "source": [
    "search_query = 'Coffee'\n",
    "radius = 150\n",
    "print(search_query + ' .... OK!')"
   ]
  },
  {
   "cell_type": "code",
   "execution_count": 257,
   "metadata": {},
   "outputs": [
    {
     "data": {
      "text/plain": [
       "'https://api.foursquare.com/v2/venues/search?client_id=FXWG412PGZMV0OTDDNYEC2XP2TGWP1ZTH5JD1RCML2OL5CLK&client_secret=RCZUNJDEY0MD0TH0KA5E3EDRLAF1T35JO5GSZNXQKZ0JX4PE&ll=43.643082,-79.38387181137503&v=20180605&query=Coffee&radius=150&limit=100'"
      ]
     },
     "execution_count": 257,
     "metadata": {},
     "output_type": "execute_result"
    }
   ],
   "source": [
    "url = 'https://api.foursquare.com/v2/venues/search?client_id={}&client_secret={}&ll={},{}&v={}&query={}&radius={}&limit={}'.format(CLIENT_ID, CLIENT_SECRET, latitude, longitude, VERSION, search_query, radius, LIMIT)\n",
    "url"
   ]
  },
  {
   "cell_type": "code",
   "execution_count": 258,
   "metadata": {},
   "outputs": [
    {
     "data": {
      "text/plain": [
       "{'meta': {'code': 200, 'requestId': '5ea3419edd0f85001bea0e7e'},\n",
       " 'response': {'venues': [{'id': '557f05ca498ec78ac7b29315',\n",
       "    'name': \"Balzac's Coffee\",\n",
       "    'location': {'address': '7 Station St',\n",
       "     'crossStreet': 'at SkyWalk',\n",
       "     'lat': 43.644372584148364,\n",
       "     'lng': -79.38306470027423,\n",
       "     'labeledLatLngs': [{'label': 'display',\n",
       "       'lat': 43.644372584148364,\n",
       "       'lng': -79.38306470027423}],\n",
       "     'distance': 157,\n",
       "     'postalCode': 'M5J 1C3',\n",
       "     'cc': 'CA',\n",
       "     'city': 'Toronto',\n",
       "     'state': 'ON',\n",
       "     'country': 'Canada',\n",
       "     'formattedAddress': ['7 Station St (at SkyWalk)',\n",
       "      'Toronto ON M5J 1C3',\n",
       "      'Canada']},\n",
       "    'categories': [{'id': '4bf58dd8d48988d1e0931735',\n",
       "      'name': 'Coffee Shop',\n",
       "      'pluralName': 'Coffee Shops',\n",
       "      'shortName': 'Coffee Shop',\n",
       "      'icon': {'prefix': 'https://ss3.4sqi.net/img/categories_v2/food/coffeeshop_',\n",
       "       'suffix': '.png'},\n",
       "      'primary': True}],\n",
       "    'referralId': 'v-1587757925',\n",
       "    'hasPerk': False}]}}"
      ]
     },
     "execution_count": 258,
     "metadata": {},
     "output_type": "execute_result"
    }
   ],
   "source": [
    "results = requests.get(url).json()\n",
    "results"
   ]
  },
  {
   "cell_type": "code",
   "execution_count": 259,
   "metadata": {},
   "outputs": [
    {
     "data": {
      "text/html": [
       "<div>\n",
       "<style scoped>\n",
       "    .dataframe tbody tr th:only-of-type {\n",
       "        vertical-align: middle;\n",
       "    }\n",
       "\n",
       "    .dataframe tbody tr th {\n",
       "        vertical-align: top;\n",
       "    }\n",
       "\n",
       "    .dataframe thead th {\n",
       "        text-align: right;\n",
       "    }\n",
       "</style>\n",
       "<table border=\"1\" class=\"dataframe\">\n",
       "  <thead>\n",
       "    <tr style=\"text-align: right;\">\n",
       "      <th></th>\n",
       "      <th>categories</th>\n",
       "      <th>hasPerk</th>\n",
       "      <th>id</th>\n",
       "      <th>location.address</th>\n",
       "      <th>location.cc</th>\n",
       "      <th>location.city</th>\n",
       "      <th>location.country</th>\n",
       "      <th>location.crossStreet</th>\n",
       "      <th>location.distance</th>\n",
       "      <th>location.formattedAddress</th>\n",
       "      <th>location.labeledLatLngs</th>\n",
       "      <th>location.lat</th>\n",
       "      <th>location.lng</th>\n",
       "      <th>location.postalCode</th>\n",
       "      <th>location.state</th>\n",
       "      <th>name</th>\n",
       "      <th>referralId</th>\n",
       "    </tr>\n",
       "  </thead>\n",
       "  <tbody>\n",
       "    <tr>\n",
       "      <th>0</th>\n",
       "      <td>[{'id': '4bf58dd8d48988d1e0931735', 'name': 'Coffee Shop', 'pluralName': 'Coffee Shops', 'shortName': 'Coffee Shop', 'icon': {'prefix': 'https://ss3.4sqi.net/img/categories_v2/food/coffeeshop_', 'suffix': '.png'}, 'primary': True}]</td>\n",
       "      <td>False</td>\n",
       "      <td>557f05ca498ec78ac7b29315</td>\n",
       "      <td>7 Station St</td>\n",
       "      <td>CA</td>\n",
       "      <td>Toronto</td>\n",
       "      <td>Canada</td>\n",
       "      <td>at SkyWalk</td>\n",
       "      <td>157</td>\n",
       "      <td>[7 Station St (at SkyWalk), Toronto ON M5J 1C3, Canada]</td>\n",
       "      <td>[{'label': 'display', 'lat': 43.644372584148364, 'lng': -79.38306470027423}]</td>\n",
       "      <td>43.644373</td>\n",
       "      <td>-79.383065</td>\n",
       "      <td>M5J 1C3</td>\n",
       "      <td>ON</td>\n",
       "      <td>Balzac's Coffee</td>\n",
       "      <td>v-1587757925</td>\n",
       "    </tr>\n",
       "  </tbody>\n",
       "</table>\n",
       "</div>"
      ],
      "text/plain": [
       "                                                                                                                                                                                                                                categories  \\\n",
       "0  [{'id': '4bf58dd8d48988d1e0931735', 'name': 'Coffee Shop', 'pluralName': 'Coffee Shops', 'shortName': 'Coffee Shop', 'icon': {'prefix': 'https://ss3.4sqi.net/img/categories_v2/food/coffeeshop_', 'suffix': '.png'}, 'primary': True}]   \n",
       "\n",
       "   hasPerk                        id location.address location.cc  \\\n",
       "0  False    557f05ca498ec78ac7b29315  7 Station St     CA           \n",
       "\n",
       "  location.city location.country location.crossStreet  location.distance  \\\n",
       "0  Toronto       Canada           at SkyWalk           157                 \n",
       "\n",
       "                                 location.formattedAddress  \\\n",
       "0  [7 Station St (at SkyWalk), Toronto ON M5J 1C3, Canada]   \n",
       "\n",
       "                                                        location.labeledLatLngs  \\\n",
       "0  [{'label': 'display', 'lat': 43.644372584148364, 'lng': -79.38306470027423}]   \n",
       "\n",
       "   location.lat  location.lng location.postalCode location.state  \\\n",
       "0  43.644373    -79.383065     M5J 1C3             ON              \n",
       "\n",
       "              name    referralId  \n",
       "0  Balzac's Coffee  v-1587757925  "
      ]
     },
     "execution_count": 259,
     "metadata": {},
     "output_type": "execute_result"
    }
   ],
   "source": [
    "venues = results['response']['venues']\n",
    "\n",
    "dataframe = json_normalize(venues)\n",
    "dataframe.head()"
   ]
  },
  {
   "cell_type": "code",
   "execution_count": 260,
   "metadata": {},
   "outputs": [
    {
     "data": {
      "text/html": [
       "<div>\n",
       "<style scoped>\n",
       "    .dataframe tbody tr th:only-of-type {\n",
       "        vertical-align: middle;\n",
       "    }\n",
       "\n",
       "    .dataframe tbody tr th {\n",
       "        vertical-align: top;\n",
       "    }\n",
       "\n",
       "    .dataframe thead th {\n",
       "        text-align: right;\n",
       "    }\n",
       "</style>\n",
       "<table border=\"1\" class=\"dataframe\">\n",
       "  <thead>\n",
       "    <tr style=\"text-align: right;\">\n",
       "      <th></th>\n",
       "      <th>name</th>\n",
       "      <th>categories</th>\n",
       "      <th>address</th>\n",
       "      <th>cc</th>\n",
       "      <th>city</th>\n",
       "      <th>country</th>\n",
       "      <th>crossStreet</th>\n",
       "      <th>distance</th>\n",
       "      <th>formattedAddress</th>\n",
       "      <th>labeledLatLngs</th>\n",
       "      <th>lat</th>\n",
       "      <th>lng</th>\n",
       "      <th>postalCode</th>\n",
       "      <th>state</th>\n",
       "      <th>id</th>\n",
       "    </tr>\n",
       "  </thead>\n",
       "  <tbody>\n",
       "    <tr>\n",
       "      <th>0</th>\n",
       "      <td>Balzac's Coffee</td>\n",
       "      <td>Coffee Shop</td>\n",
       "      <td>7 Station St</td>\n",
       "      <td>CA</td>\n",
       "      <td>Toronto</td>\n",
       "      <td>Canada</td>\n",
       "      <td>at SkyWalk</td>\n",
       "      <td>157</td>\n",
       "      <td>[7 Station St (at SkyWalk), Toronto ON M5J 1C3, Canada]</td>\n",
       "      <td>[{'label': 'display', 'lat': 43.644372584148364, 'lng': -79.38306470027423}]</td>\n",
       "      <td>43.644373</td>\n",
       "      <td>-79.383065</td>\n",
       "      <td>M5J 1C3</td>\n",
       "      <td>ON</td>\n",
       "      <td>557f05ca498ec78ac7b29315</td>\n",
       "    </tr>\n",
       "  </tbody>\n",
       "</table>\n",
       "</div>"
      ],
      "text/plain": [
       "              name   categories       address  cc     city country  \\\n",
       "0  Balzac's Coffee  Coffee Shop  7 Station St  CA  Toronto  Canada   \n",
       "\n",
       "  crossStreet  distance  \\\n",
       "0  at SkyWalk  157        \n",
       "\n",
       "                                          formattedAddress  \\\n",
       "0  [7 Station St (at SkyWalk), Toronto ON M5J 1C3, Canada]   \n",
       "\n",
       "                                                                 labeledLatLngs  \\\n",
       "0  [{'label': 'display', 'lat': 43.644372584148364, 'lng': -79.38306470027423}]   \n",
       "\n",
       "         lat        lng postalCode state                        id  \n",
       "0  43.644373 -79.383065  M5J 1C3    ON    557f05ca498ec78ac7b29315  "
      ]
     },
     "execution_count": 260,
     "metadata": {},
     "output_type": "execute_result"
    }
   ],
   "source": [
    "filtered_columns = ['name', 'categories'] + [col for col in dataframe.columns if col.startswith('location.')] + ['id']\n",
    "dataframe_filtered = dataframe.loc[:, filtered_columns]\n",
    "\n",
    "\n",
    "def get_category_type(row):\n",
    "    try:\n",
    "        categories_list = row['categories']\n",
    "    except:\n",
    "        categories_list = row['venue.categories']\n",
    "        \n",
    "    if len(categories_list) == 0:\n",
    "        return None\n",
    "    else:\n",
    "        return categories_list[0]['name']\n",
    "\n",
    "\n",
    "dataframe_filtered['categories'] = dataframe_filtered.apply(get_category_type, axis=1)\n",
    "\n",
    "\n",
    "dataframe_filtered.columns = [column.split('.')[-1] for column in dataframe_filtered.columns]\n",
    "\n",
    "dataframe_filtered"
   ]
  },
  {
   "cell_type": "code",
   "execution_count": 261,
   "metadata": {},
   "outputs": [
    {
     "data": {
      "text/plain": [
       "0    Balzac's Coffee\n",
       "Name: name, dtype: object"
      ]
     },
     "execution_count": 261,
     "metadata": {},
     "output_type": "execute_result"
    }
   ],
   "source": [
    "dataframe_filtered.name"
   ]
  },
  {
   "cell_type": "code",
   "execution_count": 262,
   "metadata": {},
   "outputs": [
    {
     "data": {
      "text/html": [
       "<div style=\"width:100%;\"><div style=\"position:relative;width:100%;height:0;padding-bottom:60%;\"><iframe src=\"about:blank\" style=\"position:absolute;width:100%;height:100%;left:0;top:0;border:none !important;\" data-html=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 onload=\"this.contentDocument.open();this.contentDocument.write(atob(this.getAttribute('data-html')));this.contentDocument.close();\" allowfullscreen webkitallowfullscreen mozallowfullscreen></iframe></div></div>"
      ],
      "text/plain": [
       "<folium.folium.Map at 0x2317d90b7b8>"
      ]
     },
     "execution_count": 262,
     "metadata": {},
     "output_type": "execute_result"
    }
   ],
   "source": [
    "venues_map = folium.Map(location=[latitude, longitude], zoom_start=13) \n",
    "\n",
    "# add a red circle marker to represent the Conrad Hotel\n",
    "folium.features.CircleMarker(\n",
    "    [latitude, longitude],\n",
    "    radius=10,\n",
    "    color='red',\n",
    "    popup='Hotel',\n",
    "    fill = True,\n",
    "    fill_color = 'red',\n",
    "    fill_opacity = 0.6\n",
    ").add_to(venues_map)\n",
    "\n",
    "# add the Italian restaurants as blue circle markers\n",
    "for lat, lng, label in zip(dataframe_filtered.lat, dataframe_filtered.lng, dataframe_filtered.categories):\n",
    "    folium.features.CircleMarker(\n",
    "        [lat, lng],\n",
    "        radius=5,\n",
    "        color='blue',\n",
    "        popup=label,\n",
    "        fill = True,\n",
    "        fill_color='blue',\n",
    "        fill_opacity=0.6\n",
    "    ).add_to(venues_map)\n",
    "\n",
    "venues_map"
   ]
  },
  {
   "cell_type": "code",
   "execution_count": 263,
   "metadata": {},
   "outputs": [
    {
     "data": {
      "text/plain": [
       "'https://api.foursquare.com/v2/venues/4dad8ab9043718a63e33e294?client_id=FXWG412PGZMV0OTDDNYEC2XP2TGWP1ZTH5JD1RCML2OL5CLK&client_secret=RCZUNJDEY0MD0TH0KA5E3EDRLAF1T35JO5GSZNXQKZ0JX4PE&v=20180605'"
      ]
     },
     "execution_count": 263,
     "metadata": {},
     "output_type": "execute_result"
    }
   ],
   "source": [
    "venue_id = '4dad8ab9043718a63e33e294' \n",
    "url = 'https://api.foursquare.com/v2/venues/{}?client_id={}&client_secret={}&v={}'.format(venue_id, CLIENT_ID, CLIENT_SECRET, VERSION)\n",
    "url"
   ]
  },
  {
   "cell_type": "code",
   "execution_count": 264,
   "metadata": {},
   "outputs": [
    {
     "name": "stdout",
     "output_type": "stream",
     "text": [
      "dict_keys(['id', 'name', 'contact', 'location', 'canonicalUrl', 'categories', 'verified', 'stats', 'price', 'likes', 'dislike', 'ok', 'allowMenuUrlEdit', 'beenHere', 'specials', 'photos', 'reasons', 'hereNow', 'createdAt', 'tips', 'shortUrl', 'timeZone', 'listed', 'seasonalHours', 'pageUpdates', 'inbox', 'attributes', 'bestPhoto', 'colors'])\n"
     ]
    },
    {
     "data": {
      "text/plain": [
       "{'id': '4dad8ab9043718a63e33e294',\n",
       " 'name': 'Coffee Time',\n",
       " 'contact': {},\n",
       " 'location': {'address': '2195 Midland Ave',\n",
       "  'crossStreet': 'at Progress Ave',\n",
       "  'lat': 43.773307723529335,\n",
       "  'lng': -79.27289954044328,\n",
       "  'labeledLatLngs': [{'label': 'display',\n",
       "    'lat': 43.773307723529335,\n",
       "    'lng': -79.27289954044328}],\n",
       "  'cc': 'CA',\n",
       "  'city': 'Toronto',\n",
       "  'state': 'ON',\n",
       "  'country': 'Canada',\n",
       "  'formattedAddress': ['2195 Midland Ave (at Progress Ave)',\n",
       "   'Toronto ON',\n",
       "   'Canada']},\n",
       " 'canonicalUrl': 'https://foursquare.com/v/coffee-time/4dad8ab9043718a63e33e294',\n",
       " 'categories': [{'id': '4bf58dd8d48988d1e0931735',\n",
       "   'name': 'Coffee Shop',\n",
       "   'pluralName': 'Coffee Shops',\n",
       "   'shortName': 'Coffee Shop',\n",
       "   'icon': {'prefix': 'https://ss3.4sqi.net/img/categories_v2/food/coffeeshop_',\n",
       "    'suffix': '.png'},\n",
       "   'primary': True}],\n",
       " 'verified': False,\n",
       " 'stats': {'tipCount': 1},\n",
       " 'price': {'tier': 1, 'message': 'Cheap', 'currency': '$'},\n",
       " 'likes': {'count': 3,\n",
       "  'groups': [{'type': 'others',\n",
       "    'count': 3,\n",
       "    'items': [{'id': '409557238',\n",
       "      'firstName': 'Dagmar',\n",
       "      'lastName': 'S',\n",
       "      'photo': {'prefix': 'https://fastly.4sqi.net/img/user/',\n",
       "       'suffix': '/409557238_PHMyqMX1_9FXja1H1QWXnf6LDL5GXCHqEWRU_gB3soBImoYGImVXIAoc90bgmHzSLlDTSrMiK.jpg'}},\n",
       "     {'id': '6773183',\n",
       "      'firstName': 'Thilaknath',\n",
       "      'lastName': 'A',\n",
       "      'photo': {'prefix': 'https://fastly.4sqi.net/img/user/',\n",
       "       'suffix': '/6773183-EIDZMIR3U2MCASZF.jpg'}},\n",
       "     {'id': '4935263',\n",
       "      'firstName': 'Benjamin',\n",
       "      'photo': {'prefix': 'https://fastly.4sqi.net/img/user/',\n",
       "       'suffix': '/UFUGTN4QHKJUNKUK.jpg'}}]}],\n",
       "  'summary': '3 Likes'},\n",
       " 'dislike': False,\n",
       " 'ok': False,\n",
       " 'allowMenuUrlEdit': True,\n",
       " 'beenHere': {'count': 0,\n",
       "  'unconfirmedCount': 0,\n",
       "  'marked': False,\n",
       "  'lastCheckinExpiredAt': 0},\n",
       " 'specials': {'count': 0, 'items': []},\n",
       " 'photos': {'count': 2,\n",
       "  'groups': [{'type': 'venue',\n",
       "    'name': 'Venue photos',\n",
       "    'count': 2,\n",
       "    'items': [{'id': '56c0d423cd1019b9ce91c44f',\n",
       "      'createdAt': 1455477795,\n",
       "      'source': {'name': 'Swarm for Android',\n",
       "       'url': 'https://www.swarmapp.com'},\n",
       "      'prefix': 'https://fastly.4sqi.net/img/general/',\n",
       "      'suffix': '/149265055_IX7B24DDRtFJOpqXkTAJPUB9PCpb37D0hXwzMPdS_pY.jpg',\n",
       "      'width': 540,\n",
       "      'height': 960,\n",
       "      'user': {'id': '149265055',\n",
       "       'firstName': 'Andrew',\n",
       "       'lastName': 'B',\n",
       "       'photo': {'prefix': 'https://fastly.4sqi.net/img/user/',\n",
       "        'suffix': '/149265055-C54MX5YRC4BLBM0E.jpg'}},\n",
       "      'visibility': 'public'}]}]},\n",
       " 'reasons': {'count': 0, 'items': []},\n",
       " 'hereNow': {'count': 0, 'summary': 'Nobody here', 'groups': []},\n",
       " 'createdAt': 1303218873,\n",
       " 'tips': {'count': 1,\n",
       "  'groups': [{'type': 'others',\n",
       "    'name': 'All tips',\n",
       "    'count': 1,\n",
       "    'items': [{'id': '51f30b84498eaf5718b5e7e2',\n",
       "      'createdAt': 1374882692,\n",
       "      'text': 'Good food, good times',\n",
       "      'type': 'user',\n",
       "      'canonicalUrl': 'https://foursquare.com/item/51f30b84498eaf5718b5e7e2',\n",
       "      'lang': 'en',\n",
       "      'likes': {'count': 1,\n",
       "       'groups': [{'type': 'others',\n",
       "         'count': 1,\n",
       "         'items': [{'id': '4935263',\n",
       "           'firstName': 'Benjamin',\n",
       "           'photo': {'prefix': 'https://fastly.4sqi.net/img/user/',\n",
       "            'suffix': '/UFUGTN4QHKJUNKUK.jpg'}}]}],\n",
       "       'summary': '1 like'},\n",
       "      'logView': True,\n",
       "      'agreeCount': 1,\n",
       "      'disagreeCount': 0,\n",
       "      'todo': {'count': 0},\n",
       "      'user': {'id': '8131699',\n",
       "       'firstName': 'Kris',\n",
       "       'lastName': 'M',\n",
       "       'photo': {'prefix': 'https://fastly.4sqi.net/img/user/',\n",
       "        'suffix': '/4D5M0MQJ00KKOBPY.jpg'}}}]}]},\n",
       " 'shortUrl': 'http://4sq.com/eZMEEC',\n",
       " 'timeZone': 'America/Toronto',\n",
       " 'listed': {'count': 0,\n",
       "  'groups': [{'type': 'others',\n",
       "    'name': 'Lists from other people',\n",
       "    'count': 0,\n",
       "    'items': []}]},\n",
       " 'seasonalHours': [],\n",
       " 'pageUpdates': {'count': 0, 'items': []},\n",
       " 'inbox': {'count': 0, 'items': []},\n",
       " 'attributes': {'groups': [{'type': 'price',\n",
       "    'name': 'Price',\n",
       "    'summary': '$',\n",
       "    'count': 1,\n",
       "    'items': [{'displayName': 'Price', 'displayValue': '$', 'priceTier': 1}]},\n",
       "   {'type': 'payments',\n",
       "    'name': 'Credit Cards',\n",
       "    'summary': 'Credit Cards',\n",
       "    'count': 5,\n",
       "    'items': [{'displayName': 'Credit Cards', 'displayValue': 'Yes'}]},\n",
       "   {'type': 'outdoorSeating',\n",
       "    'name': 'Outdoor Seating',\n",
       "    'summary': 'Outdoor Seating',\n",
       "    'count': 1,\n",
       "    'items': [{'displayName': 'Outdoor Seating', 'displayValue': 'Yes'}]},\n",
       "   {'type': 'wifi',\n",
       "    'name': 'Wi-Fi',\n",
       "    'summary': 'Wi-Fi',\n",
       "    'count': 1,\n",
       "    'items': [{'displayName': 'Wi-Fi', 'displayValue': 'Yes'}]}]},\n",
       " 'bestPhoto': {'id': '56c0d423cd1019b9ce91c44f',\n",
       "  'createdAt': 1455477795,\n",
       "  'source': {'name': 'Swarm for Android', 'url': 'https://www.swarmapp.com'},\n",
       "  'prefix': 'https://fastly.4sqi.net/img/general/',\n",
       "  'suffix': '/149265055_IX7B24DDRtFJOpqXkTAJPUB9PCpb37D0hXwzMPdS_pY.jpg',\n",
       "  'width': 540,\n",
       "  'height': 960,\n",
       "  'visibility': 'public'},\n",
       " 'colors': {'highlightColor': {'photoId': '56c0d423cd1019b9ce91c44f',\n",
       "   'value': -9404280},\n",
       "  'highlightTextColor': {'photoId': '56c0d423cd1019b9ce91c44f',\n",
       "   'value': -16777216},\n",
       "  'algoVersion': 3}}"
      ]
     },
     "execution_count": 264,
     "metadata": {},
     "output_type": "execute_result"
    }
   ],
   "source": [
    "result = requests.get(url).json()\n",
    "print(result['response']['venue'].keys())\n",
    "result['response']['venue']"
   ]
  },
  {
   "cell_type": "code",
   "execution_count": 265,
   "metadata": {},
   "outputs": [
    {
     "name": "stdout",
     "output_type": "stream",
     "text": [
      "This venue has not been rated yet.\n"
     ]
    }
   ],
   "source": [
    "try:\n",
    "    print(result['response']['venue']['rating'])\n",
    "except:\n",
    "    print('This venue has not been rated yet.')"
   ]
  },
  {
   "cell_type": "markdown",
   "metadata": {},
   "source": [
    "## Brunch Point"
   ]
  },
  {
   "cell_type": "code",
   "execution_count": 275,
   "metadata": {},
   "outputs": [
    {
     "name": "stdout",
     "output_type": "stream",
     "text": [
      "Restaurant .... OK!\n"
     ]
    }
   ],
   "source": [
    "search_query = 'Restaurant'\n",
    "radius = 100\n",
    "print(search_query + ' .... OK!')"
   ]
  },
  {
   "cell_type": "code",
   "execution_count": 276,
   "metadata": {},
   "outputs": [
    {
     "data": {
      "text/plain": [
       "'https://api.foursquare.com/v2/venues/search?client_id=FXWG412PGZMV0OTDDNYEC2XP2TGWP1ZTH5JD1RCML2OL5CLK&client_secret=RCZUNJDEY0MD0TH0KA5E3EDRLAF1T35JO5GSZNXQKZ0JX4PE&ll=43.643082,-79.38387181137503&v=20180605&query=Restaurant&radius=100&limit=100'"
      ]
     },
     "execution_count": 276,
     "metadata": {},
     "output_type": "execute_result"
    }
   ],
   "source": [
    "url = 'https://api.foursquare.com/v2/venues/search?client_id={}&client_secret={}&ll={},{}&v={}&query={}&radius={}&limit={}'.format(CLIENT_ID, CLIENT_SECRET, latitude, longitude, VERSION, search_query, radius, LIMIT)\n",
    "url"
   ]
  },
  {
   "cell_type": "code",
   "execution_count": 277,
   "metadata": {},
   "outputs": [
    {
     "data": {
      "text/plain": [
       "{'meta': {'code': 200, 'requestId': '5ea34343a2e538001b6c9ec3'},\n",
       " 'response': {'venues': [{'id': '4c0163083f0a9c741d4fa0ec',\n",
       "    'name': 'Subway',\n",
       "    'location': {'address': '127 Bremner Boulevard',\n",
       "     'crossStreet': 'at Lower Simcoe St',\n",
       "     'lat': 43.642485063503074,\n",
       "     'lng': -79.38317879081399,\n",
       "     'labeledLatLngs': [{'label': 'display',\n",
       "       'lat': 43.642485063503074,\n",
       "       'lng': -79.38317879081399}],\n",
       "     'distance': 86,\n",
       "     'postalCode': 'M5J 3A8',\n",
       "     'cc': 'CA',\n",
       "     'city': 'Toronto',\n",
       "     'state': 'ON',\n",
       "     'country': 'Canada',\n",
       "     'formattedAddress': ['127 Bremner Boulevard (at Lower Simcoe St)',\n",
       "      'Toronto ON M5J 3A8',\n",
       "      'Canada']},\n",
       "    'categories': [{'id': '4bf58dd8d48988d1c5941735',\n",
       "      'name': 'Sandwich Place',\n",
       "      'pluralName': 'Sandwich Places',\n",
       "      'shortName': 'Sandwiches',\n",
       "      'icon': {'prefix': 'https://ss3.4sqi.net/img/categories_v2/food/deli_',\n",
       "       'suffix': '.png'},\n",
       "      'primary': True}],\n",
       "    'referralId': 'v-1587758110',\n",
       "    'hasPerk': False}]}}"
      ]
     },
     "execution_count": 277,
     "metadata": {},
     "output_type": "execute_result"
    }
   ],
   "source": [
    "results = requests.get(url).json()\n",
    "results"
   ]
  },
  {
   "cell_type": "code",
   "execution_count": 278,
   "metadata": {},
   "outputs": [
    {
     "data": {
      "text/html": [
       "<div>\n",
       "<style scoped>\n",
       "    .dataframe tbody tr th:only-of-type {\n",
       "        vertical-align: middle;\n",
       "    }\n",
       "\n",
       "    .dataframe tbody tr th {\n",
       "        vertical-align: top;\n",
       "    }\n",
       "\n",
       "    .dataframe thead th {\n",
       "        text-align: right;\n",
       "    }\n",
       "</style>\n",
       "<table border=\"1\" class=\"dataframe\">\n",
       "  <thead>\n",
       "    <tr style=\"text-align: right;\">\n",
       "      <th></th>\n",
       "      <th>categories</th>\n",
       "      <th>hasPerk</th>\n",
       "      <th>id</th>\n",
       "      <th>location.address</th>\n",
       "      <th>location.cc</th>\n",
       "      <th>location.city</th>\n",
       "      <th>location.country</th>\n",
       "      <th>location.crossStreet</th>\n",
       "      <th>location.distance</th>\n",
       "      <th>location.formattedAddress</th>\n",
       "      <th>location.labeledLatLngs</th>\n",
       "      <th>location.lat</th>\n",
       "      <th>location.lng</th>\n",
       "      <th>location.postalCode</th>\n",
       "      <th>location.state</th>\n",
       "      <th>name</th>\n",
       "      <th>referralId</th>\n",
       "    </tr>\n",
       "  </thead>\n",
       "  <tbody>\n",
       "    <tr>\n",
       "      <th>0</th>\n",
       "      <td>[{'id': '4bf58dd8d48988d1c5941735', 'name': 'Sandwich Place', 'pluralName': 'Sandwich Places', 'shortName': 'Sandwiches', 'icon': {'prefix': 'https://ss3.4sqi.net/img/categories_v2/food/deli_', 'suffix': '.png'}, 'primary': True}]</td>\n",
       "      <td>False</td>\n",
       "      <td>4c0163083f0a9c741d4fa0ec</td>\n",
       "      <td>127 Bremner Boulevard</td>\n",
       "      <td>CA</td>\n",
       "      <td>Toronto</td>\n",
       "      <td>Canada</td>\n",
       "      <td>at Lower Simcoe St</td>\n",
       "      <td>86</td>\n",
       "      <td>[127 Bremner Boulevard (at Lower Simcoe St), Toronto ON M5J 3A8, Canada]</td>\n",
       "      <td>[{'label': 'display', 'lat': 43.642485063503074, 'lng': -79.38317879081399}]</td>\n",
       "      <td>43.642485</td>\n",
       "      <td>-79.383179</td>\n",
       "      <td>M5J 3A8</td>\n",
       "      <td>ON</td>\n",
       "      <td>Subway</td>\n",
       "      <td>v-1587758110</td>\n",
       "    </tr>\n",
       "  </tbody>\n",
       "</table>\n",
       "</div>"
      ],
      "text/plain": [
       "                                                                                                                                                                                                                               categories  \\\n",
       "0  [{'id': '4bf58dd8d48988d1c5941735', 'name': 'Sandwich Place', 'pluralName': 'Sandwich Places', 'shortName': 'Sandwiches', 'icon': {'prefix': 'https://ss3.4sqi.net/img/categories_v2/food/deli_', 'suffix': '.png'}, 'primary': True}]   \n",
       "\n",
       "   hasPerk                        id       location.address location.cc  \\\n",
       "0  False    4c0163083f0a9c741d4fa0ec  127 Bremner Boulevard  CA           \n",
       "\n",
       "  location.city location.country location.crossStreet  location.distance  \\\n",
       "0  Toronto       Canada           at Lower Simcoe St   86                  \n",
       "\n",
       "                                                  location.formattedAddress  \\\n",
       "0  [127 Bremner Boulevard (at Lower Simcoe St), Toronto ON M5J 3A8, Canada]   \n",
       "\n",
       "                                                        location.labeledLatLngs  \\\n",
       "0  [{'label': 'display', 'lat': 43.642485063503074, 'lng': -79.38317879081399}]   \n",
       "\n",
       "   location.lat  location.lng location.postalCode location.state    name  \\\n",
       "0  43.642485    -79.383179     M5J 3A8             ON             Subway   \n",
       "\n",
       "     referralId  \n",
       "0  v-1587758110  "
      ]
     },
     "execution_count": 278,
     "metadata": {},
     "output_type": "execute_result"
    }
   ],
   "source": [
    "venues = results['response']['venues']\n",
    "\n",
    "dataframe = json_normalize(venues)\n",
    "dataframe.head()"
   ]
  },
  {
   "cell_type": "code",
   "execution_count": 279,
   "metadata": {},
   "outputs": [
    {
     "data": {
      "text/html": [
       "<div>\n",
       "<style scoped>\n",
       "    .dataframe tbody tr th:only-of-type {\n",
       "        vertical-align: middle;\n",
       "    }\n",
       "\n",
       "    .dataframe tbody tr th {\n",
       "        vertical-align: top;\n",
       "    }\n",
       "\n",
       "    .dataframe thead th {\n",
       "        text-align: right;\n",
       "    }\n",
       "</style>\n",
       "<table border=\"1\" class=\"dataframe\">\n",
       "  <thead>\n",
       "    <tr style=\"text-align: right;\">\n",
       "      <th></th>\n",
       "      <th>name</th>\n",
       "      <th>categories</th>\n",
       "      <th>address</th>\n",
       "      <th>cc</th>\n",
       "      <th>city</th>\n",
       "      <th>country</th>\n",
       "      <th>crossStreet</th>\n",
       "      <th>distance</th>\n",
       "      <th>formattedAddress</th>\n",
       "      <th>labeledLatLngs</th>\n",
       "      <th>lat</th>\n",
       "      <th>lng</th>\n",
       "      <th>postalCode</th>\n",
       "      <th>state</th>\n",
       "      <th>id</th>\n",
       "    </tr>\n",
       "  </thead>\n",
       "  <tbody>\n",
       "    <tr>\n",
       "      <th>0</th>\n",
       "      <td>Subway</td>\n",
       "      <td>Sandwich Place</td>\n",
       "      <td>127 Bremner Boulevard</td>\n",
       "      <td>CA</td>\n",
       "      <td>Toronto</td>\n",
       "      <td>Canada</td>\n",
       "      <td>at Lower Simcoe St</td>\n",
       "      <td>86</td>\n",
       "      <td>[127 Bremner Boulevard (at Lower Simcoe St), Toronto ON M5J 3A8, Canada]</td>\n",
       "      <td>[{'label': 'display', 'lat': 43.642485063503074, 'lng': -79.38317879081399}]</td>\n",
       "      <td>43.642485</td>\n",
       "      <td>-79.383179</td>\n",
       "      <td>M5J 3A8</td>\n",
       "      <td>ON</td>\n",
       "      <td>4c0163083f0a9c741d4fa0ec</td>\n",
       "    </tr>\n",
       "  </tbody>\n",
       "</table>\n",
       "</div>"
      ],
      "text/plain": [
       "     name      categories                address  cc     city country  \\\n",
       "0  Subway  Sandwich Place  127 Bremner Boulevard  CA  Toronto  Canada   \n",
       "\n",
       "          crossStreet  distance  \\\n",
       "0  at Lower Simcoe St  86         \n",
       "\n",
       "                                                           formattedAddress  \\\n",
       "0  [127 Bremner Boulevard (at Lower Simcoe St), Toronto ON M5J 3A8, Canada]   \n",
       "\n",
       "                                                                 labeledLatLngs  \\\n",
       "0  [{'label': 'display', 'lat': 43.642485063503074, 'lng': -79.38317879081399}]   \n",
       "\n",
       "         lat        lng postalCode state                        id  \n",
       "0  43.642485 -79.383179  M5J 3A8    ON    4c0163083f0a9c741d4fa0ec  "
      ]
     },
     "execution_count": 279,
     "metadata": {},
     "output_type": "execute_result"
    }
   ],
   "source": [
    "filtered_columns = ['name', 'categories'] + [col for col in dataframe.columns if col.startswith('location.')] + ['id']\n",
    "dataframe_filtered = dataframe.loc[:, filtered_columns]\n",
    "\n",
    "\n",
    "def get_category_type(row):\n",
    "    try:\n",
    "        categories_list = row['categories']\n",
    "    except:\n",
    "        categories_list = row['venue.categories']\n",
    "        \n",
    "    if len(categories_list) == 0:\n",
    "        return None\n",
    "    else:\n",
    "        return categories_list[0]['name']\n",
    "\n",
    "\n",
    "dataframe_filtered['categories'] = dataframe_filtered.apply(get_category_type, axis=1)\n",
    "\n",
    "\n",
    "dataframe_filtered.columns = [column.split('.')[-1] for column in dataframe_filtered.columns]\n",
    "\n",
    "dataframe_filtered"
   ]
  },
  {
   "cell_type": "code",
   "execution_count": 280,
   "metadata": {},
   "outputs": [
    {
     "data": {
      "text/plain": [
       "0    Subway\n",
       "Name: name, dtype: object"
      ]
     },
     "execution_count": 280,
     "metadata": {},
     "output_type": "execute_result"
    }
   ],
   "source": [
    "dataframe_filtered.name"
   ]
  },
  {
   "cell_type": "code",
   "execution_count": 281,
   "metadata": {},
   "outputs": [
    {
     "data": {
      "text/html": [
       "<div style=\"width:100%;\"><div style=\"position:relative;width:100%;height:0;padding-bottom:60%;\"><iframe src=\"about:blank\" style=\"position:absolute;width:100%;height:100%;left:0;top:0;border:none !important;\" data-html=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 onload=\"this.contentDocument.open();this.contentDocument.write(atob(this.getAttribute('data-html')));this.contentDocument.close();\" allowfullscreen webkitallowfullscreen mozallowfullscreen></iframe></div></div>"
      ],
      "text/plain": [
       "<folium.folium.Map at 0x2317d8b4048>"
      ]
     },
     "execution_count": 281,
     "metadata": {},
     "output_type": "execute_result"
    }
   ],
   "source": [
    "venues_map = folium.Map(location=[latitude, longitude], zoom_start=13) \n",
    "\n",
    "# add a red circle marker to represent the Conrad Hotel\n",
    "folium.features.CircleMarker(\n",
    "    [latitude, longitude],\n",
    "    radius=10,\n",
    "    color='red',\n",
    "    popup='Hotel',\n",
    "    fill = True,\n",
    "    fill_color = 'red',\n",
    "    fill_opacity = 0.6\n",
    ").add_to(venues_map)\n",
    "\n",
    "# add the Italian restaurants as blue circle markers\n",
    "for lat, lng, label in zip(dataframe_filtered.lat, dataframe_filtered.lng, dataframe_filtered.categories):\n",
    "    folium.features.CircleMarker(\n",
    "        [lat, lng],\n",
    "        radius=5,\n",
    "        color='blue',\n",
    "        popup=label,\n",
    "        fill = True,\n",
    "        fill_color='blue',\n",
    "        fill_opacity=0.6\n",
    "    ).add_to(venues_map)\n",
    "\n",
    "venues_map"
   ]
  },
  {
   "cell_type": "code",
   "execution_count": 282,
   "metadata": {},
   "outputs": [
    {
     "data": {
      "text/plain": [
       "'https://api.foursquare.com/v2/venues/4dad8ab9043718a63e33e294?client_id=FXWG412PGZMV0OTDDNYEC2XP2TGWP1ZTH5JD1RCML2OL5CLK&client_secret=RCZUNJDEY0MD0TH0KA5E3EDRLAF1T35JO5GSZNXQKZ0JX4PE&v=20180605'"
      ]
     },
     "execution_count": 282,
     "metadata": {},
     "output_type": "execute_result"
    }
   ],
   "source": [
    "venue_id = '4dad8ab9043718a63e33e294' \n",
    "url = 'https://api.foursquare.com/v2/venues/{}?client_id={}&client_secret={}&v={}'.format(venue_id, CLIENT_ID, CLIENT_SECRET, VERSION)\n",
    "url"
   ]
  },
  {
   "cell_type": "code",
   "execution_count": 283,
   "metadata": {},
   "outputs": [
    {
     "name": "stdout",
     "output_type": "stream",
     "text": [
      "dict_keys(['id', 'name', 'contact', 'location', 'canonicalUrl', 'categories', 'verified', 'stats', 'price', 'likes', 'dislike', 'ok', 'allowMenuUrlEdit', 'beenHere', 'specials', 'photos', 'reasons', 'hereNow', 'createdAt', 'tips', 'shortUrl', 'timeZone', 'listed', 'seasonalHours', 'pageUpdates', 'inbox', 'attributes', 'bestPhoto', 'colors'])\n"
     ]
    },
    {
     "data": {
      "text/plain": [
       "{'id': '4dad8ab9043718a63e33e294',\n",
       " 'name': 'Coffee Time',\n",
       " 'contact': {},\n",
       " 'location': {'address': '2195 Midland Ave',\n",
       "  'crossStreet': 'at Progress Ave',\n",
       "  'lat': 43.773307723529335,\n",
       "  'lng': -79.27289954044328,\n",
       "  'labeledLatLngs': [{'label': 'display',\n",
       "    'lat': 43.773307723529335,\n",
       "    'lng': -79.27289954044328}],\n",
       "  'cc': 'CA',\n",
       "  'city': 'Toronto',\n",
       "  'state': 'ON',\n",
       "  'country': 'Canada',\n",
       "  'formattedAddress': ['2195 Midland Ave (at Progress Ave)',\n",
       "   'Toronto ON',\n",
       "   'Canada']},\n",
       " 'canonicalUrl': 'https://foursquare.com/v/coffee-time/4dad8ab9043718a63e33e294',\n",
       " 'categories': [{'id': '4bf58dd8d48988d1e0931735',\n",
       "   'name': 'Coffee Shop',\n",
       "   'pluralName': 'Coffee Shops',\n",
       "   'shortName': 'Coffee Shop',\n",
       "   'icon': {'prefix': 'https://ss3.4sqi.net/img/categories_v2/food/coffeeshop_',\n",
       "    'suffix': '.png'},\n",
       "   'primary': True}],\n",
       " 'verified': False,\n",
       " 'stats': {'tipCount': 1},\n",
       " 'price': {'tier': 1, 'message': 'Cheap', 'currency': '$'},\n",
       " 'likes': {'count': 3,\n",
       "  'groups': [{'type': 'others',\n",
       "    'count': 3,\n",
       "    'items': [{'id': '409557238',\n",
       "      'firstName': 'Dagmar',\n",
       "      'lastName': 'S',\n",
       "      'photo': {'prefix': 'https://fastly.4sqi.net/img/user/',\n",
       "       'suffix': '/409557238_PHMyqMX1_9FXja1H1QWXnf6LDL5GXCHqEWRU_gB3soBImoYGImVXIAoc90bgmHzSLlDTSrMiK.jpg'}},\n",
       "     {'id': '6773183',\n",
       "      'firstName': 'Thilaknath',\n",
       "      'lastName': 'A',\n",
       "      'photo': {'prefix': 'https://fastly.4sqi.net/img/user/',\n",
       "       'suffix': '/6773183-EIDZMIR3U2MCASZF.jpg'}},\n",
       "     {'id': '4935263',\n",
       "      'firstName': 'Benjamin',\n",
       "      'photo': {'prefix': 'https://fastly.4sqi.net/img/user/',\n",
       "       'suffix': '/UFUGTN4QHKJUNKUK.jpg'}}]}],\n",
       "  'summary': '3 Likes'},\n",
       " 'dislike': False,\n",
       " 'ok': False,\n",
       " 'allowMenuUrlEdit': True,\n",
       " 'beenHere': {'count': 0,\n",
       "  'unconfirmedCount': 0,\n",
       "  'marked': False,\n",
       "  'lastCheckinExpiredAt': 0},\n",
       " 'specials': {'count': 0, 'items': []},\n",
       " 'photos': {'count': 2,\n",
       "  'groups': [{'type': 'venue',\n",
       "    'name': 'Venue photos',\n",
       "    'count': 2,\n",
       "    'items': [{'id': '56c0d423cd1019b9ce91c44f',\n",
       "      'createdAt': 1455477795,\n",
       "      'source': {'name': 'Swarm for Android',\n",
       "       'url': 'https://www.swarmapp.com'},\n",
       "      'prefix': 'https://fastly.4sqi.net/img/general/',\n",
       "      'suffix': '/149265055_IX7B24DDRtFJOpqXkTAJPUB9PCpb37D0hXwzMPdS_pY.jpg',\n",
       "      'width': 540,\n",
       "      'height': 960,\n",
       "      'user': {'id': '149265055',\n",
       "       'firstName': 'Andrew',\n",
       "       'lastName': 'B',\n",
       "       'photo': {'prefix': 'https://fastly.4sqi.net/img/user/',\n",
       "        'suffix': '/149265055-C54MX5YRC4BLBM0E.jpg'}},\n",
       "      'visibility': 'public'}]}]},\n",
       " 'reasons': {'count': 0, 'items': []},\n",
       " 'hereNow': {'count': 0, 'summary': 'Nobody here', 'groups': []},\n",
       " 'createdAt': 1303218873,\n",
       " 'tips': {'count': 1,\n",
       "  'groups': [{'type': 'others',\n",
       "    'name': 'All tips',\n",
       "    'count': 1,\n",
       "    'items': [{'id': '51f30b84498eaf5718b5e7e2',\n",
       "      'createdAt': 1374882692,\n",
       "      'text': 'Good food, good times',\n",
       "      'type': 'user',\n",
       "      'canonicalUrl': 'https://foursquare.com/item/51f30b84498eaf5718b5e7e2',\n",
       "      'lang': 'en',\n",
       "      'likes': {'count': 1,\n",
       "       'groups': [{'type': 'others',\n",
       "         'count': 1,\n",
       "         'items': [{'id': '4935263',\n",
       "           'firstName': 'Benjamin',\n",
       "           'photo': {'prefix': 'https://fastly.4sqi.net/img/user/',\n",
       "            'suffix': '/UFUGTN4QHKJUNKUK.jpg'}}]}],\n",
       "       'summary': '1 like'},\n",
       "      'logView': True,\n",
       "      'agreeCount': 1,\n",
       "      'disagreeCount': 0,\n",
       "      'todo': {'count': 0},\n",
       "      'user': {'id': '8131699',\n",
       "       'firstName': 'Kris',\n",
       "       'lastName': 'M',\n",
       "       'photo': {'prefix': 'https://fastly.4sqi.net/img/user/',\n",
       "        'suffix': '/4D5M0MQJ00KKOBPY.jpg'}}}]}]},\n",
       " 'shortUrl': 'http://4sq.com/eZMEEC',\n",
       " 'timeZone': 'America/Toronto',\n",
       " 'listed': {'count': 0,\n",
       "  'groups': [{'type': 'others',\n",
       "    'name': 'Lists from other people',\n",
       "    'count': 0,\n",
       "    'items': []}]},\n",
       " 'seasonalHours': [],\n",
       " 'pageUpdates': {'count': 0, 'items': []},\n",
       " 'inbox': {'count': 0, 'items': []},\n",
       " 'attributes': {'groups': [{'type': 'price',\n",
       "    'name': 'Price',\n",
       "    'summary': '$',\n",
       "    'count': 1,\n",
       "    'items': [{'displayName': 'Price', 'displayValue': '$', 'priceTier': 1}]},\n",
       "   {'type': 'payments',\n",
       "    'name': 'Credit Cards',\n",
       "    'summary': 'Credit Cards',\n",
       "    'count': 5,\n",
       "    'items': [{'displayName': 'Credit Cards', 'displayValue': 'Yes'}]},\n",
       "   {'type': 'outdoorSeating',\n",
       "    'name': 'Outdoor Seating',\n",
       "    'summary': 'Outdoor Seating',\n",
       "    'count': 1,\n",
       "    'items': [{'displayName': 'Outdoor Seating', 'displayValue': 'Yes'}]},\n",
       "   {'type': 'wifi',\n",
       "    'name': 'Wi-Fi',\n",
       "    'summary': 'Wi-Fi',\n",
       "    'count': 1,\n",
       "    'items': [{'displayName': 'Wi-Fi', 'displayValue': 'Yes'}]}]},\n",
       " 'bestPhoto': {'id': '56c0d423cd1019b9ce91c44f',\n",
       "  'createdAt': 1455477795,\n",
       "  'source': {'name': 'Swarm for Android', 'url': 'https://www.swarmapp.com'},\n",
       "  'prefix': 'https://fastly.4sqi.net/img/general/',\n",
       "  'suffix': '/149265055_IX7B24DDRtFJOpqXkTAJPUB9PCpb37D0hXwzMPdS_pY.jpg',\n",
       "  'width': 540,\n",
       "  'height': 960,\n",
       "  'visibility': 'public'},\n",
       " 'colors': {'highlightColor': {'photoId': '56c0d423cd1019b9ce91c44f',\n",
       "   'value': -9404280},\n",
       "  'highlightTextColor': {'photoId': '56c0d423cd1019b9ce91c44f',\n",
       "   'value': -16777216},\n",
       "  'algoVersion': 3}}"
      ]
     },
     "execution_count": 283,
     "metadata": {},
     "output_type": "execute_result"
    }
   ],
   "source": [
    "result = requests.get(url).json()\n",
    "print(result['response']['venue'].keys())\n",
    "result['response']['venue']"
   ]
  },
  {
   "cell_type": "code",
   "execution_count": 284,
   "metadata": {},
   "outputs": [
    {
     "name": "stdout",
     "output_type": "stream",
     "text": [
      "This venue has not been rated yet.\n"
     ]
    }
   ],
   "source": [
    "try:\n",
    "    print(result['response']['venue']['rating'])\n",
    "except:\n",
    "    print('This venue has not been rated yet.')"
   ]
  },
  {
   "cell_type": "markdown",
   "metadata": {},
   "source": [
    "## Bar and Dineer Point"
   ]
  },
  {
   "cell_type": "code",
   "execution_count": 291,
   "metadata": {},
   "outputs": [
    {
     "name": "stdout",
     "output_type": "stream",
     "text": [
      "bar .... OK!\n"
     ]
    }
   ],
   "source": [
    "search_query = 'bar'\n",
    "radius = 50\n",
    "print(search_query + ' .... OK!')"
   ]
  },
  {
   "cell_type": "code",
   "execution_count": 292,
   "metadata": {},
   "outputs": [
    {
     "data": {
      "text/plain": [
       "'https://api.foursquare.com/v2/venues/search?client_id=FXWG412PGZMV0OTDDNYEC2XP2TGWP1ZTH5JD1RCML2OL5CLK&client_secret=RCZUNJDEY0MD0TH0KA5E3EDRLAF1T35JO5GSZNXQKZ0JX4PE&ll=43.643082,-79.38387181137503&v=20180605&query=bar&radius=50&limit=100'"
      ]
     },
     "execution_count": 292,
     "metadata": {},
     "output_type": "execute_result"
    }
   ],
   "source": [
    "url = 'https://api.foursquare.com/v2/venues/search?client_id={}&client_secret={}&ll={},{}&v={}&query={}&radius={}&limit={}'.format(CLIENT_ID, CLIENT_SECRET, latitude, longitude, VERSION, search_query, radius, LIMIT)\n",
    "url"
   ]
  },
  {
   "cell_type": "code",
   "execution_count": 293,
   "metadata": {},
   "outputs": [
    {
     "data": {
      "text/plain": [
       "{'meta': {'code': 200, 'requestId': '5ea34554b57e88001bacdfca'},\n",
       " 'response': {'venues': [{'id': '545bef71498eddc2599b086a',\n",
       "    'name': 'SOCO Kitchen+Bar',\n",
       "    'location': {'address': '75 Lower Simcoe Street',\n",
       "     'crossStreet': 'Bremner',\n",
       "     'lat': 43.64303873929366,\n",
       "     'lng': -79.38380850724118,\n",
       "     'labeledLatLngs': [{'label': 'display',\n",
       "       'lat': 43.64303873929366,\n",
       "       'lng': -79.38380850724118}],\n",
       "     'distance': 7,\n",
       "     'postalCode': 'M5J 3A6',\n",
       "     'cc': 'CA',\n",
       "     'city': 'Toronto',\n",
       "     'state': 'ON',\n",
       "     'country': 'Canada',\n",
       "     'formattedAddress': ['75 Lower Simcoe Street (Bremner)',\n",
       "      'Toronto ON M5J 3A6',\n",
       "      'Canada']},\n",
       "    'categories': [{'id': '52e81612bcbc57f1066b79f1',\n",
       "      'name': 'Bistro',\n",
       "      'pluralName': 'Bistros',\n",
       "      'shortName': 'Bistro',\n",
       "      'icon': {'prefix': 'https://ss3.4sqi.net/img/categories_v2/food/default_',\n",
       "       'suffix': '.png'},\n",
       "      'primary': True}],\n",
       "    'referralId': 'v-1587758341',\n",
       "    'hasPerk': False}]}}"
      ]
     },
     "execution_count": 293,
     "metadata": {},
     "output_type": "execute_result"
    }
   ],
   "source": [
    "results = requests.get(url).json()\n",
    "results"
   ]
  },
  {
   "cell_type": "code",
   "execution_count": 294,
   "metadata": {},
   "outputs": [
    {
     "data": {
      "text/html": [
       "<div>\n",
       "<style scoped>\n",
       "    .dataframe tbody tr th:only-of-type {\n",
       "        vertical-align: middle;\n",
       "    }\n",
       "\n",
       "    .dataframe tbody tr th {\n",
       "        vertical-align: top;\n",
       "    }\n",
       "\n",
       "    .dataframe thead th {\n",
       "        text-align: right;\n",
       "    }\n",
       "</style>\n",
       "<table border=\"1\" class=\"dataframe\">\n",
       "  <thead>\n",
       "    <tr style=\"text-align: right;\">\n",
       "      <th></th>\n",
       "      <th>categories</th>\n",
       "      <th>hasPerk</th>\n",
       "      <th>id</th>\n",
       "      <th>location.address</th>\n",
       "      <th>location.cc</th>\n",
       "      <th>location.city</th>\n",
       "      <th>location.country</th>\n",
       "      <th>location.crossStreet</th>\n",
       "      <th>location.distance</th>\n",
       "      <th>location.formattedAddress</th>\n",
       "      <th>location.labeledLatLngs</th>\n",
       "      <th>location.lat</th>\n",
       "      <th>location.lng</th>\n",
       "      <th>location.postalCode</th>\n",
       "      <th>location.state</th>\n",
       "      <th>name</th>\n",
       "      <th>referralId</th>\n",
       "    </tr>\n",
       "  </thead>\n",
       "  <tbody>\n",
       "    <tr>\n",
       "      <th>0</th>\n",
       "      <td>[{'id': '52e81612bcbc57f1066b79f1', 'name': 'Bistro', 'pluralName': 'Bistros', 'shortName': 'Bistro', 'icon': {'prefix': 'https://ss3.4sqi.net/img/categories_v2/food/default_', 'suffix': '.png'}, 'primary': True}]</td>\n",
       "      <td>False</td>\n",
       "      <td>545bef71498eddc2599b086a</td>\n",
       "      <td>75 Lower Simcoe Street</td>\n",
       "      <td>CA</td>\n",
       "      <td>Toronto</td>\n",
       "      <td>Canada</td>\n",
       "      <td>Bremner</td>\n",
       "      <td>7</td>\n",
       "      <td>[75 Lower Simcoe Street (Bremner), Toronto ON M5J 3A6, Canada]</td>\n",
       "      <td>[{'label': 'display', 'lat': 43.64303873929366, 'lng': -79.38380850724118}]</td>\n",
       "      <td>43.643039</td>\n",
       "      <td>-79.383809</td>\n",
       "      <td>M5J 3A6</td>\n",
       "      <td>ON</td>\n",
       "      <td>SOCO Kitchen+Bar</td>\n",
       "      <td>v-1587758341</td>\n",
       "    </tr>\n",
       "  </tbody>\n",
       "</table>\n",
       "</div>"
      ],
      "text/plain": [
       "                                                                                                                                                                                                              categories  \\\n",
       "0  [{'id': '52e81612bcbc57f1066b79f1', 'name': 'Bistro', 'pluralName': 'Bistros', 'shortName': 'Bistro', 'icon': {'prefix': 'https://ss3.4sqi.net/img/categories_v2/food/default_', 'suffix': '.png'}, 'primary': True}]   \n",
       "\n",
       "   hasPerk                        id        location.address location.cc  \\\n",
       "0  False    545bef71498eddc2599b086a  75 Lower Simcoe Street  CA           \n",
       "\n",
       "  location.city location.country location.crossStreet  location.distance  \\\n",
       "0  Toronto       Canada           Bremner              7                   \n",
       "\n",
       "                                        location.formattedAddress  \\\n",
       "0  [75 Lower Simcoe Street (Bremner), Toronto ON M5J 3A6, Canada]   \n",
       "\n",
       "                                                       location.labeledLatLngs  \\\n",
       "0  [{'label': 'display', 'lat': 43.64303873929366, 'lng': -79.38380850724118}]   \n",
       "\n",
       "   location.lat  location.lng location.postalCode location.state  \\\n",
       "0  43.643039    -79.383809     M5J 3A6             ON              \n",
       "\n",
       "               name    referralId  \n",
       "0  SOCO Kitchen+Bar  v-1587758341  "
      ]
     },
     "execution_count": 294,
     "metadata": {},
     "output_type": "execute_result"
    }
   ],
   "source": [
    "venues = results['response']['venues']\n",
    "\n",
    "dataframe = json_normalize(venues)\n",
    "dataframe.head()"
   ]
  },
  {
   "cell_type": "code",
   "execution_count": 295,
   "metadata": {},
   "outputs": [
    {
     "data": {
      "text/html": [
       "<div>\n",
       "<style scoped>\n",
       "    .dataframe tbody tr th:only-of-type {\n",
       "        vertical-align: middle;\n",
       "    }\n",
       "\n",
       "    .dataframe tbody tr th {\n",
       "        vertical-align: top;\n",
       "    }\n",
       "\n",
       "    .dataframe thead th {\n",
       "        text-align: right;\n",
       "    }\n",
       "</style>\n",
       "<table border=\"1\" class=\"dataframe\">\n",
       "  <thead>\n",
       "    <tr style=\"text-align: right;\">\n",
       "      <th></th>\n",
       "      <th>name</th>\n",
       "      <th>categories</th>\n",
       "      <th>address</th>\n",
       "      <th>cc</th>\n",
       "      <th>city</th>\n",
       "      <th>country</th>\n",
       "      <th>crossStreet</th>\n",
       "      <th>distance</th>\n",
       "      <th>formattedAddress</th>\n",
       "      <th>labeledLatLngs</th>\n",
       "      <th>lat</th>\n",
       "      <th>lng</th>\n",
       "      <th>postalCode</th>\n",
       "      <th>state</th>\n",
       "      <th>id</th>\n",
       "    </tr>\n",
       "  </thead>\n",
       "  <tbody>\n",
       "    <tr>\n",
       "      <th>0</th>\n",
       "      <td>SOCO Kitchen+Bar</td>\n",
       "      <td>Bistro</td>\n",
       "      <td>75 Lower Simcoe Street</td>\n",
       "      <td>CA</td>\n",
       "      <td>Toronto</td>\n",
       "      <td>Canada</td>\n",
       "      <td>Bremner</td>\n",
       "      <td>7</td>\n",
       "      <td>[75 Lower Simcoe Street (Bremner), Toronto ON M5J 3A6, Canada]</td>\n",
       "      <td>[{'label': 'display', 'lat': 43.64303873929366, 'lng': -79.38380850724118}]</td>\n",
       "      <td>43.643039</td>\n",
       "      <td>-79.383809</td>\n",
       "      <td>M5J 3A6</td>\n",
       "      <td>ON</td>\n",
       "      <td>545bef71498eddc2599b086a</td>\n",
       "    </tr>\n",
       "  </tbody>\n",
       "</table>\n",
       "</div>"
      ],
      "text/plain": [
       "               name categories                 address  cc     city country  \\\n",
       "0  SOCO Kitchen+Bar  Bistro     75 Lower Simcoe Street  CA  Toronto  Canada   \n",
       "\n",
       "  crossStreet  distance  \\\n",
       "0  Bremner     7          \n",
       "\n",
       "                                                 formattedAddress  \\\n",
       "0  [75 Lower Simcoe Street (Bremner), Toronto ON M5J 3A6, Canada]   \n",
       "\n",
       "                                                                labeledLatLngs  \\\n",
       "0  [{'label': 'display', 'lat': 43.64303873929366, 'lng': -79.38380850724118}]   \n",
       "\n",
       "         lat        lng postalCode state                        id  \n",
       "0  43.643039 -79.383809  M5J 3A6    ON    545bef71498eddc2599b086a  "
      ]
     },
     "execution_count": 295,
     "metadata": {},
     "output_type": "execute_result"
    }
   ],
   "source": [
    "filtered_columns = ['name', 'categories'] + [col for col in dataframe.columns if col.startswith('location.')] + ['id']\n",
    "dataframe_filtered = dataframe.loc[:, filtered_columns]\n",
    "\n",
    "\n",
    "def get_category_type(row):\n",
    "    try:\n",
    "        categories_list = row['categories']\n",
    "    except:\n",
    "        categories_list = row['venue.categories']\n",
    "        \n",
    "    if len(categories_list) == 0:\n",
    "        return None\n",
    "    else:\n",
    "        return categories_list[0]['name']\n",
    "\n",
    "\n",
    "dataframe_filtered['categories'] = dataframe_filtered.apply(get_category_type, axis=1)\n",
    "\n",
    "\n",
    "dataframe_filtered.columns = [column.split('.')[-1] for column in dataframe_filtered.columns]\n",
    "\n",
    "dataframe_filtered"
   ]
  },
  {
   "cell_type": "code",
   "execution_count": 296,
   "metadata": {},
   "outputs": [
    {
     "data": {
      "text/plain": [
       "0    SOCO Kitchen+Bar\n",
       "Name: name, dtype: object"
      ]
     },
     "execution_count": 296,
     "metadata": {},
     "output_type": "execute_result"
    }
   ],
   "source": [
    "dataframe_filtered.name"
   ]
  },
  {
   "cell_type": "code",
   "execution_count": 297,
   "metadata": {},
   "outputs": [
    {
     "data": {
      "text/html": [
       "<div style=\"width:100%;\"><div style=\"position:relative;width:100%;height:0;padding-bottom:60%;\"><iframe src=\"about:blank\" style=\"position:absolute;width:100%;height:100%;left:0;top:0;border:none !important;\" data-html=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 onload=\"this.contentDocument.open();this.contentDocument.write(atob(this.getAttribute('data-html')));this.contentDocument.close();\" allowfullscreen webkitallowfullscreen mozallowfullscreen></iframe></div></div>"
      ],
      "text/plain": [
       "<folium.folium.Map at 0x2317d981390>"
      ]
     },
     "execution_count": 297,
     "metadata": {},
     "output_type": "execute_result"
    }
   ],
   "source": [
    "venues_map = folium.Map(location=[latitude, longitude], zoom_start=13) \n",
    "\n",
    "# add a red circle marker to represent the Conrad Hotel\n",
    "folium.features.CircleMarker(\n",
    "    [latitude, longitude],\n",
    "    radius=10,\n",
    "    color='red',\n",
    "    popup='Hotel',\n",
    "    fill = True,\n",
    "    fill_color = 'red',\n",
    "    fill_opacity = 0.6\n",
    ").add_to(venues_map)\n",
    "\n",
    "# add the Italian restaurants as blue circle markers\n",
    "for lat, lng, label in zip(dataframe_filtered.lat, dataframe_filtered.lng, dataframe_filtered.categories):\n",
    "    folium.features.CircleMarker(\n",
    "        [lat, lng],\n",
    "        radius=5,\n",
    "        color='blue',\n",
    "        popup=label,\n",
    "        fill = True,\n",
    "        fill_color='blue',\n",
    "        fill_opacity=0.6\n",
    "    ).add_to(venues_map)\n",
    "\n",
    "venues_map"
   ]
  },
  {
   "cell_type": "code",
   "execution_count": 298,
   "metadata": {},
   "outputs": [
    {
     "data": {
      "text/plain": [
       "'https://api.foursquare.com/v2/venues/4dad8ab9043718a63e33e294?client_id=FXWG412PGZMV0OTDDNYEC2XP2TGWP1ZTH5JD1RCML2OL5CLK&client_secret=RCZUNJDEY0MD0TH0KA5E3EDRLAF1T35JO5GSZNXQKZ0JX4PE&v=20180605'"
      ]
     },
     "execution_count": 298,
     "metadata": {},
     "output_type": "execute_result"
    }
   ],
   "source": [
    "venue_id = '4dad8ab9043718a63e33e294' \n",
    "url = 'https://api.foursquare.com/v2/venues/{}?client_id={}&client_secret={}&v={}'.format(venue_id, CLIENT_ID, CLIENT_SECRET, VERSION)\n",
    "url"
   ]
  },
  {
   "cell_type": "code",
   "execution_count": 299,
   "metadata": {},
   "outputs": [
    {
     "name": "stdout",
     "output_type": "stream",
     "text": [
      "dict_keys(['id', 'name', 'contact', 'location', 'canonicalUrl', 'categories', 'verified', 'stats', 'price', 'likes', 'dislike', 'ok', 'allowMenuUrlEdit', 'beenHere', 'specials', 'photos', 'reasons', 'hereNow', 'createdAt', 'tips', 'shortUrl', 'timeZone', 'listed', 'seasonalHours', 'pageUpdates', 'inbox', 'attributes', 'bestPhoto', 'colors'])\n"
     ]
    },
    {
     "data": {
      "text/plain": [
       "{'id': '4dad8ab9043718a63e33e294',\n",
       " 'name': 'Coffee Time',\n",
       " 'contact': {},\n",
       " 'location': {'address': '2195 Midland Ave',\n",
       "  'crossStreet': 'at Progress Ave',\n",
       "  'lat': 43.773307723529335,\n",
       "  'lng': -79.27289954044328,\n",
       "  'labeledLatLngs': [{'label': 'display',\n",
       "    'lat': 43.773307723529335,\n",
       "    'lng': -79.27289954044328}],\n",
       "  'cc': 'CA',\n",
       "  'city': 'Toronto',\n",
       "  'state': 'ON',\n",
       "  'country': 'Canada',\n",
       "  'formattedAddress': ['2195 Midland Ave (at Progress Ave)',\n",
       "   'Toronto ON',\n",
       "   'Canada']},\n",
       " 'canonicalUrl': 'https://foursquare.com/v/coffee-time/4dad8ab9043718a63e33e294',\n",
       " 'categories': [{'id': '4bf58dd8d48988d1e0931735',\n",
       "   'name': 'Coffee Shop',\n",
       "   'pluralName': 'Coffee Shops',\n",
       "   'shortName': 'Coffee Shop',\n",
       "   'icon': {'prefix': 'https://ss3.4sqi.net/img/categories_v2/food/coffeeshop_',\n",
       "    'suffix': '.png'},\n",
       "   'primary': True}],\n",
       " 'verified': False,\n",
       " 'stats': {'tipCount': 1},\n",
       " 'price': {'tier': 1, 'message': 'Cheap', 'currency': '$'},\n",
       " 'likes': {'count': 3,\n",
       "  'groups': [{'type': 'others',\n",
       "    'count': 3,\n",
       "    'items': [{'id': '409557238',\n",
       "      'firstName': 'Dagmar',\n",
       "      'lastName': 'S',\n",
       "      'photo': {'prefix': 'https://fastly.4sqi.net/img/user/',\n",
       "       'suffix': '/409557238_PHMyqMX1_9FXja1H1QWXnf6LDL5GXCHqEWRU_gB3soBImoYGImVXIAoc90bgmHzSLlDTSrMiK.jpg'}},\n",
       "     {'id': '6773183',\n",
       "      'firstName': 'Thilaknath',\n",
       "      'lastName': 'A',\n",
       "      'photo': {'prefix': 'https://fastly.4sqi.net/img/user/',\n",
       "       'suffix': '/6773183-EIDZMIR3U2MCASZF.jpg'}},\n",
       "     {'id': '4935263',\n",
       "      'firstName': 'Benjamin',\n",
       "      'photo': {'prefix': 'https://fastly.4sqi.net/img/user/',\n",
       "       'suffix': '/UFUGTN4QHKJUNKUK.jpg'}}]}],\n",
       "  'summary': '3 Likes'},\n",
       " 'dislike': False,\n",
       " 'ok': False,\n",
       " 'allowMenuUrlEdit': True,\n",
       " 'beenHere': {'count': 0,\n",
       "  'unconfirmedCount': 0,\n",
       "  'marked': False,\n",
       "  'lastCheckinExpiredAt': 0},\n",
       " 'specials': {'count': 0, 'items': []},\n",
       " 'photos': {'count': 2,\n",
       "  'groups': [{'type': 'venue',\n",
       "    'name': 'Venue photos',\n",
       "    'count': 2,\n",
       "    'items': [{'id': '56c0d423cd1019b9ce91c44f',\n",
       "      'createdAt': 1455477795,\n",
       "      'source': {'name': 'Swarm for Android',\n",
       "       'url': 'https://www.swarmapp.com'},\n",
       "      'prefix': 'https://fastly.4sqi.net/img/general/',\n",
       "      'suffix': '/149265055_IX7B24DDRtFJOpqXkTAJPUB9PCpb37D0hXwzMPdS_pY.jpg',\n",
       "      'width': 540,\n",
       "      'height': 960,\n",
       "      'user': {'id': '149265055',\n",
       "       'firstName': 'Andrew',\n",
       "       'lastName': 'B',\n",
       "       'photo': {'prefix': 'https://fastly.4sqi.net/img/user/',\n",
       "        'suffix': '/149265055-C54MX5YRC4BLBM0E.jpg'}},\n",
       "      'visibility': 'public'}]}]},\n",
       " 'reasons': {'count': 0, 'items': []},\n",
       " 'hereNow': {'count': 0, 'summary': 'Nobody here', 'groups': []},\n",
       " 'createdAt': 1303218873,\n",
       " 'tips': {'count': 1,\n",
       "  'groups': [{'type': 'others',\n",
       "    'name': 'All tips',\n",
       "    'count': 1,\n",
       "    'items': [{'id': '51f30b84498eaf5718b5e7e2',\n",
       "      'createdAt': 1374882692,\n",
       "      'text': 'Good food, good times',\n",
       "      'type': 'user',\n",
       "      'canonicalUrl': 'https://foursquare.com/item/51f30b84498eaf5718b5e7e2',\n",
       "      'lang': 'en',\n",
       "      'likes': {'count': 1,\n",
       "       'groups': [{'type': 'others',\n",
       "         'count': 1,\n",
       "         'items': [{'id': '4935263',\n",
       "           'firstName': 'Benjamin',\n",
       "           'photo': {'prefix': 'https://fastly.4sqi.net/img/user/',\n",
       "            'suffix': '/UFUGTN4QHKJUNKUK.jpg'}}]}],\n",
       "       'summary': '1 like'},\n",
       "      'logView': True,\n",
       "      'agreeCount': 1,\n",
       "      'disagreeCount': 0,\n",
       "      'todo': {'count': 0},\n",
       "      'user': {'id': '8131699',\n",
       "       'firstName': 'Kris',\n",
       "       'lastName': 'M',\n",
       "       'photo': {'prefix': 'https://fastly.4sqi.net/img/user/',\n",
       "        'suffix': '/4D5M0MQJ00KKOBPY.jpg'}}}]}]},\n",
       " 'shortUrl': 'http://4sq.com/eZMEEC',\n",
       " 'timeZone': 'America/Toronto',\n",
       " 'listed': {'count': 0,\n",
       "  'groups': [{'type': 'others',\n",
       "    'name': 'Lists from other people',\n",
       "    'count': 0,\n",
       "    'items': []}]},\n",
       " 'seasonalHours': [],\n",
       " 'pageUpdates': {'count': 0, 'items': []},\n",
       " 'inbox': {'count': 0, 'items': []},\n",
       " 'attributes': {'groups': [{'type': 'price',\n",
       "    'name': 'Price',\n",
       "    'summary': '$',\n",
       "    'count': 1,\n",
       "    'items': [{'displayName': 'Price', 'displayValue': '$', 'priceTier': 1}]},\n",
       "   {'type': 'payments',\n",
       "    'name': 'Credit Cards',\n",
       "    'summary': 'Credit Cards',\n",
       "    'count': 5,\n",
       "    'items': [{'displayName': 'Credit Cards', 'displayValue': 'Yes'}]},\n",
       "   {'type': 'outdoorSeating',\n",
       "    'name': 'Outdoor Seating',\n",
       "    'summary': 'Outdoor Seating',\n",
       "    'count': 1,\n",
       "    'items': [{'displayName': 'Outdoor Seating', 'displayValue': 'Yes'}]},\n",
       "   {'type': 'wifi',\n",
       "    'name': 'Wi-Fi',\n",
       "    'summary': 'Wi-Fi',\n",
       "    'count': 1,\n",
       "    'items': [{'displayName': 'Wi-Fi', 'displayValue': 'Yes'}]}]},\n",
       " 'bestPhoto': {'id': '56c0d423cd1019b9ce91c44f',\n",
       "  'createdAt': 1455477795,\n",
       "  'source': {'name': 'Swarm for Android', 'url': 'https://www.swarmapp.com'},\n",
       "  'prefix': 'https://fastly.4sqi.net/img/general/',\n",
       "  'suffix': '/149265055_IX7B24DDRtFJOpqXkTAJPUB9PCpb37D0hXwzMPdS_pY.jpg',\n",
       "  'width': 540,\n",
       "  'height': 960,\n",
       "  'visibility': 'public'},\n",
       " 'colors': {'highlightColor': {'photoId': '56c0d423cd1019b9ce91c44f',\n",
       "   'value': -9404280},\n",
       "  'highlightTextColor': {'photoId': '56c0d423cd1019b9ce91c44f',\n",
       "   'value': -16777216},\n",
       "  'algoVersion': 3}}"
      ]
     },
     "execution_count": 299,
     "metadata": {},
     "output_type": "execute_result"
    }
   ],
   "source": [
    "result = requests.get(url).json()\n",
    "print(result['response']['venue'].keys())\n",
    "result['response']['venue']"
   ]
  },
  {
   "cell_type": "code",
   "execution_count": 300,
   "metadata": {},
   "outputs": [
    {
     "name": "stdout",
     "output_type": "stream",
     "text": [
      "This venue has not been rated yet.\n"
     ]
    }
   ],
   "source": [
    "try:\n",
    "    print(result['response']['venue']['rating'])\n",
    "except:\n",
    "    print('This venue has not been rated yet.')"
   ]
  },
  {
   "cell_type": "markdown",
   "metadata": {},
   "source": [
    "# knights Inn \n",
    "\n",
    "### Coffee shop"
   ]
  },
  {
   "cell_type": "code",
   "execution_count": 301,
   "metadata": {},
   "outputs": [
    {
     "name": "stdout",
     "output_type": "stream",
     "text": [
      "43.7778225 -79.17281405263158\n"
     ]
    }
   ],
   "source": [
    "address = 'Knights Inn, Toronto'\n",
    "\n",
    "geolocator = Nominatim(user_agent=\"foursquare_agent\")\n",
    "location = geolocator.geocode(address)\n",
    "latitude = location.latitude\n",
    "longitude = location.longitude\n",
    "print(latitude, longitude)"
   ]
  },
  {
   "cell_type": "code",
   "execution_count": 302,
   "metadata": {},
   "outputs": [
    {
     "name": "stdout",
     "output_type": "stream",
     "text": [
      "Coffee .... OK!\n"
     ]
    }
   ],
   "source": [
    "search_query = 'Coffee'\n",
    "radius = 1000\n",
    "print(search_query + ' .... OK!')"
   ]
  },
  {
   "cell_type": "code",
   "execution_count": 303,
   "metadata": {},
   "outputs": [
    {
     "data": {
      "text/plain": [
       "'https://api.foursquare.com/v2/venues/search?client_id=FXWG412PGZMV0OTDDNYEC2XP2TGWP1ZTH5JD1RCML2OL5CLK&client_secret=RCZUNJDEY0MD0TH0KA5E3EDRLAF1T35JO5GSZNXQKZ0JX4PE&ll=43.7778225,-79.17281405263158&v=20180605&query=Coffee&radius=1000&limit=100'"
      ]
     },
     "execution_count": 303,
     "metadata": {},
     "output_type": "execute_result"
    }
   ],
   "source": [
    "url = 'https://api.foursquare.com/v2/venues/search?client_id={}&client_secret={}&ll={},{}&v={}&query={}&radius={}&limit={}'.format(CLIENT_ID, CLIENT_SECRET, latitude, longitude, VERSION, search_query, radius, LIMIT)\n",
    "url"
   ]
  },
  {
   "cell_type": "code",
   "execution_count": 304,
   "metadata": {},
   "outputs": [
    {
     "data": {
      "text/plain": [
       "{'meta': {'code': 200, 'requestId': '5ea34841b4b684001b125470'},\n",
       " 'response': {'venues': [{'id': '5206752511d2e01992c02a8b',\n",
       "    'name': 'Coffee Time',\n",
       "    'location': {'lat': 43.783636436107955,\n",
       "     'lng': -79.17030424453813,\n",
       "     'labeledLatLngs': [{'label': 'display',\n",
       "       'lat': 43.783636436107955,\n",
       "       'lng': -79.17030424453813}],\n",
       "     'distance': 677,\n",
       "     'cc': 'CA',\n",
       "     'country': 'Canada',\n",
       "     'formattedAddress': ['Canada']},\n",
       "    'categories': [{'id': '4bf58dd8d48988d123951735',\n",
       "      'name': 'Smoke Shop',\n",
       "      'pluralName': 'Smoke Shops',\n",
       "      'shortName': 'Smoke Shop',\n",
       "      'icon': {'prefix': 'https://ss3.4sqi.net/img/categories_v2/shops/tobacco_',\n",
       "       'suffix': '.png'},\n",
       "      'primary': True}],\n",
       "    'referralId': 'v-1587759410',\n",
       "    'hasPerk': False}]}}"
      ]
     },
     "execution_count": 304,
     "metadata": {},
     "output_type": "execute_result"
    }
   ],
   "source": [
    "results = requests.get(url).json()\n",
    "results"
   ]
  },
  {
   "cell_type": "code",
   "execution_count": 305,
   "metadata": {},
   "outputs": [
    {
     "data": {
      "text/html": [
       "<div>\n",
       "<style scoped>\n",
       "    .dataframe tbody tr th:only-of-type {\n",
       "        vertical-align: middle;\n",
       "    }\n",
       "\n",
       "    .dataframe tbody tr th {\n",
       "        vertical-align: top;\n",
       "    }\n",
       "\n",
       "    .dataframe thead th {\n",
       "        text-align: right;\n",
       "    }\n",
       "</style>\n",
       "<table border=\"1\" class=\"dataframe\">\n",
       "  <thead>\n",
       "    <tr style=\"text-align: right;\">\n",
       "      <th></th>\n",
       "      <th>categories</th>\n",
       "      <th>hasPerk</th>\n",
       "      <th>id</th>\n",
       "      <th>location.cc</th>\n",
       "      <th>location.country</th>\n",
       "      <th>location.distance</th>\n",
       "      <th>location.formattedAddress</th>\n",
       "      <th>location.labeledLatLngs</th>\n",
       "      <th>location.lat</th>\n",
       "      <th>location.lng</th>\n",
       "      <th>name</th>\n",
       "      <th>referralId</th>\n",
       "    </tr>\n",
       "  </thead>\n",
       "  <tbody>\n",
       "    <tr>\n",
       "      <th>0</th>\n",
       "      <td>[{'id': '4bf58dd8d48988d123951735', 'name': 'Smoke Shop', 'pluralName': 'Smoke Shops', 'shortName': 'Smoke Shop', 'icon': {'prefix': 'https://ss3.4sqi.net/img/categories_v2/shops/tobacco_', 'suffix': '.png'}, 'primary': True}]</td>\n",
       "      <td>False</td>\n",
       "      <td>5206752511d2e01992c02a8b</td>\n",
       "      <td>CA</td>\n",
       "      <td>Canada</td>\n",
       "      <td>677</td>\n",
       "      <td>[Canada]</td>\n",
       "      <td>[{'label': 'display', 'lat': 43.783636436107955, 'lng': -79.17030424453813}]</td>\n",
       "      <td>43.783636</td>\n",
       "      <td>-79.170304</td>\n",
       "      <td>Coffee Time</td>\n",
       "      <td>v-1587759410</td>\n",
       "    </tr>\n",
       "  </tbody>\n",
       "</table>\n",
       "</div>"
      ],
      "text/plain": [
       "                                                                                                                                                                                                                           categories  \\\n",
       "0  [{'id': '4bf58dd8d48988d123951735', 'name': 'Smoke Shop', 'pluralName': 'Smoke Shops', 'shortName': 'Smoke Shop', 'icon': {'prefix': 'https://ss3.4sqi.net/img/categories_v2/shops/tobacco_', 'suffix': '.png'}, 'primary': True}]   \n",
       "\n",
       "   hasPerk                        id location.cc location.country  \\\n",
       "0  False    5206752511d2e01992c02a8b  CA          Canada            \n",
       "\n",
       "   location.distance location.formattedAddress  \\\n",
       "0  677                [Canada]                   \n",
       "\n",
       "                                                        location.labeledLatLngs  \\\n",
       "0  [{'label': 'display', 'lat': 43.783636436107955, 'lng': -79.17030424453813}]   \n",
       "\n",
       "   location.lat  location.lng         name    referralId  \n",
       "0  43.783636    -79.170304     Coffee Time  v-1587759410  "
      ]
     },
     "execution_count": 305,
     "metadata": {},
     "output_type": "execute_result"
    }
   ],
   "source": [
    "venues = results['response']['venues']\n",
    "\n",
    "dataframe = json_normalize(venues)\n",
    "dataframe.head()"
   ]
  },
  {
   "cell_type": "code",
   "execution_count": 306,
   "metadata": {},
   "outputs": [
    {
     "data": {
      "text/html": [
       "<div>\n",
       "<style scoped>\n",
       "    .dataframe tbody tr th:only-of-type {\n",
       "        vertical-align: middle;\n",
       "    }\n",
       "\n",
       "    .dataframe tbody tr th {\n",
       "        vertical-align: top;\n",
       "    }\n",
       "\n",
       "    .dataframe thead th {\n",
       "        text-align: right;\n",
       "    }\n",
       "</style>\n",
       "<table border=\"1\" class=\"dataframe\">\n",
       "  <thead>\n",
       "    <tr style=\"text-align: right;\">\n",
       "      <th></th>\n",
       "      <th>name</th>\n",
       "      <th>categories</th>\n",
       "      <th>cc</th>\n",
       "      <th>country</th>\n",
       "      <th>distance</th>\n",
       "      <th>formattedAddress</th>\n",
       "      <th>labeledLatLngs</th>\n",
       "      <th>lat</th>\n",
       "      <th>lng</th>\n",
       "      <th>id</th>\n",
       "    </tr>\n",
       "  </thead>\n",
       "  <tbody>\n",
       "    <tr>\n",
       "      <th>0</th>\n",
       "      <td>Coffee Time</td>\n",
       "      <td>Smoke Shop</td>\n",
       "      <td>CA</td>\n",
       "      <td>Canada</td>\n",
       "      <td>677</td>\n",
       "      <td>[Canada]</td>\n",
       "      <td>[{'label': 'display', 'lat': 43.783636436107955, 'lng': -79.17030424453813}]</td>\n",
       "      <td>43.783636</td>\n",
       "      <td>-79.170304</td>\n",
       "      <td>5206752511d2e01992c02a8b</td>\n",
       "    </tr>\n",
       "  </tbody>\n",
       "</table>\n",
       "</div>"
      ],
      "text/plain": [
       "          name  categories  cc country  distance formattedAddress  \\\n",
       "0  Coffee Time  Smoke Shop  CA  Canada  677       [Canada]          \n",
       "\n",
       "                                                                 labeledLatLngs  \\\n",
       "0  [{'label': 'display', 'lat': 43.783636436107955, 'lng': -79.17030424453813}]   \n",
       "\n",
       "         lat        lng                        id  \n",
       "0  43.783636 -79.170304  5206752511d2e01992c02a8b  "
      ]
     },
     "execution_count": 306,
     "metadata": {},
     "output_type": "execute_result"
    }
   ],
   "source": [
    "filtered_columns = ['name', 'categories'] + [col for col in dataframe.columns if col.startswith('location.')] + ['id']\n",
    "dataframe_filtered = dataframe.loc[:, filtered_columns]\n",
    "\n",
    "\n",
    "def get_category_type(row):\n",
    "    try:\n",
    "        categories_list = row['categories']\n",
    "    except:\n",
    "        categories_list = row['venue.categories']\n",
    "        \n",
    "    if len(categories_list) == 0:\n",
    "        return None\n",
    "    else:\n",
    "        return categories_list[0]['name']\n",
    "\n",
    "\n",
    "dataframe_filtered['categories'] = dataframe_filtered.apply(get_category_type, axis=1)\n",
    "\n",
    "\n",
    "dataframe_filtered.columns = [column.split('.')[-1] for column in dataframe_filtered.columns]\n",
    "\n",
    "dataframe_filtered"
   ]
  },
  {
   "cell_type": "code",
   "execution_count": 307,
   "metadata": {},
   "outputs": [
    {
     "data": {
      "text/plain": [
       "0    Coffee Time\n",
       "Name: name, dtype: object"
      ]
     },
     "execution_count": 307,
     "metadata": {},
     "output_type": "execute_result"
    }
   ],
   "source": [
    "dataframe_filtered.name"
   ]
  },
  {
   "cell_type": "code",
   "execution_count": 308,
   "metadata": {},
   "outputs": [
    {
     "data": {
      "text/html": [
       "<div style=\"width:100%;\"><div style=\"position:relative;width:100%;height:0;padding-bottom:60%;\"><iframe src=\"about:blank\" style=\"position:absolute;width:100%;height:100%;left:0;top:0;border:none !important;\" data-html=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 onload=\"this.contentDocument.open();this.contentDocument.write(atob(this.getAttribute('data-html')));this.contentDocument.close();\" allowfullscreen webkitallowfullscreen mozallowfullscreen></iframe></div></div>"
      ],
      "text/plain": [
       "<folium.folium.Map at 0x2317d9bb0b8>"
      ]
     },
     "execution_count": 308,
     "metadata": {},
     "output_type": "execute_result"
    }
   ],
   "source": [
    "venues_map = folium.Map(location=[latitude, longitude], zoom_start=13) \n",
    "\n",
    "# add a red circle marker to represent the Conrad Hotel\n",
    "folium.features.CircleMarker(\n",
    "    [latitude, longitude],\n",
    "    radius=10,\n",
    "    color='red',\n",
    "    popup='Hotel',\n",
    "    fill = True,\n",
    "    fill_color = 'red',\n",
    "    fill_opacity = 0.6\n",
    ").add_to(venues_map)\n",
    "\n",
    "# add the Italian restaurants as blue circle markers\n",
    "for lat, lng, label in zip(dataframe_filtered.lat, dataframe_filtered.lng, dataframe_filtered.categories):\n",
    "    folium.features.CircleMarker(\n",
    "        [lat, lng],\n",
    "        radius=5,\n",
    "        color='blue',\n",
    "        popup=label,\n",
    "        fill = True,\n",
    "        fill_color='blue',\n",
    "        fill_opacity=0.6\n",
    "    ).add_to(venues_map)\n",
    "\n",
    "venues_map"
   ]
  },
  {
   "cell_type": "code",
   "execution_count": 309,
   "metadata": {},
   "outputs": [
    {
     "data": {
      "text/plain": [
       "'https://api.foursquare.com/v2/venues/4dad8ab9043718a63e33e294?client_id=FXWG412PGZMV0OTDDNYEC2XP2TGWP1ZTH5JD1RCML2OL5CLK&client_secret=RCZUNJDEY0MD0TH0KA5E3EDRLAF1T35JO5GSZNXQKZ0JX4PE&v=20180605'"
      ]
     },
     "execution_count": 309,
     "metadata": {},
     "output_type": "execute_result"
    }
   ],
   "source": [
    "venue_id = '4dad8ab9043718a63e33e294' \n",
    "url = 'https://api.foursquare.com/v2/venues/{}?client_id={}&client_secret={}&v={}'.format(venue_id, CLIENT_ID, CLIENT_SECRET, VERSION)\n",
    "url"
   ]
  },
  {
   "cell_type": "code",
   "execution_count": 310,
   "metadata": {},
   "outputs": [
    {
     "name": "stdout",
     "output_type": "stream",
     "text": [
      "dict_keys(['id', 'name', 'contact', 'location', 'canonicalUrl', 'categories', 'verified', 'stats', 'price', 'likes', 'dislike', 'ok', 'allowMenuUrlEdit', 'beenHere', 'specials', 'photos', 'reasons', 'hereNow', 'createdAt', 'tips', 'shortUrl', 'timeZone', 'listed', 'seasonalHours', 'pageUpdates', 'inbox', 'attributes', 'bestPhoto', 'colors'])\n"
     ]
    },
    {
     "data": {
      "text/plain": [
       "{'id': '4dad8ab9043718a63e33e294',\n",
       " 'name': 'Coffee Time',\n",
       " 'contact': {},\n",
       " 'location': {'address': '2195 Midland Ave',\n",
       "  'crossStreet': 'at Progress Ave',\n",
       "  'lat': 43.773307723529335,\n",
       "  'lng': -79.27289954044328,\n",
       "  'labeledLatLngs': [{'label': 'display',\n",
       "    'lat': 43.773307723529335,\n",
       "    'lng': -79.27289954044328}],\n",
       "  'cc': 'CA',\n",
       "  'city': 'Toronto',\n",
       "  'state': 'ON',\n",
       "  'country': 'Canada',\n",
       "  'formattedAddress': ['2195 Midland Ave (at Progress Ave)',\n",
       "   'Toronto ON',\n",
       "   'Canada']},\n",
       " 'canonicalUrl': 'https://foursquare.com/v/coffee-time/4dad8ab9043718a63e33e294',\n",
       " 'categories': [{'id': '4bf58dd8d48988d1e0931735',\n",
       "   'name': 'Coffee Shop',\n",
       "   'pluralName': 'Coffee Shops',\n",
       "   'shortName': 'Coffee Shop',\n",
       "   'icon': {'prefix': 'https://ss3.4sqi.net/img/categories_v2/food/coffeeshop_',\n",
       "    'suffix': '.png'},\n",
       "   'primary': True}],\n",
       " 'verified': False,\n",
       " 'stats': {'tipCount': 1},\n",
       " 'price': {'tier': 1, 'message': 'Cheap', 'currency': '$'},\n",
       " 'likes': {'count': 3,\n",
       "  'groups': [{'type': 'others',\n",
       "    'count': 3,\n",
       "    'items': [{'id': '409557238',\n",
       "      'firstName': 'Dagmar',\n",
       "      'lastName': 'S',\n",
       "      'photo': {'prefix': 'https://fastly.4sqi.net/img/user/',\n",
       "       'suffix': '/409557238_PHMyqMX1_9FXja1H1QWXnf6LDL5GXCHqEWRU_gB3soBImoYGImVXIAoc90bgmHzSLlDTSrMiK.jpg'}},\n",
       "     {'id': '6773183',\n",
       "      'firstName': 'Thilaknath',\n",
       "      'lastName': 'A',\n",
       "      'photo': {'prefix': 'https://fastly.4sqi.net/img/user/',\n",
       "       'suffix': '/6773183-EIDZMIR3U2MCASZF.jpg'}},\n",
       "     {'id': '4935263',\n",
       "      'firstName': 'Benjamin',\n",
       "      'photo': {'prefix': 'https://fastly.4sqi.net/img/user/',\n",
       "       'suffix': '/UFUGTN4QHKJUNKUK.jpg'}}]}],\n",
       "  'summary': '3 Likes'},\n",
       " 'dislike': False,\n",
       " 'ok': False,\n",
       " 'allowMenuUrlEdit': True,\n",
       " 'beenHere': {'count': 0,\n",
       "  'unconfirmedCount': 0,\n",
       "  'marked': False,\n",
       "  'lastCheckinExpiredAt': 0},\n",
       " 'specials': {'count': 0, 'items': []},\n",
       " 'photos': {'count': 2,\n",
       "  'groups': [{'type': 'venue',\n",
       "    'name': 'Venue photos',\n",
       "    'count': 2,\n",
       "    'items': [{'id': '56c0d423cd1019b9ce91c44f',\n",
       "      'createdAt': 1455477795,\n",
       "      'source': {'name': 'Swarm for Android',\n",
       "       'url': 'https://www.swarmapp.com'},\n",
       "      'prefix': 'https://fastly.4sqi.net/img/general/',\n",
       "      'suffix': '/149265055_IX7B24DDRtFJOpqXkTAJPUB9PCpb37D0hXwzMPdS_pY.jpg',\n",
       "      'width': 540,\n",
       "      'height': 960,\n",
       "      'user': {'id': '149265055',\n",
       "       'firstName': 'Andrew',\n",
       "       'lastName': 'B',\n",
       "       'photo': {'prefix': 'https://fastly.4sqi.net/img/user/',\n",
       "        'suffix': '/149265055-C54MX5YRC4BLBM0E.jpg'}},\n",
       "      'visibility': 'public'}]}]},\n",
       " 'reasons': {'count': 0, 'items': []},\n",
       " 'hereNow': {'count': 0, 'summary': 'Nobody here', 'groups': []},\n",
       " 'createdAt': 1303218873,\n",
       " 'tips': {'count': 1,\n",
       "  'groups': [{'type': 'others',\n",
       "    'name': 'All tips',\n",
       "    'count': 1,\n",
       "    'items': [{'id': '51f30b84498eaf5718b5e7e2',\n",
       "      'createdAt': 1374882692,\n",
       "      'text': 'Good food, good times',\n",
       "      'type': 'user',\n",
       "      'canonicalUrl': 'https://foursquare.com/item/51f30b84498eaf5718b5e7e2',\n",
       "      'lang': 'en',\n",
       "      'likes': {'count': 1,\n",
       "       'groups': [{'type': 'others',\n",
       "         'count': 1,\n",
       "         'items': [{'id': '4935263',\n",
       "           'firstName': 'Benjamin',\n",
       "           'photo': {'prefix': 'https://fastly.4sqi.net/img/user/',\n",
       "            'suffix': '/UFUGTN4QHKJUNKUK.jpg'}}]}],\n",
       "       'summary': '1 like'},\n",
       "      'logView': True,\n",
       "      'agreeCount': 1,\n",
       "      'disagreeCount': 0,\n",
       "      'todo': {'count': 0},\n",
       "      'user': {'id': '8131699',\n",
       "       'firstName': 'Kris',\n",
       "       'lastName': 'M',\n",
       "       'photo': {'prefix': 'https://fastly.4sqi.net/img/user/',\n",
       "        'suffix': '/4D5M0MQJ00KKOBPY.jpg'}}}]}]},\n",
       " 'shortUrl': 'http://4sq.com/eZMEEC',\n",
       " 'timeZone': 'America/Toronto',\n",
       " 'listed': {'count': 0,\n",
       "  'groups': [{'type': 'others',\n",
       "    'name': 'Lists from other people',\n",
       "    'count': 0,\n",
       "    'items': []}]},\n",
       " 'seasonalHours': [],\n",
       " 'pageUpdates': {'count': 0, 'items': []},\n",
       " 'inbox': {'count': 0, 'items': []},\n",
       " 'attributes': {'groups': [{'type': 'price',\n",
       "    'name': 'Price',\n",
       "    'summary': '$',\n",
       "    'count': 1,\n",
       "    'items': [{'displayName': 'Price', 'displayValue': '$', 'priceTier': 1}]},\n",
       "   {'type': 'payments',\n",
       "    'name': 'Credit Cards',\n",
       "    'summary': 'Credit Cards',\n",
       "    'count': 5,\n",
       "    'items': [{'displayName': 'Credit Cards', 'displayValue': 'Yes'}]},\n",
       "   {'type': 'outdoorSeating',\n",
       "    'name': 'Outdoor Seating',\n",
       "    'summary': 'Outdoor Seating',\n",
       "    'count': 1,\n",
       "    'items': [{'displayName': 'Outdoor Seating', 'displayValue': 'Yes'}]},\n",
       "   {'type': 'wifi',\n",
       "    'name': 'Wi-Fi',\n",
       "    'summary': 'Wi-Fi',\n",
       "    'count': 1,\n",
       "    'items': [{'displayName': 'Wi-Fi', 'displayValue': 'Yes'}]}]},\n",
       " 'bestPhoto': {'id': '56c0d423cd1019b9ce91c44f',\n",
       "  'createdAt': 1455477795,\n",
       "  'source': {'name': 'Swarm for Android', 'url': 'https://www.swarmapp.com'},\n",
       "  'prefix': 'https://fastly.4sqi.net/img/general/',\n",
       "  'suffix': '/149265055_IX7B24DDRtFJOpqXkTAJPUB9PCpb37D0hXwzMPdS_pY.jpg',\n",
       "  'width': 540,\n",
       "  'height': 960,\n",
       "  'visibility': 'public'},\n",
       " 'colors': {'highlightColor': {'photoId': '56c0d423cd1019b9ce91c44f',\n",
       "   'value': -9404280},\n",
       "  'highlightTextColor': {'photoId': '56c0d423cd1019b9ce91c44f',\n",
       "   'value': -16777216},\n",
       "  'algoVersion': 3}}"
      ]
     },
     "execution_count": 310,
     "metadata": {},
     "output_type": "execute_result"
    }
   ],
   "source": [
    "result = requests.get(url).json()\n",
    "print(result['response']['venue'].keys())\n",
    "result['response']['venue']"
   ]
  },
  {
   "cell_type": "code",
   "execution_count": 311,
   "metadata": {},
   "outputs": [
    {
     "name": "stdout",
     "output_type": "stream",
     "text": [
      "This venue has not been rated yet.\n"
     ]
    }
   ],
   "source": [
    "try:\n",
    "    print(result['response']['venue']['rating'])\n",
    "except:\n",
    "    print('This venue has not been rated yet.')"
   ]
  },
  {
   "cell_type": "markdown",
   "metadata": {},
   "source": [
    "## Brunch Point"
   ]
  },
  {
   "cell_type": "code",
   "execution_count": 312,
   "metadata": {},
   "outputs": [
    {
     "name": "stdout",
     "output_type": "stream",
     "text": [
      "Restaurant .... OK!\n"
     ]
    }
   ],
   "source": [
    "search_query = 'Restaurant'\n",
    "radius = 1000\n",
    "print(search_query + ' .... OK!')"
   ]
  },
  {
   "cell_type": "code",
   "execution_count": 313,
   "metadata": {},
   "outputs": [
    {
     "data": {
      "text/plain": [
       "'https://api.foursquare.com/v2/venues/search?client_id=FXWG412PGZMV0OTDDNYEC2XP2TGWP1ZTH5JD1RCML2OL5CLK&client_secret=RCZUNJDEY0MD0TH0KA5E3EDRLAF1T35JO5GSZNXQKZ0JX4PE&ll=43.7778225,-79.17281405263158&v=20180605&query=Restaurant&radius=1000&limit=100'"
      ]
     },
     "execution_count": 313,
     "metadata": {},
     "output_type": "execute_result"
    }
   ],
   "source": [
    "url = 'https://api.foursquare.com/v2/venues/search?client_id={}&client_secret={}&ll={},{}&v={}&query={}&radius={}&limit={}'.format(CLIENT_ID, CLIENT_SECRET, latitude, longitude, VERSION, search_query, radius, LIMIT)\n",
    "url"
   ]
  },
  {
   "cell_type": "code",
   "execution_count": 314,
   "metadata": {},
   "outputs": [
    {
     "data": {
      "text/plain": [
       "{'meta': {'code': 200, 'requestId': '5ea348ff95feaf001bac2b5c'},\n",
       " 'response': {'venues': [{'id': '4be6c179d4f7c9b665042720',\n",
       "    'name': \"Ted's Restaurant\",\n",
       "    'location': {'address': '404 Old Kingston Rd.',\n",
       "     'lat': 43.78446796744621,\n",
       "     'lng': -79.1692004571639,\n",
       "     'labeledLatLngs': [{'label': 'display',\n",
       "       'lat': 43.78446796744621,\n",
       "       'lng': -79.1692004571639}],\n",
       "     'distance': 794,\n",
       "     'cc': 'CA',\n",
       "     'city': 'Scarborough',\n",
       "     'state': 'ON',\n",
       "     'country': 'Canada',\n",
       "     'formattedAddress': ['404 Old Kingston Rd.', 'Scarborough ON', 'Canada']},\n",
       "    'categories': [{'id': '4bf58dd8d48988d143941735',\n",
       "      'name': 'Breakfast Spot',\n",
       "      'pluralName': 'Breakfast Spots',\n",
       "      'shortName': 'Breakfast',\n",
       "      'icon': {'prefix': 'https://ss3.4sqi.net/img/categories_v2/food/breakfast_',\n",
       "       'suffix': '.png'},\n",
       "      'primary': True}],\n",
       "    'referralId': 'v-1587759654',\n",
       "    'hasPerk': False}]}}"
      ]
     },
     "execution_count": 314,
     "metadata": {},
     "output_type": "execute_result"
    }
   ],
   "source": [
    "results = requests.get(url).json()\n",
    "results"
   ]
  },
  {
   "cell_type": "code",
   "execution_count": 315,
   "metadata": {},
   "outputs": [
    {
     "data": {
      "text/html": [
       "<div>\n",
       "<style scoped>\n",
       "    .dataframe tbody tr th:only-of-type {\n",
       "        vertical-align: middle;\n",
       "    }\n",
       "\n",
       "    .dataframe tbody tr th {\n",
       "        vertical-align: top;\n",
       "    }\n",
       "\n",
       "    .dataframe thead th {\n",
       "        text-align: right;\n",
       "    }\n",
       "</style>\n",
       "<table border=\"1\" class=\"dataframe\">\n",
       "  <thead>\n",
       "    <tr style=\"text-align: right;\">\n",
       "      <th></th>\n",
       "      <th>categories</th>\n",
       "      <th>hasPerk</th>\n",
       "      <th>id</th>\n",
       "      <th>location.address</th>\n",
       "      <th>location.cc</th>\n",
       "      <th>location.city</th>\n",
       "      <th>location.country</th>\n",
       "      <th>location.distance</th>\n",
       "      <th>location.formattedAddress</th>\n",
       "      <th>location.labeledLatLngs</th>\n",
       "      <th>location.lat</th>\n",
       "      <th>location.lng</th>\n",
       "      <th>location.state</th>\n",
       "      <th>name</th>\n",
       "      <th>referralId</th>\n",
       "    </tr>\n",
       "  </thead>\n",
       "  <tbody>\n",
       "    <tr>\n",
       "      <th>0</th>\n",
       "      <td>[{'id': '4bf58dd8d48988d143941735', 'name': 'Breakfast Spot', 'pluralName': 'Breakfast Spots', 'shortName': 'Breakfast', 'icon': {'prefix': 'https://ss3.4sqi.net/img/categories_v2/food/breakfast_', 'suffix': '.png'}, 'primary': True}]</td>\n",
       "      <td>False</td>\n",
       "      <td>4be6c179d4f7c9b665042720</td>\n",
       "      <td>404 Old Kingston Rd.</td>\n",
       "      <td>CA</td>\n",
       "      <td>Scarborough</td>\n",
       "      <td>Canada</td>\n",
       "      <td>794</td>\n",
       "      <td>[404 Old Kingston Rd., Scarborough ON, Canada]</td>\n",
       "      <td>[{'label': 'display', 'lat': 43.78446796744621, 'lng': -79.1692004571639}]</td>\n",
       "      <td>43.784468</td>\n",
       "      <td>-79.1692</td>\n",
       "      <td>ON</td>\n",
       "      <td>Ted's Restaurant</td>\n",
       "      <td>v-1587759654</td>\n",
       "    </tr>\n",
       "  </tbody>\n",
       "</table>\n",
       "</div>"
      ],
      "text/plain": [
       "                                                                                                                                                                                                                                   categories  \\\n",
       "0  [{'id': '4bf58dd8d48988d143941735', 'name': 'Breakfast Spot', 'pluralName': 'Breakfast Spots', 'shortName': 'Breakfast', 'icon': {'prefix': 'https://ss3.4sqi.net/img/categories_v2/food/breakfast_', 'suffix': '.png'}, 'primary': True}]   \n",
       "\n",
       "   hasPerk                        id      location.address location.cc  \\\n",
       "0  False    4be6c179d4f7c9b665042720  404 Old Kingston Rd.  CA           \n",
       "\n",
       "  location.city location.country  location.distance  \\\n",
       "0  Scarborough   Canada           794                 \n",
       "\n",
       "                        location.formattedAddress  \\\n",
       "0  [404 Old Kingston Rd., Scarborough ON, Canada]   \n",
       "\n",
       "                                                      location.labeledLatLngs  \\\n",
       "0  [{'label': 'display', 'lat': 43.78446796744621, 'lng': -79.1692004571639}]   \n",
       "\n",
       "   location.lat  location.lng location.state              name    referralId  \n",
       "0  43.784468    -79.1692       ON             Ted's Restaurant  v-1587759654  "
      ]
     },
     "execution_count": 315,
     "metadata": {},
     "output_type": "execute_result"
    }
   ],
   "source": [
    "venues = results['response']['venues']\n",
    "\n",
    "dataframe = json_normalize(venues)\n",
    "dataframe.head()"
   ]
  },
  {
   "cell_type": "code",
   "execution_count": 316,
   "metadata": {},
   "outputs": [
    {
     "data": {
      "text/html": [
       "<div>\n",
       "<style scoped>\n",
       "    .dataframe tbody tr th:only-of-type {\n",
       "        vertical-align: middle;\n",
       "    }\n",
       "\n",
       "    .dataframe tbody tr th {\n",
       "        vertical-align: top;\n",
       "    }\n",
       "\n",
       "    .dataframe thead th {\n",
       "        text-align: right;\n",
       "    }\n",
       "</style>\n",
       "<table border=\"1\" class=\"dataframe\">\n",
       "  <thead>\n",
       "    <tr style=\"text-align: right;\">\n",
       "      <th></th>\n",
       "      <th>name</th>\n",
       "      <th>categories</th>\n",
       "      <th>address</th>\n",
       "      <th>cc</th>\n",
       "      <th>city</th>\n",
       "      <th>country</th>\n",
       "      <th>distance</th>\n",
       "      <th>formattedAddress</th>\n",
       "      <th>labeledLatLngs</th>\n",
       "      <th>lat</th>\n",
       "      <th>lng</th>\n",
       "      <th>state</th>\n",
       "      <th>id</th>\n",
       "    </tr>\n",
       "  </thead>\n",
       "  <tbody>\n",
       "    <tr>\n",
       "      <th>0</th>\n",
       "      <td>Ted's Restaurant</td>\n",
       "      <td>Breakfast Spot</td>\n",
       "      <td>404 Old Kingston Rd.</td>\n",
       "      <td>CA</td>\n",
       "      <td>Scarborough</td>\n",
       "      <td>Canada</td>\n",
       "      <td>794</td>\n",
       "      <td>[404 Old Kingston Rd., Scarborough ON, Canada]</td>\n",
       "      <td>[{'label': 'display', 'lat': 43.78446796744621, 'lng': -79.1692004571639}]</td>\n",
       "      <td>43.784468</td>\n",
       "      <td>-79.1692</td>\n",
       "      <td>ON</td>\n",
       "      <td>4be6c179d4f7c9b665042720</td>\n",
       "    </tr>\n",
       "  </tbody>\n",
       "</table>\n",
       "</div>"
      ],
      "text/plain": [
       "               name      categories               address  cc         city  \\\n",
       "0  Ted's Restaurant  Breakfast Spot  404 Old Kingston Rd.  CA  Scarborough   \n",
       "\n",
       "  country  distance                                formattedAddress  \\\n",
       "0  Canada  794       [404 Old Kingston Rd., Scarborough ON, Canada]   \n",
       "\n",
       "                                                               labeledLatLngs  \\\n",
       "0  [{'label': 'display', 'lat': 43.78446796744621, 'lng': -79.1692004571639}]   \n",
       "\n",
       "         lat      lng state                        id  \n",
       "0  43.784468 -79.1692  ON    4be6c179d4f7c9b665042720  "
      ]
     },
     "execution_count": 316,
     "metadata": {},
     "output_type": "execute_result"
    }
   ],
   "source": [
    "filtered_columns = ['name', 'categories'] + [col for col in dataframe.columns if col.startswith('location.')] + ['id']\n",
    "dataframe_filtered = dataframe.loc[:, filtered_columns]\n",
    "\n",
    "\n",
    "def get_category_type(row):\n",
    "    try:\n",
    "        categories_list = row['categories']\n",
    "    except:\n",
    "        categories_list = row['venue.categories']\n",
    "        \n",
    "    if len(categories_list) == 0:\n",
    "        return None\n",
    "    else:\n",
    "        return categories_list[0]['name']\n",
    "\n",
    "\n",
    "dataframe_filtered['categories'] = dataframe_filtered.apply(get_category_type, axis=1)\n",
    "\n",
    "\n",
    "dataframe_filtered.columns = [column.split('.')[-1] for column in dataframe_filtered.columns]\n",
    "\n",
    "dataframe_filtered"
   ]
  },
  {
   "cell_type": "code",
   "execution_count": 317,
   "metadata": {},
   "outputs": [
    {
     "data": {
      "text/plain": [
       "0    Ted's Restaurant\n",
       "Name: name, dtype: object"
      ]
     },
     "execution_count": 317,
     "metadata": {},
     "output_type": "execute_result"
    }
   ],
   "source": [
    "dataframe_filtered.name"
   ]
  },
  {
   "cell_type": "code",
   "execution_count": 318,
   "metadata": {},
   "outputs": [
    {
     "data": {
      "text/html": [
       "<div style=\"width:100%;\"><div style=\"position:relative;width:100%;height:0;padding-bottom:60%;\"><iframe src=\"about:blank\" style=\"position:absolute;width:100%;height:100%;left:0;top:0;border:none !important;\" data-html=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 onload=\"this.contentDocument.open();this.contentDocument.write(atob(this.getAttribute('data-html')));this.contentDocument.close();\" allowfullscreen webkitallowfullscreen mozallowfullscreen></iframe></div></div>"
      ],
      "text/plain": [
       "<folium.folium.Map at 0x2317d9ed278>"
      ]
     },
     "execution_count": 318,
     "metadata": {},
     "output_type": "execute_result"
    }
   ],
   "source": [
    "venues_map = folium.Map(location=[latitude, longitude], zoom_start=13) \n",
    "\n",
    "# add a red circle marker to represent the Conrad Hotel\n",
    "folium.features.CircleMarker(\n",
    "    [latitude, longitude],\n",
    "    radius=10,\n",
    "    color='red',\n",
    "    popup='Hotel',\n",
    "    fill = True,\n",
    "    fill_color = 'red',\n",
    "    fill_opacity = 0.6\n",
    ").add_to(venues_map)\n",
    "\n",
    "# add the Italian restaurants as blue circle markers\n",
    "for lat, lng, label in zip(dataframe_filtered.lat, dataframe_filtered.lng, dataframe_filtered.categories):\n",
    "    folium.features.CircleMarker(\n",
    "        [lat, lng],\n",
    "        radius=5,\n",
    "        color='blue',\n",
    "        popup=label,\n",
    "        fill = True,\n",
    "        fill_color='blue',\n",
    "        fill_opacity=0.6\n",
    "    ).add_to(venues_map)\n",
    "\n",
    "venues_map"
   ]
  },
  {
   "cell_type": "code",
   "execution_count": 319,
   "metadata": {},
   "outputs": [
    {
     "data": {
      "text/plain": [
       "'https://api.foursquare.com/v2/venues/4dad8ab9043718a63e33e294?client_id=FXWG412PGZMV0OTDDNYEC2XP2TGWP1ZTH5JD1RCML2OL5CLK&client_secret=RCZUNJDEY0MD0TH0KA5E3EDRLAF1T35JO5GSZNXQKZ0JX4PE&v=20180605'"
      ]
     },
     "execution_count": 319,
     "metadata": {},
     "output_type": "execute_result"
    }
   ],
   "source": [
    "venue_id = '4dad8ab9043718a63e33e294' \n",
    "url = 'https://api.foursquare.com/v2/venues/{}?client_id={}&client_secret={}&v={}'.format(venue_id, CLIENT_ID, CLIENT_SECRET, VERSION)\n",
    "url"
   ]
  },
  {
   "cell_type": "code",
   "execution_count": 320,
   "metadata": {},
   "outputs": [
    {
     "name": "stdout",
     "output_type": "stream",
     "text": [
      "dict_keys(['id', 'name', 'contact', 'location', 'canonicalUrl', 'categories', 'verified', 'stats', 'price', 'likes', 'dislike', 'ok', 'allowMenuUrlEdit', 'beenHere', 'specials', 'photos', 'reasons', 'hereNow', 'createdAt', 'tips', 'shortUrl', 'timeZone', 'listed', 'seasonalHours', 'pageUpdates', 'inbox', 'attributes', 'bestPhoto', 'colors'])\n"
     ]
    },
    {
     "data": {
      "text/plain": [
       "{'id': '4dad8ab9043718a63e33e294',\n",
       " 'name': 'Coffee Time',\n",
       " 'contact': {},\n",
       " 'location': {'address': '2195 Midland Ave',\n",
       "  'crossStreet': 'at Progress Ave',\n",
       "  'lat': 43.773307723529335,\n",
       "  'lng': -79.27289954044328,\n",
       "  'labeledLatLngs': [{'label': 'display',\n",
       "    'lat': 43.773307723529335,\n",
       "    'lng': -79.27289954044328}],\n",
       "  'cc': 'CA',\n",
       "  'city': 'Toronto',\n",
       "  'state': 'ON',\n",
       "  'country': 'Canada',\n",
       "  'formattedAddress': ['2195 Midland Ave (at Progress Ave)',\n",
       "   'Toronto ON',\n",
       "   'Canada']},\n",
       " 'canonicalUrl': 'https://foursquare.com/v/coffee-time/4dad8ab9043718a63e33e294',\n",
       " 'categories': [{'id': '4bf58dd8d48988d1e0931735',\n",
       "   'name': 'Coffee Shop',\n",
       "   'pluralName': 'Coffee Shops',\n",
       "   'shortName': 'Coffee Shop',\n",
       "   'icon': {'prefix': 'https://ss3.4sqi.net/img/categories_v2/food/coffeeshop_',\n",
       "    'suffix': '.png'},\n",
       "   'primary': True}],\n",
       " 'verified': False,\n",
       " 'stats': {'tipCount': 1},\n",
       " 'price': {'tier': 1, 'message': 'Cheap', 'currency': '$'},\n",
       " 'likes': {'count': 3,\n",
       "  'groups': [{'type': 'others',\n",
       "    'count': 3,\n",
       "    'items': [{'id': '409557238',\n",
       "      'firstName': 'Dagmar',\n",
       "      'lastName': 'S',\n",
       "      'photo': {'prefix': 'https://fastly.4sqi.net/img/user/',\n",
       "       'suffix': '/409557238_PHMyqMX1_9FXja1H1QWXnf6LDL5GXCHqEWRU_gB3soBImoYGImVXIAoc90bgmHzSLlDTSrMiK.jpg'}},\n",
       "     {'id': '6773183',\n",
       "      'firstName': 'Thilaknath',\n",
       "      'lastName': 'A',\n",
       "      'photo': {'prefix': 'https://fastly.4sqi.net/img/user/',\n",
       "       'suffix': '/6773183-EIDZMIR3U2MCASZF.jpg'}},\n",
       "     {'id': '4935263',\n",
       "      'firstName': 'Benjamin',\n",
       "      'photo': {'prefix': 'https://fastly.4sqi.net/img/user/',\n",
       "       'suffix': '/UFUGTN4QHKJUNKUK.jpg'}}]}],\n",
       "  'summary': '3 Likes'},\n",
       " 'dislike': False,\n",
       " 'ok': False,\n",
       " 'allowMenuUrlEdit': True,\n",
       " 'beenHere': {'count': 0,\n",
       "  'unconfirmedCount': 0,\n",
       "  'marked': False,\n",
       "  'lastCheckinExpiredAt': 0},\n",
       " 'specials': {'count': 0, 'items': []},\n",
       " 'photos': {'count': 2,\n",
       "  'groups': [{'type': 'venue',\n",
       "    'name': 'Venue photos',\n",
       "    'count': 2,\n",
       "    'items': [{'id': '56c0d423cd1019b9ce91c44f',\n",
       "      'createdAt': 1455477795,\n",
       "      'source': {'name': 'Swarm for Android',\n",
       "       'url': 'https://www.swarmapp.com'},\n",
       "      'prefix': 'https://fastly.4sqi.net/img/general/',\n",
       "      'suffix': '/149265055_IX7B24DDRtFJOpqXkTAJPUB9PCpb37D0hXwzMPdS_pY.jpg',\n",
       "      'width': 540,\n",
       "      'height': 960,\n",
       "      'user': {'id': '149265055',\n",
       "       'firstName': 'Andrew',\n",
       "       'lastName': 'B',\n",
       "       'photo': {'prefix': 'https://fastly.4sqi.net/img/user/',\n",
       "        'suffix': '/149265055-C54MX5YRC4BLBM0E.jpg'}},\n",
       "      'visibility': 'public'}]}]},\n",
       " 'reasons': {'count': 0, 'items': []},\n",
       " 'hereNow': {'count': 0, 'summary': 'Nobody here', 'groups': []},\n",
       " 'createdAt': 1303218873,\n",
       " 'tips': {'count': 1,\n",
       "  'groups': [{'type': 'others',\n",
       "    'name': 'All tips',\n",
       "    'count': 1,\n",
       "    'items': [{'id': '51f30b84498eaf5718b5e7e2',\n",
       "      'createdAt': 1374882692,\n",
       "      'text': 'Good food, good times',\n",
       "      'type': 'user',\n",
       "      'canonicalUrl': 'https://foursquare.com/item/51f30b84498eaf5718b5e7e2',\n",
       "      'lang': 'en',\n",
       "      'likes': {'count': 1,\n",
       "       'groups': [{'type': 'others',\n",
       "         'count': 1,\n",
       "         'items': [{'id': '4935263',\n",
       "           'firstName': 'Benjamin',\n",
       "           'photo': {'prefix': 'https://fastly.4sqi.net/img/user/',\n",
       "            'suffix': '/UFUGTN4QHKJUNKUK.jpg'}}]}],\n",
       "       'summary': '1 like'},\n",
       "      'logView': True,\n",
       "      'agreeCount': 1,\n",
       "      'disagreeCount': 0,\n",
       "      'todo': {'count': 0},\n",
       "      'user': {'id': '8131699',\n",
       "       'firstName': 'Kris',\n",
       "       'lastName': 'M',\n",
       "       'photo': {'prefix': 'https://fastly.4sqi.net/img/user/',\n",
       "        'suffix': '/4D5M0MQJ00KKOBPY.jpg'}}}]}]},\n",
       " 'shortUrl': 'http://4sq.com/eZMEEC',\n",
       " 'timeZone': 'America/Toronto',\n",
       " 'listed': {'count': 0,\n",
       "  'groups': [{'type': 'others',\n",
       "    'name': 'Lists from other people',\n",
       "    'count': 0,\n",
       "    'items': []}]},\n",
       " 'seasonalHours': [],\n",
       " 'pageUpdates': {'count': 0, 'items': []},\n",
       " 'inbox': {'count': 0, 'items': []},\n",
       " 'attributes': {'groups': [{'type': 'price',\n",
       "    'name': 'Price',\n",
       "    'summary': '$',\n",
       "    'count': 1,\n",
       "    'items': [{'displayName': 'Price', 'displayValue': '$', 'priceTier': 1}]},\n",
       "   {'type': 'payments',\n",
       "    'name': 'Credit Cards',\n",
       "    'summary': 'Credit Cards',\n",
       "    'count': 5,\n",
       "    'items': [{'displayName': 'Credit Cards', 'displayValue': 'Yes'}]},\n",
       "   {'type': 'outdoorSeating',\n",
       "    'name': 'Outdoor Seating',\n",
       "    'summary': 'Outdoor Seating',\n",
       "    'count': 1,\n",
       "    'items': [{'displayName': 'Outdoor Seating', 'displayValue': 'Yes'}]},\n",
       "   {'type': 'wifi',\n",
       "    'name': 'Wi-Fi',\n",
       "    'summary': 'Wi-Fi',\n",
       "    'count': 1,\n",
       "    'items': [{'displayName': 'Wi-Fi', 'displayValue': 'Yes'}]}]},\n",
       " 'bestPhoto': {'id': '56c0d423cd1019b9ce91c44f',\n",
       "  'createdAt': 1455477795,\n",
       "  'source': {'name': 'Swarm for Android', 'url': 'https://www.swarmapp.com'},\n",
       "  'prefix': 'https://fastly.4sqi.net/img/general/',\n",
       "  'suffix': '/149265055_IX7B24DDRtFJOpqXkTAJPUB9PCpb37D0hXwzMPdS_pY.jpg',\n",
       "  'width': 540,\n",
       "  'height': 960,\n",
       "  'visibility': 'public'},\n",
       " 'colors': {'highlightColor': {'photoId': '56c0d423cd1019b9ce91c44f',\n",
       "   'value': -9404280},\n",
       "  'highlightTextColor': {'photoId': '56c0d423cd1019b9ce91c44f',\n",
       "   'value': -16777216},\n",
       "  'algoVersion': 3}}"
      ]
     },
     "execution_count": 320,
     "metadata": {},
     "output_type": "execute_result"
    }
   ],
   "source": [
    "result = requests.get(url).json()\n",
    "print(result['response']['venue'].keys())\n",
    "result['response']['venue']"
   ]
  },
  {
   "cell_type": "code",
   "execution_count": 321,
   "metadata": {},
   "outputs": [
    {
     "name": "stdout",
     "output_type": "stream",
     "text": [
      "This venue has not been rated yet.\n"
     ]
    }
   ],
   "source": [
    "try:\n",
    "    print(result['response']['venue']['rating'])\n",
    "except:\n",
    "    print('This venue has not been rated yet.')"
   ]
  },
  {
   "cell_type": "markdown",
   "metadata": {},
   "source": [
    "## Bar and Dinner "
   ]
  },
  {
   "cell_type": "code",
   "execution_count": 325,
   "metadata": {},
   "outputs": [
    {
     "name": "stdout",
     "output_type": "stream",
     "text": [
      "Bar .... OK!\n"
     ]
    }
   ],
   "source": [
    "search_query = 'Bar'\n",
    "radius = 500\n",
    "print(search_query + ' .... OK!')"
   ]
  },
  {
   "cell_type": "code",
   "execution_count": 326,
   "metadata": {},
   "outputs": [
    {
     "data": {
      "text/plain": [
       "'https://api.foursquare.com/v2/venues/search?client_id=FXWG412PGZMV0OTDDNYEC2XP2TGWP1ZTH5JD1RCML2OL5CLK&client_secret=RCZUNJDEY0MD0TH0KA5E3EDRLAF1T35JO5GSZNXQKZ0JX4PE&ll=43.7778225,-79.17281405263158&v=20180605&query=Bar&radius=500&limit=100'"
      ]
     },
     "execution_count": 326,
     "metadata": {},
     "output_type": "execute_result"
    }
   ],
   "source": [
    "url = 'https://api.foursquare.com/v2/venues/search?client_id={}&client_secret={}&ll={},{}&v={}&query={}&radius={}&limit={}'.format(CLIENT_ID, CLIENT_SECRET, latitude, longitude, VERSION, search_query, radius, LIMIT)\n",
    "url"
   ]
  },
  {
   "cell_type": "code",
   "execution_count": 327,
   "metadata": {},
   "outputs": [
    {
     "data": {
      "text/plain": [
       "{'meta': {'code': 200, 'requestId': '5ea349ba95feaf001bae0462'},\n",
       " 'response': {'venues': [{'id': '5720ef69498ee3255f58cf41',\n",
       "    'name': 'The Lab Barbell & Social Club',\n",
       "    'location': {'address': '4630 Kingston Rd',\n",
       "     'lat': 43.774775,\n",
       "     'lng': -79.179131,\n",
       "     'labeledLatLngs': [{'label': 'display',\n",
       "       'lat': 43.774775,\n",
       "       'lng': -79.179131}],\n",
       "     'distance': 610,\n",
       "     'postalCode': 'M1E 4Z4',\n",
       "     'cc': 'CA',\n",
       "     'city': 'Scarborough',\n",
       "     'state': 'ON',\n",
       "     'country': 'Canada',\n",
       "     'formattedAddress': ['4630 Kingston Rd',\n",
       "      'Scarborough ON M1E 4Z4',\n",
       "      'Canada']},\n",
       "    'categories': [{'id': '4bf58dd8d48988d175941735',\n",
       "      'name': 'Gym / Fitness Center',\n",
       "      'pluralName': 'Gyms or Fitness Centers',\n",
       "      'shortName': 'Gym / Fitness',\n",
       "      'icon': {'prefix': 'https://ss3.4sqi.net/img/categories_v2/building/gym_',\n",
       "       'suffix': '.png'},\n",
       "      'primary': True}],\n",
       "    'referralId': 'v-1587759841',\n",
       "    'hasPerk': False}]}}"
      ]
     },
     "execution_count": 327,
     "metadata": {},
     "output_type": "execute_result"
    }
   ],
   "source": [
    "results = requests.get(url).json()\n",
    "results"
   ]
  },
  {
   "cell_type": "code",
   "execution_count": 328,
   "metadata": {},
   "outputs": [
    {
     "data": {
      "text/html": [
       "<div>\n",
       "<style scoped>\n",
       "    .dataframe tbody tr th:only-of-type {\n",
       "        vertical-align: middle;\n",
       "    }\n",
       "\n",
       "    .dataframe tbody tr th {\n",
       "        vertical-align: top;\n",
       "    }\n",
       "\n",
       "    .dataframe thead th {\n",
       "        text-align: right;\n",
       "    }\n",
       "</style>\n",
       "<table border=\"1\" class=\"dataframe\">\n",
       "  <thead>\n",
       "    <tr style=\"text-align: right;\">\n",
       "      <th></th>\n",
       "      <th>categories</th>\n",
       "      <th>hasPerk</th>\n",
       "      <th>id</th>\n",
       "      <th>location.address</th>\n",
       "      <th>location.cc</th>\n",
       "      <th>location.city</th>\n",
       "      <th>location.country</th>\n",
       "      <th>location.distance</th>\n",
       "      <th>location.formattedAddress</th>\n",
       "      <th>location.labeledLatLngs</th>\n",
       "      <th>location.lat</th>\n",
       "      <th>location.lng</th>\n",
       "      <th>location.postalCode</th>\n",
       "      <th>location.state</th>\n",
       "      <th>name</th>\n",
       "      <th>referralId</th>\n",
       "    </tr>\n",
       "  </thead>\n",
       "  <tbody>\n",
       "    <tr>\n",
       "      <th>0</th>\n",
       "      <td>[{'id': '4bf58dd8d48988d175941735', 'name': 'Gym / Fitness Center', 'pluralName': 'Gyms or Fitness Centers', 'shortName': 'Gym / Fitness', 'icon': {'prefix': 'https://ss3.4sqi.net/img/categories_v2/building/gym_', 'suffix': '.png'}, 'primary': True}]</td>\n",
       "      <td>False</td>\n",
       "      <td>5720ef69498ee3255f58cf41</td>\n",
       "      <td>4630 Kingston Rd</td>\n",
       "      <td>CA</td>\n",
       "      <td>Scarborough</td>\n",
       "      <td>Canada</td>\n",
       "      <td>610</td>\n",
       "      <td>[4630 Kingston Rd, Scarborough ON M1E 4Z4, Canada]</td>\n",
       "      <td>[{'label': 'display', 'lat': 43.774775, 'lng': -79.179131}]</td>\n",
       "      <td>43.774775</td>\n",
       "      <td>-79.179131</td>\n",
       "      <td>M1E 4Z4</td>\n",
       "      <td>ON</td>\n",
       "      <td>The Lab Barbell &amp; Social Club</td>\n",
       "      <td>v-1587759841</td>\n",
       "    </tr>\n",
       "  </tbody>\n",
       "</table>\n",
       "</div>"
      ],
      "text/plain": [
       "                                                                                                                                                                                                                                                   categories  \\\n",
       "0  [{'id': '4bf58dd8d48988d175941735', 'name': 'Gym / Fitness Center', 'pluralName': 'Gyms or Fitness Centers', 'shortName': 'Gym / Fitness', 'icon': {'prefix': 'https://ss3.4sqi.net/img/categories_v2/building/gym_', 'suffix': '.png'}, 'primary': True}]   \n",
       "\n",
       "   hasPerk                        id  location.address location.cc  \\\n",
       "0  False    5720ef69498ee3255f58cf41  4630 Kingston Rd  CA           \n",
       "\n",
       "  location.city location.country  location.distance  \\\n",
       "0  Scarborough   Canada           610                 \n",
       "\n",
       "                            location.formattedAddress  \\\n",
       "0  [4630 Kingston Rd, Scarborough ON M1E 4Z4, Canada]   \n",
       "\n",
       "                                       location.labeledLatLngs  location.lat  \\\n",
       "0  [{'label': 'display', 'lat': 43.774775, 'lng': -79.179131}]  43.774775      \n",
       "\n",
       "   location.lng location.postalCode location.state  \\\n",
       "0 -79.179131     M1E 4Z4             ON              \n",
       "\n",
       "                            name    referralId  \n",
       "0  The Lab Barbell & Social Club  v-1587759841  "
      ]
     },
     "execution_count": 328,
     "metadata": {},
     "output_type": "execute_result"
    }
   ],
   "source": [
    "venues = results['response']['venues']\n",
    "\n",
    "dataframe = json_normalize(venues)\n",
    "dataframe.head()"
   ]
  },
  {
   "cell_type": "code",
   "execution_count": 329,
   "metadata": {},
   "outputs": [
    {
     "data": {
      "text/html": [
       "<div>\n",
       "<style scoped>\n",
       "    .dataframe tbody tr th:only-of-type {\n",
       "        vertical-align: middle;\n",
       "    }\n",
       "\n",
       "    .dataframe tbody tr th {\n",
       "        vertical-align: top;\n",
       "    }\n",
       "\n",
       "    .dataframe thead th {\n",
       "        text-align: right;\n",
       "    }\n",
       "</style>\n",
       "<table border=\"1\" class=\"dataframe\">\n",
       "  <thead>\n",
       "    <tr style=\"text-align: right;\">\n",
       "      <th></th>\n",
       "      <th>name</th>\n",
       "      <th>categories</th>\n",
       "      <th>address</th>\n",
       "      <th>cc</th>\n",
       "      <th>city</th>\n",
       "      <th>country</th>\n",
       "      <th>distance</th>\n",
       "      <th>formattedAddress</th>\n",
       "      <th>labeledLatLngs</th>\n",
       "      <th>lat</th>\n",
       "      <th>lng</th>\n",
       "      <th>postalCode</th>\n",
       "      <th>state</th>\n",
       "      <th>id</th>\n",
       "    </tr>\n",
       "  </thead>\n",
       "  <tbody>\n",
       "    <tr>\n",
       "      <th>0</th>\n",
       "      <td>The Lab Barbell &amp; Social Club</td>\n",
       "      <td>Gym / Fitness Center</td>\n",
       "      <td>4630 Kingston Rd</td>\n",
       "      <td>CA</td>\n",
       "      <td>Scarborough</td>\n",
       "      <td>Canada</td>\n",
       "      <td>610</td>\n",
       "      <td>[4630 Kingston Rd, Scarborough ON M1E 4Z4, Canada]</td>\n",
       "      <td>[{'label': 'display', 'lat': 43.774775, 'lng': -79.179131}]</td>\n",
       "      <td>43.774775</td>\n",
       "      <td>-79.179131</td>\n",
       "      <td>M1E 4Z4</td>\n",
       "      <td>ON</td>\n",
       "      <td>5720ef69498ee3255f58cf41</td>\n",
       "    </tr>\n",
       "  </tbody>\n",
       "</table>\n",
       "</div>"
      ],
      "text/plain": [
       "                            name            categories           address  cc  \\\n",
       "0  The Lab Barbell & Social Club  Gym / Fitness Center  4630 Kingston Rd  CA   \n",
       "\n",
       "          city country  distance  \\\n",
       "0  Scarborough  Canada  610        \n",
       "\n",
       "                                     formattedAddress  \\\n",
       "0  [4630 Kingston Rd, Scarborough ON M1E 4Z4, Canada]   \n",
       "\n",
       "                                                labeledLatLngs        lat  \\\n",
       "0  [{'label': 'display', 'lat': 43.774775, 'lng': -79.179131}]  43.774775   \n",
       "\n",
       "         lng postalCode state                        id  \n",
       "0 -79.179131  M1E 4Z4    ON    5720ef69498ee3255f58cf41  "
      ]
     },
     "execution_count": 329,
     "metadata": {},
     "output_type": "execute_result"
    }
   ],
   "source": [
    "filtered_columns = ['name', 'categories'] + [col for col in dataframe.columns if col.startswith('location.')] + ['id']\n",
    "dataframe_filtered = dataframe.loc[:, filtered_columns]\n",
    "\n",
    "\n",
    "def get_category_type(row):\n",
    "    try:\n",
    "        categories_list = row['categories']\n",
    "    except:\n",
    "        categories_list = row['venue.categories']\n",
    "        \n",
    "    if len(categories_list) == 0:\n",
    "        return None\n",
    "    else:\n",
    "        return categories_list[0]['name']\n",
    "\n",
    "\n",
    "dataframe_filtered['categories'] = dataframe_filtered.apply(get_category_type, axis=1)\n",
    "\n",
    "\n",
    "dataframe_filtered.columns = [column.split('.')[-1] for column in dataframe_filtered.columns]\n",
    "\n",
    "dataframe_filtered"
   ]
  },
  {
   "cell_type": "code",
   "execution_count": 330,
   "metadata": {},
   "outputs": [
    {
     "data": {
      "text/plain": [
       "0    The Lab Barbell & Social Club\n",
       "Name: name, dtype: object"
      ]
     },
     "execution_count": 330,
     "metadata": {},
     "output_type": "execute_result"
    }
   ],
   "source": [
    "dataframe_filtered.name"
   ]
  },
  {
   "cell_type": "code",
   "execution_count": 331,
   "metadata": {},
   "outputs": [
    {
     "data": {
      "text/html": [
       "<div style=\"width:100%;\"><div style=\"position:relative;width:100%;height:0;padding-bottom:60%;\"><iframe src=\"about:blank\" style=\"position:absolute;width:100%;height:100%;left:0;top:0;border:none !important;\" data-html=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 onload=\"this.contentDocument.open();this.contentDocument.write(atob(this.getAttribute('data-html')));this.contentDocument.close();\" allowfullscreen webkitallowfullscreen mozallowfullscreen></iframe></div></div>"
      ],
      "text/plain": [
       "<folium.folium.Map at 0x2317da292e8>"
      ]
     },
     "execution_count": 331,
     "metadata": {},
     "output_type": "execute_result"
    }
   ],
   "source": [
    "venues_map = folium.Map(location=[latitude, longitude], zoom_start=13) \n",
    "\n",
    "# add a red circle marker to represent the Conrad Hotel\n",
    "folium.features.CircleMarker(\n",
    "    [latitude, longitude],\n",
    "    radius=10,\n",
    "    color='red',\n",
    "    popup='Hotel',\n",
    "    fill = True,\n",
    "    fill_color = 'red',\n",
    "    fill_opacity = 0.6\n",
    ").add_to(venues_map)\n",
    "\n",
    "# add the Italian restaurants as blue circle markers\n",
    "for lat, lng, label in zip(dataframe_filtered.lat, dataframe_filtered.lng, dataframe_filtered.categories):\n",
    "    folium.features.CircleMarker(\n",
    "        [lat, lng],\n",
    "        radius=5,\n",
    "        color='blue',\n",
    "        popup=label,\n",
    "        fill = True,\n",
    "        fill_color='blue',\n",
    "        fill_opacity=0.6\n",
    "    ).add_to(venues_map)\n",
    "\n",
    "venues_map"
   ]
  },
  {
   "cell_type": "code",
   "execution_count": 332,
   "metadata": {},
   "outputs": [
    {
     "data": {
      "text/plain": [
       "'https://api.foursquare.com/v2/venues/4dad8ab9043718a63e33e294?client_id=FXWG412PGZMV0OTDDNYEC2XP2TGWP1ZTH5JD1RCML2OL5CLK&client_secret=RCZUNJDEY0MD0TH0KA5E3EDRLAF1T35JO5GSZNXQKZ0JX4PE&v=20180605'"
      ]
     },
     "execution_count": 332,
     "metadata": {},
     "output_type": "execute_result"
    }
   ],
   "source": [
    "venue_id = '4dad8ab9043718a63e33e294' \n",
    "url = 'https://api.foursquare.com/v2/venues/{}?client_id={}&client_secret={}&v={}'.format(venue_id, CLIENT_ID, CLIENT_SECRET, VERSION)\n",
    "url"
   ]
  },
  {
   "cell_type": "code",
   "execution_count": 333,
   "metadata": {},
   "outputs": [
    {
     "name": "stdout",
     "output_type": "stream",
     "text": [
      "dict_keys(['id', 'name', 'contact', 'location', 'canonicalUrl', 'categories', 'verified', 'stats', 'price', 'likes', 'dislike', 'ok', 'allowMenuUrlEdit', 'beenHere', 'specials', 'photos', 'reasons', 'hereNow', 'createdAt', 'tips', 'shortUrl', 'timeZone', 'listed', 'seasonalHours', 'pageUpdates', 'inbox', 'attributes', 'bestPhoto', 'colors'])\n"
     ]
    },
    {
     "data": {
      "text/plain": [
       "{'id': '4dad8ab9043718a63e33e294',\n",
       " 'name': 'Coffee Time',\n",
       " 'contact': {},\n",
       " 'location': {'address': '2195 Midland Ave',\n",
       "  'crossStreet': 'at Progress Ave',\n",
       "  'lat': 43.773307723529335,\n",
       "  'lng': -79.27289954044328,\n",
       "  'labeledLatLngs': [{'label': 'display',\n",
       "    'lat': 43.773307723529335,\n",
       "    'lng': -79.27289954044328}],\n",
       "  'cc': 'CA',\n",
       "  'city': 'Toronto',\n",
       "  'state': 'ON',\n",
       "  'country': 'Canada',\n",
       "  'formattedAddress': ['2195 Midland Ave (at Progress Ave)',\n",
       "   'Toronto ON',\n",
       "   'Canada']},\n",
       " 'canonicalUrl': 'https://foursquare.com/v/coffee-time/4dad8ab9043718a63e33e294',\n",
       " 'categories': [{'id': '4bf58dd8d48988d1e0931735',\n",
       "   'name': 'Coffee Shop',\n",
       "   'pluralName': 'Coffee Shops',\n",
       "   'shortName': 'Coffee Shop',\n",
       "   'icon': {'prefix': 'https://ss3.4sqi.net/img/categories_v2/food/coffeeshop_',\n",
       "    'suffix': '.png'},\n",
       "   'primary': True}],\n",
       " 'verified': False,\n",
       " 'stats': {'tipCount': 1},\n",
       " 'price': {'tier': 1, 'message': 'Cheap', 'currency': '$'},\n",
       " 'likes': {'count': 3,\n",
       "  'groups': [{'type': 'others',\n",
       "    'count': 3,\n",
       "    'items': [{'id': '409557238',\n",
       "      'firstName': 'Dagmar',\n",
       "      'lastName': 'S',\n",
       "      'photo': {'prefix': 'https://fastly.4sqi.net/img/user/',\n",
       "       'suffix': '/409557238_PHMyqMX1_9FXja1H1QWXnf6LDL5GXCHqEWRU_gB3soBImoYGImVXIAoc90bgmHzSLlDTSrMiK.jpg'}},\n",
       "     {'id': '6773183',\n",
       "      'firstName': 'Thilaknath',\n",
       "      'lastName': 'A',\n",
       "      'photo': {'prefix': 'https://fastly.4sqi.net/img/user/',\n",
       "       'suffix': '/6773183-EIDZMIR3U2MCASZF.jpg'}},\n",
       "     {'id': '4935263',\n",
       "      'firstName': 'Benjamin',\n",
       "      'photo': {'prefix': 'https://fastly.4sqi.net/img/user/',\n",
       "       'suffix': '/UFUGTN4QHKJUNKUK.jpg'}}]}],\n",
       "  'summary': '3 Likes'},\n",
       " 'dislike': False,\n",
       " 'ok': False,\n",
       " 'allowMenuUrlEdit': True,\n",
       " 'beenHere': {'count': 0,\n",
       "  'unconfirmedCount': 0,\n",
       "  'marked': False,\n",
       "  'lastCheckinExpiredAt': 0},\n",
       " 'specials': {'count': 0, 'items': []},\n",
       " 'photos': {'count': 2,\n",
       "  'groups': [{'type': 'venue',\n",
       "    'name': 'Venue photos',\n",
       "    'count': 2,\n",
       "    'items': [{'id': '56c0d423cd1019b9ce91c44f',\n",
       "      'createdAt': 1455477795,\n",
       "      'source': {'name': 'Swarm for Android',\n",
       "       'url': 'https://www.swarmapp.com'},\n",
       "      'prefix': 'https://fastly.4sqi.net/img/general/',\n",
       "      'suffix': '/149265055_IX7B24DDRtFJOpqXkTAJPUB9PCpb37D0hXwzMPdS_pY.jpg',\n",
       "      'width': 540,\n",
       "      'height': 960,\n",
       "      'user': {'id': '149265055',\n",
       "       'firstName': 'Andrew',\n",
       "       'lastName': 'B',\n",
       "       'photo': {'prefix': 'https://fastly.4sqi.net/img/user/',\n",
       "        'suffix': '/149265055-C54MX5YRC4BLBM0E.jpg'}},\n",
       "      'visibility': 'public'}]}]},\n",
       " 'reasons': {'count': 0, 'items': []},\n",
       " 'hereNow': {'count': 0, 'summary': 'Nobody here', 'groups': []},\n",
       " 'createdAt': 1303218873,\n",
       " 'tips': {'count': 1,\n",
       "  'groups': [{'type': 'others',\n",
       "    'name': 'All tips',\n",
       "    'count': 1,\n",
       "    'items': [{'id': '51f30b84498eaf5718b5e7e2',\n",
       "      'createdAt': 1374882692,\n",
       "      'text': 'Good food, good times',\n",
       "      'type': 'user',\n",
       "      'canonicalUrl': 'https://foursquare.com/item/51f30b84498eaf5718b5e7e2',\n",
       "      'lang': 'en',\n",
       "      'likes': {'count': 1,\n",
       "       'groups': [{'type': 'others',\n",
       "         'count': 1,\n",
       "         'items': [{'id': '4935263',\n",
       "           'firstName': 'Benjamin',\n",
       "           'photo': {'prefix': 'https://fastly.4sqi.net/img/user/',\n",
       "            'suffix': '/UFUGTN4QHKJUNKUK.jpg'}}]}],\n",
       "       'summary': '1 like'},\n",
       "      'logView': True,\n",
       "      'agreeCount': 1,\n",
       "      'disagreeCount': 0,\n",
       "      'todo': {'count': 0},\n",
       "      'user': {'id': '8131699',\n",
       "       'firstName': 'Kris',\n",
       "       'lastName': 'M',\n",
       "       'photo': {'prefix': 'https://fastly.4sqi.net/img/user/',\n",
       "        'suffix': '/4D5M0MQJ00KKOBPY.jpg'}}}]}]},\n",
       " 'shortUrl': 'http://4sq.com/eZMEEC',\n",
       " 'timeZone': 'America/Toronto',\n",
       " 'listed': {'count': 0,\n",
       "  'groups': [{'type': 'others',\n",
       "    'name': 'Lists from other people',\n",
       "    'count': 0,\n",
       "    'items': []}]},\n",
       " 'seasonalHours': [],\n",
       " 'pageUpdates': {'count': 0, 'items': []},\n",
       " 'inbox': {'count': 0, 'items': []},\n",
       " 'attributes': {'groups': [{'type': 'price',\n",
       "    'name': 'Price',\n",
       "    'summary': '$',\n",
       "    'count': 1,\n",
       "    'items': [{'displayName': 'Price', 'displayValue': '$', 'priceTier': 1}]},\n",
       "   {'type': 'payments',\n",
       "    'name': 'Credit Cards',\n",
       "    'summary': 'Credit Cards',\n",
       "    'count': 5,\n",
       "    'items': [{'displayName': 'Credit Cards', 'displayValue': 'Yes'}]},\n",
       "   {'type': 'outdoorSeating',\n",
       "    'name': 'Outdoor Seating',\n",
       "    'summary': 'Outdoor Seating',\n",
       "    'count': 1,\n",
       "    'items': [{'displayName': 'Outdoor Seating', 'displayValue': 'Yes'}]},\n",
       "   {'type': 'wifi',\n",
       "    'name': 'Wi-Fi',\n",
       "    'summary': 'Wi-Fi',\n",
       "    'count': 1,\n",
       "    'items': [{'displayName': 'Wi-Fi', 'displayValue': 'Yes'}]}]},\n",
       " 'bestPhoto': {'id': '56c0d423cd1019b9ce91c44f',\n",
       "  'createdAt': 1455477795,\n",
       "  'source': {'name': 'Swarm for Android', 'url': 'https://www.swarmapp.com'},\n",
       "  'prefix': 'https://fastly.4sqi.net/img/general/',\n",
       "  'suffix': '/149265055_IX7B24DDRtFJOpqXkTAJPUB9PCpb37D0hXwzMPdS_pY.jpg',\n",
       "  'width': 540,\n",
       "  'height': 960,\n",
       "  'visibility': 'public'},\n",
       " 'colors': {'highlightColor': {'photoId': '56c0d423cd1019b9ce91c44f',\n",
       "   'value': -9404280},\n",
       "  'highlightTextColor': {'photoId': '56c0d423cd1019b9ce91c44f',\n",
       "   'value': -16777216},\n",
       "  'algoVersion': 3}}"
      ]
     },
     "execution_count": 333,
     "metadata": {},
     "output_type": "execute_result"
    }
   ],
   "source": [
    "result = requests.get(url).json()\n",
    "print(result['response']['venue'].keys())\n",
    "result['response']['venue']"
   ]
  },
  {
   "cell_type": "code",
   "execution_count": 334,
   "metadata": {},
   "outputs": [
    {
     "name": "stdout",
     "output_type": "stream",
     "text": [
      "This venue has not been rated yet.\n"
     ]
    }
   ],
   "source": [
    "try:\n",
    "    print(result['response']['venue']['rating'])\n",
    "except:\n",
    "    print('This venue has not been rated yet.')"
   ]
  },
  {
   "cell_type": "markdown",
   "metadata": {},
   "source": [
    "## Now we can create a matrix data frame to show which hotel has the least distances from a coffee shop, a brunch point and a dinner place. "
   ]
  },
  {
   "cell_type": "code",
   "execution_count": 335,
   "metadata": {},
   "outputs": [],
   "source": [
    "data = [['Monte Carlo Inn', 'Warden Ave', 1006, 93, 847], ['Days inn', 'Kingston Rd', 143, 667, 220], ['Delta Hotels', 'Kennedy Rd', 157, 86, 7], ['Knights Inn', 'Kingston Rd', 677, 794, 610]]"
   ]
  },
  {
   "cell_type": "code",
   "execution_count": 336,
   "metadata": {},
   "outputs": [],
   "source": [
    "hotel = pd.DataFrame(data, columns = ['Hotel_name', 'Address', 'Coffee shop distance', 'Brunch distance', 'Bar Dinner']) "
   ]
  },
  {
   "cell_type": "code",
   "execution_count": 337,
   "metadata": {},
   "outputs": [
    {
     "data": {
      "text/html": [
       "<div>\n",
       "<style scoped>\n",
       "    .dataframe tbody tr th:only-of-type {\n",
       "        vertical-align: middle;\n",
       "    }\n",
       "\n",
       "    .dataframe tbody tr th {\n",
       "        vertical-align: top;\n",
       "    }\n",
       "\n",
       "    .dataframe thead th {\n",
       "        text-align: right;\n",
       "    }\n",
       "</style>\n",
       "<table border=\"1\" class=\"dataframe\">\n",
       "  <thead>\n",
       "    <tr style=\"text-align: right;\">\n",
       "      <th></th>\n",
       "      <th>Hotel_name</th>\n",
       "      <th>Address</th>\n",
       "      <th>Coffee shop distance</th>\n",
       "      <th>Brunch distance</th>\n",
       "      <th>Bar Dinner</th>\n",
       "    </tr>\n",
       "  </thead>\n",
       "  <tbody>\n",
       "    <tr>\n",
       "      <th>0</th>\n",
       "      <td>Monte Carlo Inn</td>\n",
       "      <td>Warden Ave</td>\n",
       "      <td>1006</td>\n",
       "      <td>93</td>\n",
       "      <td>847</td>\n",
       "    </tr>\n",
       "    <tr>\n",
       "      <th>1</th>\n",
       "      <td>Days inn</td>\n",
       "      <td>Kingston Rd</td>\n",
       "      <td>143</td>\n",
       "      <td>667</td>\n",
       "      <td>220</td>\n",
       "    </tr>\n",
       "    <tr>\n",
       "      <th>2</th>\n",
       "      <td>Delta Hotels</td>\n",
       "      <td>Kennedy Rd</td>\n",
       "      <td>157</td>\n",
       "      <td>86</td>\n",
       "      <td>7</td>\n",
       "    </tr>\n",
       "    <tr>\n",
       "      <th>3</th>\n",
       "      <td>Knights Inn</td>\n",
       "      <td>Kingston Rd</td>\n",
       "      <td>677</td>\n",
       "      <td>794</td>\n",
       "      <td>610</td>\n",
       "    </tr>\n",
       "  </tbody>\n",
       "</table>\n",
       "</div>"
      ],
      "text/plain": [
       "        Hotel_name      Address  Coffee shop distance  Brunch distance  \\\n",
       "0  Monte Carlo Inn  Warden Ave   1006                  93                \n",
       "1  Days inn         Kingston Rd  143                   667               \n",
       "2  Delta Hotels     Kennedy Rd   157                   86                \n",
       "3  Knights Inn      Kingston Rd  677                   794               \n",
       "\n",
       "   Bar Dinner  \n",
       "0  847         \n",
       "1  220         \n",
       "2  7           \n",
       "3  610         "
      ]
     },
     "execution_count": 337,
     "metadata": {},
     "output_type": "execute_result"
    }
   ],
   "source": [
    "hotel"
   ]
  },
  {
   "cell_type": "markdown",
   "metadata": {},
   "source": [
    "## Calling a function to sum up all the distances from the hotel "
   ]
  },
  {
   "cell_type": "code",
   "execution_count": 338,
   "metadata": {},
   "outputs": [],
   "source": [
    "def cal(x,y,z):\n",
    "    total= x+y+z\n",
    "    return total\n",
    "    "
   ]
  },
  {
   "cell_type": "code",
   "execution_count": 348,
   "metadata": {},
   "outputs": [],
   "source": [
    "dg= cal(hotel['Coffee shop distance'], hotel['Brunch distance'], hotel['Bar Dinner'])"
   ]
  },
  {
   "cell_type": "code",
   "execution_count": 349,
   "metadata": {},
   "outputs": [
    {
     "data": {
      "text/plain": [
       "0    1946\n",
       "1    1030\n",
       "2    250 \n",
       "3    2081\n",
       "dtype: int64"
      ]
     },
     "execution_count": 349,
     "metadata": {},
     "output_type": "execute_result"
    }
   ],
   "source": [
    "dg"
   ]
  },
  {
   "cell_type": "code",
   "execution_count": 357,
   "metadata": {},
   "outputs": [
    {
     "name": "stdout",
     "output_type": "stream",
     "text": [
      "The least distances for the coffee shop, brunch and dinner place is 250 and the hotel is Delta Hotels\n"
     ]
    }
   ],
   "source": [
    "print('The least distances for the coffee shop, brunch and dinner place is {} and the hotel is Delta Hotels'.format(min(dg)))"
   ]
  },
  {
   "cell_type": "markdown",
   "metadata": {},
   "source": [
    "## As we can see from the function, the best option here is Delta house by Marriott which holds the best proximity from each of our interest- Coffee shop, brunch point and a Bar and dinner place"
   ]
  },
  {
   "cell_type": "markdown",
   "metadata": {},
   "source": [
    "."
   ]
  },
  {
   "cell_type": "markdown",
   "metadata": {},
   "source": [
    "# BONUS POINT"
   ]
  },
  {
   "cell_type": "markdown",
   "metadata": {},
   "source": [
    "## Now we are going to suggest 2 tourist places of interest near the Delta house hotel "
   ]
  },
  {
   "cell_type": "markdown",
   "metadata": {},
   "source": [
    "."
   ]
  },
  {
   "cell_type": "code",
   "execution_count": 3,
   "metadata": {},
   "outputs": [
    {
     "name": "stdout",
     "output_type": "stream",
     "text": [
      "43.643082 -79.38387181137503\n"
     ]
    }
   ],
   "source": [
    "address = 'Delta house, Toronto'\n",
    "\n",
    "geolocator = Nominatim(user_agent=\"foursquare_agent\")\n",
    "location = geolocator.geocode(address)\n",
    "latitude = location.latitude\n",
    "longitude = location.longitude\n",
    "print(latitude, longitude)"
   ]
  },
  {
   "cell_type": "code",
   "execution_count": 5,
   "metadata": {},
   "outputs": [
    {
     "name": "stdout",
     "output_type": "stream",
     "text": [
      "Tourist .... OK!\n"
     ]
    }
   ],
   "source": [
    "search_query = 'Tourist'\n",
    "radius = 1000\n",
    "print(search_query + ' .... OK!')"
   ]
  },
  {
   "cell_type": "code",
   "execution_count": 9,
   "metadata": {},
   "outputs": [
    {
     "data": {
      "text/plain": [
       "'https://api.foursquare.com/v2/venues/search?client_id=FXWG412PGZMV0OTDDNYEC2XP2TGWP1ZTH5JD1RCML2OL5CLK&client_secret=RCZUNJDEY0MD0TH0KA5E3EDRLAF1T35JO5GSZNXQKZ0JX4PE&ll=43.643082,-79.38387181137503&v=20180605&query=Tourist&radius=1000&limit=100'"
      ]
     },
     "execution_count": 9,
     "metadata": {},
     "output_type": "execute_result"
    }
   ],
   "source": [
    "LIMIT= 100\n",
    "url = 'https://api.foursquare.com/v2/venues/search?client_id={}&client_secret={}&ll={},{}&v={}&query={}&radius={}&limit={}'.format(CLIENT_ID, CLIENT_SECRET, latitude, longitude, VERSION, search_query, radius, LIMIT)\n",
    "url"
   ]
  },
  {
   "cell_type": "code",
   "execution_count": 10,
   "metadata": {},
   "outputs": [
    {
     "data": {
      "text/plain": [
       "{'meta': {'code': 200, 'requestId': '5ea42ff283525f001b281296'},\n",
       " 'response': {'venues': [{'id': '4c29077f3492a593d04cb828',\n",
       "    'name': 'Local Resident and Tourist Kettle',\n",
       "    'location': {'address': 'Queen St West',\n",
       "     'crossStreet': 'Spadina',\n",
       "     'lat': 43.64896344297954,\n",
       "     'lng': -79.39682006835938,\n",
       "     'labeledLatLngs': [{'label': 'display',\n",
       "       'lat': 43.64896344297954,\n",
       "       'lng': -79.39682006835938}],\n",
       "     'distance': 1231,\n",
       "     'cc': 'CA',\n",
       "     'city': 'Toronto',\n",
       "     'state': 'ON',\n",
       "     'country': 'Canada',\n",
       "     'formattedAddress': ['Queen St West (Spadina)', 'Toronto ON', 'Canada']},\n",
       "    'categories': [{'id': '4bf58dd8d48988d126941735',\n",
       "      'name': 'Government Building',\n",
       "      'pluralName': 'Government Buildings',\n",
       "      'shortName': 'Government',\n",
       "      'icon': {'prefix': 'https://ss3.4sqi.net/img/categories_v2/building/government_',\n",
       "       'suffix': '.png'},\n",
       "      'primary': True}],\n",
       "    'referralId': 'v-1587818546',\n",
       "    'hasPerk': False},\n",
       "   {'id': '5b119a2251950e002c1b7c4b',\n",
       "    'name': 'Japan National Tourist Organization - JNTO',\n",
       "    'location': {'address': '481 University Ave.',\n",
       "     'lat': 43.650894,\n",
       "     'lng': -79.386563,\n",
       "     'labeledLatLngs': [{'label': 'display',\n",
       "       'lat': 43.650894,\n",
       "       'lng': -79.386563}],\n",
       "     'distance': 896,\n",
       "     'postalCode': 'M5G 2E9',\n",
       "     'cc': 'CA',\n",
       "     'city': 'Toronto',\n",
       "     'state': 'ON',\n",
       "     'country': 'Canada',\n",
       "     'formattedAddress': ['481 University Ave.',\n",
       "      'Toronto ON M5G 2E9',\n",
       "      'Canada']},\n",
       "    'categories': [{'id': '4f4530164b9074f6e4fb00ff',\n",
       "      'name': 'Tourist Information Center',\n",
       "      'pluralName': 'Tourist Information Centers',\n",
       "      'shortName': 'Tourist Information',\n",
       "      'icon': {'prefix': 'https://ss3.4sqi.net/img/categories_v2/travel/touristinformation_',\n",
       "       'suffix': '.png'},\n",
       "      'primary': True}],\n",
       "    'referralId': 'v-1587818546',\n",
       "    'hasPerk': False}]}}"
      ]
     },
     "execution_count": 10,
     "metadata": {},
     "output_type": "execute_result"
    }
   ],
   "source": [
    "results = requests.get(url).json()\n",
    "results"
   ]
  },
  {
   "cell_type": "code",
   "execution_count": 11,
   "metadata": {},
   "outputs": [
    {
     "data": {
      "text/html": [
       "<div>\n",
       "<style scoped>\n",
       "    .dataframe tbody tr th:only-of-type {\n",
       "        vertical-align: middle;\n",
       "    }\n",
       "\n",
       "    .dataframe tbody tr th {\n",
       "        vertical-align: top;\n",
       "    }\n",
       "\n",
       "    .dataframe thead th {\n",
       "        text-align: right;\n",
       "    }\n",
       "</style>\n",
       "<table border=\"1\" class=\"dataframe\">\n",
       "  <thead>\n",
       "    <tr style=\"text-align: right;\">\n",
       "      <th></th>\n",
       "      <th>categories</th>\n",
       "      <th>hasPerk</th>\n",
       "      <th>id</th>\n",
       "      <th>location.address</th>\n",
       "      <th>location.cc</th>\n",
       "      <th>location.city</th>\n",
       "      <th>location.country</th>\n",
       "      <th>location.crossStreet</th>\n",
       "      <th>location.distance</th>\n",
       "      <th>location.formattedAddress</th>\n",
       "      <th>location.labeledLatLngs</th>\n",
       "      <th>location.lat</th>\n",
       "      <th>location.lng</th>\n",
       "      <th>location.postalCode</th>\n",
       "      <th>location.state</th>\n",
       "      <th>name</th>\n",
       "      <th>referralId</th>\n",
       "    </tr>\n",
       "  </thead>\n",
       "  <tbody>\n",
       "    <tr>\n",
       "      <th>0</th>\n",
       "      <td>[{'id': '4bf58dd8d48988d126941735', 'name': 'G...</td>\n",
       "      <td>False</td>\n",
       "      <td>4c29077f3492a593d04cb828</td>\n",
       "      <td>Queen St West</td>\n",
       "      <td>CA</td>\n",
       "      <td>Toronto</td>\n",
       "      <td>Canada</td>\n",
       "      <td>Spadina</td>\n",
       "      <td>1231</td>\n",
       "      <td>[Queen St West (Spadina), Toronto ON, Canada]</td>\n",
       "      <td>[{'label': 'display', 'lat': 43.64896344297954...</td>\n",
       "      <td>43.648963</td>\n",
       "      <td>-79.396820</td>\n",
       "      <td>NaN</td>\n",
       "      <td>ON</td>\n",
       "      <td>Local Resident and Tourist Kettle</td>\n",
       "      <td>v-1587818546</td>\n",
       "    </tr>\n",
       "    <tr>\n",
       "      <th>1</th>\n",
       "      <td>[{'id': '4f4530164b9074f6e4fb00ff', 'name': 'T...</td>\n",
       "      <td>False</td>\n",
       "      <td>5b119a2251950e002c1b7c4b</td>\n",
       "      <td>481 University Ave.</td>\n",
       "      <td>CA</td>\n",
       "      <td>Toronto</td>\n",
       "      <td>Canada</td>\n",
       "      <td>NaN</td>\n",
       "      <td>896</td>\n",
       "      <td>[481 University Ave., Toronto ON M5G 2E9, Canada]</td>\n",
       "      <td>[{'label': 'display', 'lat': 43.650894, 'lng':...</td>\n",
       "      <td>43.650894</td>\n",
       "      <td>-79.386563</td>\n",
       "      <td>M5G 2E9</td>\n",
       "      <td>ON</td>\n",
       "      <td>Japan National Tourist Organization - JNTO</td>\n",
       "      <td>v-1587818546</td>\n",
       "    </tr>\n",
       "  </tbody>\n",
       "</table>\n",
       "</div>"
      ],
      "text/plain": [
       "                                          categories  hasPerk  \\\n",
       "0  [{'id': '4bf58dd8d48988d126941735', 'name': 'G...    False   \n",
       "1  [{'id': '4f4530164b9074f6e4fb00ff', 'name': 'T...    False   \n",
       "\n",
       "                         id     location.address location.cc location.city  \\\n",
       "0  4c29077f3492a593d04cb828        Queen St West          CA       Toronto   \n",
       "1  5b119a2251950e002c1b7c4b  481 University Ave.          CA       Toronto   \n",
       "\n",
       "  location.country location.crossStreet  location.distance  \\\n",
       "0           Canada              Spadina               1231   \n",
       "1           Canada                  NaN                896   \n",
       "\n",
       "                           location.formattedAddress  \\\n",
       "0      [Queen St West (Spadina), Toronto ON, Canada]   \n",
       "1  [481 University Ave., Toronto ON M5G 2E9, Canada]   \n",
       "\n",
       "                             location.labeledLatLngs  location.lat  \\\n",
       "0  [{'label': 'display', 'lat': 43.64896344297954...     43.648963   \n",
       "1  [{'label': 'display', 'lat': 43.650894, 'lng':...     43.650894   \n",
       "\n",
       "   location.lng location.postalCode location.state  \\\n",
       "0    -79.396820                 NaN             ON   \n",
       "1    -79.386563             M5G 2E9             ON   \n",
       "\n",
       "                                         name    referralId  \n",
       "0           Local Resident and Tourist Kettle  v-1587818546  \n",
       "1  Japan National Tourist Organization - JNTO  v-1587818546  "
      ]
     },
     "execution_count": 11,
     "metadata": {},
     "output_type": "execute_result"
    }
   ],
   "source": [
    "venues = results['response']['venues']\n",
    "\n",
    "dataframe = json_normalize(venues)\n",
    "dataframe.head()"
   ]
  },
  {
   "cell_type": "code",
   "execution_count": 12,
   "metadata": {},
   "outputs": [
    {
     "data": {
      "text/html": [
       "<div>\n",
       "<style scoped>\n",
       "    .dataframe tbody tr th:only-of-type {\n",
       "        vertical-align: middle;\n",
       "    }\n",
       "\n",
       "    .dataframe tbody tr th {\n",
       "        vertical-align: top;\n",
       "    }\n",
       "\n",
       "    .dataframe thead th {\n",
       "        text-align: right;\n",
       "    }\n",
       "</style>\n",
       "<table border=\"1\" class=\"dataframe\">\n",
       "  <thead>\n",
       "    <tr style=\"text-align: right;\">\n",
       "      <th></th>\n",
       "      <th>name</th>\n",
       "      <th>categories</th>\n",
       "      <th>address</th>\n",
       "      <th>cc</th>\n",
       "      <th>city</th>\n",
       "      <th>country</th>\n",
       "      <th>crossStreet</th>\n",
       "      <th>distance</th>\n",
       "      <th>formattedAddress</th>\n",
       "      <th>labeledLatLngs</th>\n",
       "      <th>lat</th>\n",
       "      <th>lng</th>\n",
       "      <th>postalCode</th>\n",
       "      <th>state</th>\n",
       "      <th>id</th>\n",
       "    </tr>\n",
       "  </thead>\n",
       "  <tbody>\n",
       "    <tr>\n",
       "      <th>0</th>\n",
       "      <td>Local Resident and Tourist Kettle</td>\n",
       "      <td>Government Building</td>\n",
       "      <td>Queen St West</td>\n",
       "      <td>CA</td>\n",
       "      <td>Toronto</td>\n",
       "      <td>Canada</td>\n",
       "      <td>Spadina</td>\n",
       "      <td>1231</td>\n",
       "      <td>[Queen St West (Spadina), Toronto ON, Canada]</td>\n",
       "      <td>[{'label': 'display', 'lat': 43.64896344297954...</td>\n",
       "      <td>43.648963</td>\n",
       "      <td>-79.396820</td>\n",
       "      <td>NaN</td>\n",
       "      <td>ON</td>\n",
       "      <td>4c29077f3492a593d04cb828</td>\n",
       "    </tr>\n",
       "    <tr>\n",
       "      <th>1</th>\n",
       "      <td>Japan National Tourist Organization - JNTO</td>\n",
       "      <td>Tourist Information Center</td>\n",
       "      <td>481 University Ave.</td>\n",
       "      <td>CA</td>\n",
       "      <td>Toronto</td>\n",
       "      <td>Canada</td>\n",
       "      <td>NaN</td>\n",
       "      <td>896</td>\n",
       "      <td>[481 University Ave., Toronto ON M5G 2E9, Canada]</td>\n",
       "      <td>[{'label': 'display', 'lat': 43.650894, 'lng':...</td>\n",
       "      <td>43.650894</td>\n",
       "      <td>-79.386563</td>\n",
       "      <td>M5G 2E9</td>\n",
       "      <td>ON</td>\n",
       "      <td>5b119a2251950e002c1b7c4b</td>\n",
       "    </tr>\n",
       "  </tbody>\n",
       "</table>\n",
       "</div>"
      ],
      "text/plain": [
       "                                         name                  categories  \\\n",
       "0           Local Resident and Tourist Kettle         Government Building   \n",
       "1  Japan National Tourist Organization - JNTO  Tourist Information Center   \n",
       "\n",
       "               address  cc     city country crossStreet  distance  \\\n",
       "0        Queen St West  CA  Toronto  Canada     Spadina      1231   \n",
       "1  481 University Ave.  CA  Toronto  Canada         NaN       896   \n",
       "\n",
       "                                    formattedAddress  \\\n",
       "0      [Queen St West (Spadina), Toronto ON, Canada]   \n",
       "1  [481 University Ave., Toronto ON M5G 2E9, Canada]   \n",
       "\n",
       "                                      labeledLatLngs        lat        lng  \\\n",
       "0  [{'label': 'display', 'lat': 43.64896344297954...  43.648963 -79.396820   \n",
       "1  [{'label': 'display', 'lat': 43.650894, 'lng':...  43.650894 -79.386563   \n",
       "\n",
       "  postalCode state                        id  \n",
       "0        NaN    ON  4c29077f3492a593d04cb828  \n",
       "1    M5G 2E9    ON  5b119a2251950e002c1b7c4b  "
      ]
     },
     "execution_count": 12,
     "metadata": {},
     "output_type": "execute_result"
    }
   ],
   "source": [
    "filtered_columns = ['name', 'categories'] + [col for col in dataframe.columns if col.startswith('location.')] + ['id']\n",
    "dataframe_filtered = dataframe.loc[:, filtered_columns]\n",
    "\n",
    "\n",
    "def get_category_type(row):\n",
    "    try:\n",
    "        categories_list = row['categories']\n",
    "    except:\n",
    "        categories_list = row['venue.categories']\n",
    "        \n",
    "    if len(categories_list) == 0:\n",
    "        return None\n",
    "    else:\n",
    "        return categories_list[0]['name']\n",
    "\n",
    "\n",
    "dataframe_filtered['categories'] = dataframe_filtered.apply(get_category_type, axis=1)\n",
    "\n",
    "\n",
    "dataframe_filtered.columns = [column.split('.')[-1] for column in dataframe_filtered.columns]\n",
    "\n",
    "dataframe_filtered"
   ]
  },
  {
   "cell_type": "code",
   "execution_count": 13,
   "metadata": {},
   "outputs": [
    {
     "data": {
      "text/plain": [
       "0             Local Resident and Tourist Kettle\n",
       "1    Japan National Tourist Organization - JNTO\n",
       "Name: name, dtype: object"
      ]
     },
     "execution_count": 13,
     "metadata": {},
     "output_type": "execute_result"
    }
   ],
   "source": [
    "dataframe_filtered.name"
   ]
  },
  {
   "cell_type": "code",
   "execution_count": 14,
   "metadata": {},
   "outputs": [
    {
     "data": {
      "text/html": [
       "<div style=\"width:100%;\"><div style=\"position:relative;width:100%;height:0;padding-bottom:60%;\"><iframe src=\"about:blank\" style=\"position:absolute;width:100%;height:100%;left:0;top:0;border:none !important;\" data-html=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 onload=\"this.contentDocument.open();this.contentDocument.write(atob(this.getAttribute('data-html')));this.contentDocument.close();\" allowfullscreen webkitallowfullscreen mozallowfullscreen></iframe></div></div>"
      ],
      "text/plain": [
       "<folium.folium.Map at 0x2f2b151f710>"
      ]
     },
     "execution_count": 14,
     "metadata": {},
     "output_type": "execute_result"
    }
   ],
   "source": [
    "venues_map = folium.Map(location=[latitude, longitude], zoom_start=13) \n",
    "\n",
    "# add a red circle marker to represent the Conrad Hotel\n",
    "folium.features.CircleMarker(\n",
    "    [latitude, longitude],\n",
    "    radius=10,\n",
    "    color='red',\n",
    "    popup='Hotel',\n",
    "    fill = True,\n",
    "    fill_color = 'red',\n",
    "    fill_opacity = 0.6\n",
    ").add_to(venues_map)\n",
    "\n",
    "# add the Italian restaurants as blue circle markers\n",
    "for lat, lng, label in zip(dataframe_filtered.lat, dataframe_filtered.lng, dataframe_filtered.categories):\n",
    "    folium.features.CircleMarker(\n",
    "        [lat, lng],\n",
    "        radius=5,\n",
    "        color='blue',\n",
    "        popup=label,\n",
    "        fill = True,\n",
    "        fill_color='blue',\n",
    "        fill_opacity=0.6\n",
    "    ).add_to(venues_map)\n",
    "\n",
    "venues_map"
   ]
  },
  {
   "cell_type": "markdown",
   "metadata": {},
   "source": [
    "## As we can see the places are- \n",
    "\n",
    "### Local Resident and Tourist Kettle\n",
    "### Tourist Information Center"
   ]
  },
  {
   "cell_type": "code",
   "execution_count": null,
   "metadata": {},
   "outputs": [],
   "source": []
  }
 ],
 "metadata": {
  "kernelspec": {
   "display_name": "Python 3",
   "language": "python",
   "name": "python3"
  },
  "language_info": {
   "codemirror_mode": {
    "name": "ipython",
    "version": 3
   },
   "file_extension": ".py",
   "mimetype": "text/x-python",
   "name": "python",
   "nbconvert_exporter": "python",
   "pygments_lexer": "ipython3",
   "version": "3.7.3"
  }
 },
 "nbformat": 4,
 "nbformat_minor": 2
}
